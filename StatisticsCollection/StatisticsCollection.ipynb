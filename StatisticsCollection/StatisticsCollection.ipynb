{
 "cells": [
  {
   "cell_type": "code",
   "execution_count": 1,
   "metadata": {
    "id": "ru4AYZS0cqsm"
   },
   "outputs": [],
   "source": [
    "!mkdir Metrics"
   ]
  },
  {
   "cell_type": "code",
   "execution_count": 2,
   "metadata": {
    "id": "7wMcC1A0Sf6j"
   },
   "outputs": [],
   "source": [
    "from IPython.display import clear_output"
   ]
  },
  {
   "cell_type": "code",
   "execution_count": 3,
   "metadata": {
    "id": "cfw9Ee7fWWUm"
   },
   "outputs": [],
   "source": [
    "!unzip Data_raw_csv.zip -d Metrics/\n",
    "clear_output()"
   ]
  },
  {
   "cell_type": "code",
   "execution_count": 4,
   "metadata": {
    "id": "FrtC8s6IbC23"
   },
   "outputs": [],
   "source": [
    "!mv Metrics/Data_raw_csv Metrics/method"
   ]
  },
  {
   "cell_type": "code",
   "execution_count": 5,
   "metadata": {
    "id": "Y3kxM9M8R65L"
   },
   "outputs": [],
   "source": [
    "!gdown 1VvB7AYdjuFLijdwGuebmxN4Eacj7ZYEh\n",
    "!gdown 1STvGEj2aZHULaMlynvexRI2lnN2qi1Zs\n",
    "!gdown 1G9-Doa2oUHNpUIuLNPTTIidPTuKpD-jZ\n",
    "!gdown 17z_QWDiWzTFw_u5gFwArL7JaV3nVunua\n",
    "!gdown 1nNXkEgtgqgSfj2sVH1adj0kmDE_-LkTZ\n",
    "\n",
    "!unzip /content/SMResultsPart0.zip -d /content/SMResultsPart0\n",
    "!unzip /content/SMResultsPart1_1.zip -d /content/SMResultsPart1_1\n",
    "!unzip /content/SMResultsPart1_2.zip -d /content/SMResultsPart1_2\n",
    "!unzip /content/SMResultsPart2.zip -d /content/SMResultsPart2\n",
    "!unzip /content/SMResultsPart3.zip -d /content/SMResultsPart3\n",
    "\n",
    "clear_output()"
   ]
  },
  {
   "cell_type": "code",
   "execution_count": 6,
   "metadata": {
    "id": "R6bzioSpc8p_"
   },
   "outputs": [],
   "source": [
    "!mkdir Metrics/class"
   ]
  },
  {
   "cell_type": "code",
   "execution_count": 7,
   "metadata": {
    "id": "vQpzzg2-S5rT"
   },
   "outputs": [],
   "source": [
    "from pathlib import Path, PurePath\n",
    "import pandas as pd\n",
    "import os"
   ]
  },
  {
   "cell_type": "code",
   "execution_count": 8,
   "metadata": {
    "id": "cMpbnoslEvad"
   },
   "outputs": [],
   "source": [
    "class_metrics = [\"Path\", \"Name\", \"LCOM5\", \"NL\", \"NLE\", \"WMC\", \"CBO\", \"CBOI\", \"NII\", \"NOI\",\n",
    "                 \"RFC\", \"CD\", \"CLOC\", \"DIT\", \"NOA\", \"NOC\", \"NOD\", \"NOP\", \"LOC\",\n",
    "                 \"LLOC\", \"NA\", \"NM\", \"NLA\", \"NLM\", \"NOS\", \"TLOC\", \"TLLOC\",\n",
    "                 \"TNA\", \"TNM\", \"TNLA\", \"TNLM\", \"TNOS\"]"
   ]
  },
  {
   "cell_type": "code",
   "execution_count": 9,
   "metadata": {
    "id": "CdIcuEnoYIPM"
   },
   "outputs": [],
   "source": [
    "df_class = {\"repository\": []}\n",
    "for metric in class_metrics:\n",
    "    df_class[metric] = []\n",
    "for path in Path(\"/content\").glob(\"SMResultsPart*/Results/*/*/python\"):\n",
    "    csv_paths = list(path.glob(\"*/*-Class.csv\"))\n",
    "    if len(csv_paths) == 0 or path.parts[-2] in df_class[\"repository\"]:\n",
    "        continue\n",
    "    df = pd.read_csv(csv_paths[0])[class_metrics]\n",
    "    if not os.path.exists(f\"Metrics/class/{path.parts[-2]}\"):\n",
    "        os.mkdir(f\"Metrics/class/{path.parts[-2]}\")\n",
    "    df.to_csv(f\"Metrics/class/{path.parts[-2]}/sm_metrics.csv\")"
   ]
  },
  {
   "cell_type": "code",
   "execution_count": 10,
   "metadata": {
    "id": "ZMFGjafccLM2"
   },
   "outputs": [],
   "source": [
    "method_metrics = [\"Path\", \"Name\", \"McCC\", \"NL\", \"NLE\", \"NII\", \"NOI\", \"CD\", \"CLOC\", \"DLOC\",\n",
    "                  \"TCD\", \"TCLOC\", \"LLOC\", \"LOC\", \"NOS\", \"NUMPAR\", \"TLLOC\",\n",
    "                  \"TLOC\", \"TNOS\"]"
   ]
  },
  {
   "cell_type": "code",
   "execution_count": 11,
   "metadata": {
    "id": "02oFgLKZZg73"
   },
   "outputs": [],
   "source": [
    "df_method = {\"repository\": []}\n",
    "for metric in method_metrics:\n",
    "    df_method[metric] = []\n",
    "for path in Path(\"/content\").glob(\"SMResultsPart*/Results/*/*/python\"):\n",
    "    csv_paths = list(path.glob(\"*/*-Method.csv\"))\n",
    "    if len(csv_paths) == 0 or path.parts[-2] in df_method[\"repository\"]:\n",
    "        continue\n",
    "    df = pd.read_csv(csv_paths[0])[method_metrics]\n",
    "    if not os.path.exists(f\"Metrics/method/{path.parts[-2]}\"):\n",
    "        os.mkdir(f\"Metrics/method/{path.parts[-2]}\")\n",
    "    df.to_csv(f\"Metrics/method/{path.parts[-2]}/sm_metrics.csv\")"
   ]
  },
  {
   "cell_type": "code",
   "execution_count": null,
   "metadata": {
    "id": "qHIp-8OEkKa7"
   },
   "outputs": [],
   "source": [
    "!zip -r Metrics.zip Metrics/\n",
    "clear_output()"
   ]
  },
  {
   "cell_type": "code",
   "execution_count": null,
   "metadata": {
    "id": "2O7qwtCjk8uK"
   },
   "outputs": [],
   "source": [
    "!unzip \"Metrics (1).zip\"\n",
    "clear_output()"
   ]
  },
  {
   "cell_type": "code",
   "execution_count": 22,
   "metadata": {
    "colab": {
     "base_uri": "https://localhost:8080/"
    },
    "id": "lLj-BTiTnuTz",
    "outputId": "33e32e66-eb3d-4bb2-f8b5-02e7a9a7760c"
   },
   "outputs": [
    {
     "name": "stdout",
     "output_type": "stream",
     "text": [
      "Metrics/method/wenhao-gao_mol_opt\n",
      "Metrics/method/pytorch_audio\n",
      "Metrics/method/PaddlePaddle_PaddleOCR\n",
      "Metrics/method/ytdl-org_youtube-dl\n",
      "Metrics/method/localstack_localstack\n",
      "Metrics/method/apollos_opencv-practice\n",
      "Metrics/method/plotly_plotly.py\n",
      "Metrics/method/RasaHQ_rasa\n",
      "Metrics/method/jopohl_urh\n",
      "Metrics/method/nicolargo_glances\n",
      "Metrics/method/encode_django-rest-framework\n",
      "Metrics/method/quantopian_zipline\n",
      "Metrics/method/karlproject_karl\n",
      "Metrics/method/PrefectHQ_prefect\n",
      "Metrics/method/openai_gym\n",
      "Metrics/method/microsoft_nni\n",
      "Metrics/method/Mikubill_sd-webui-controlnet\n",
      "Metrics/method/explosion_spaCy\n",
      "Metrics/method/Rapptz_discord.py\n",
      "Metrics/method/aws_aws-cli\n",
      "Metrics/method/python-telegram-bot_python-telegram-bot\n",
      "Metrics/method/Rparadise-Team_Koriki\n",
      "Metrics/method/dragonpilot-community_dp-devel\n",
      "Metrics/method/networkx_networkx\n",
      "Metrics/method/ludwig-ai_ludwig\n",
      "Metrics/method/aleju_imgaug\n",
      "Metrics/method/jorisschellekens_borb\n",
      "Metrics/method/matplotlib_matplotlib\n",
      "Metrics/method/neuropsychology_NeuroKit\n",
      "Metrics/method/gradio-app_gradio\n",
      "Metrics/method/unifyai_ivy\n",
      "Metrics/method/merenlab_anvio\n",
      "Metrics/method/intel_dffml\n",
      "Metrics/method/lm-sys_FastChat\n",
      "Metrics/method/HumanSignal_label-studio\n",
      "Metrics/method/OpenBB-finance_OpenBBTerminal\n",
      "Metrics/method/certbot_certbot\n",
      "Metrics/method/pypa_pipenv\n",
      "Metrics/method/python_mypy\n",
      "Metrics/method/PaddlePaddle_PaddleNLP\n",
      "Metrics/method/mlflow_mlflow\n",
      "Metrics/method/facebookresearch_ParlAI\n",
      "Metrics/method/pyodide_pyodide\n",
      "Metrics/method/borgbackup_borg\n",
      "Metrics/method/flairNLP_flair\n",
      "Metrics/method/ultralytics_ultralytics\n",
      "Metrics/method/recommenders-team_recommenders\n",
      "Metrics/method/spotDL_spotify-downloader\n",
      "Metrics/method/huggingface_diffusers\n",
      "Metrics/method/yt-dlp_yt-dlp\n",
      "Metrics/method/commaai_openpilot\n",
      "Metrics/method/Lightning-AI_lightning\n",
      "Metrics/method/babysor_MockingBird\n",
      "Metrics/method/lllyasviel_ControlNet\n",
      "Metrics/method/ranger_ranger\n",
      "Metrics/method/numpy_numpy\n",
      "Metrics/method/jantic_DeOldify\n",
      "Metrics/method/horovod_horovod\n",
      "Metrics/method/hankcs_HanLP\n",
      "Metrics/method/comfyanonymous_ComfyUI\n",
      "Metrics/method/google_jax\n",
      "Metrics/method/Delgan_loguru\n",
      "Metrics/method/uds-se_debuggingbook\n",
      "Metrics/method/gunthercox_ChatterBot\n",
      "Metrics/method/python-poetry_poetry\n",
      "Metrics/method/keras-team_keras\n",
      "Metrics/method/cfpb_consumerfinance.gov\n",
      "Metrics/method/ipython_ipython\n",
      "Metrics/method/compas-dev_compas\n",
      "Metrics/method/facebookresearch_detectron2\n",
      "Metrics/method/LAION-AI_Open-Assistant\n",
      "Metrics/method/mindsdb_mindsdb\n",
      "Metrics/method/lllyasviel_Fooocus\n",
      "Metrics/method/RaRe-Technologies_gensim\n",
      "Metrics/method/reflex-dev_reflex\n",
      "Metrics/method/saltstack_salt\n",
      "Metrics/method/pyecharts_pyecharts\n",
      "Metrics/method/jina-ai_jina\n",
      "Metrics/method/zhayujie_chatgpt-on-wechat\n",
      "Metrics/method/netbox-community_netbox\n",
      "Metrics/method/geekcomputers_Python\n",
      "Metrics/method/open-mmlab_mmdetection\n",
      "Metrics/method/ietf-tools_datatracker\n",
      "Metrics/method/aio-libs_aiohttp\n",
      "Metrics/method/kivy_kivy\n",
      "Metrics/method/twitter_the-algorithm-ml\n",
      "Metrics/method/joke2k_faker\n",
      "Metrics/method/oobabooga_text-generation-webui\n",
      "Metrics/method/apache_tvm\n",
      "Metrics/method/mlc-ai_mlc-llm\n",
      "Metrics/method/tiangolo_fastapi\n",
      "Metrics/method/huggingface_transformers\n",
      "Metrics/method/ray-project_ray\n",
      "Metrics/method/Ciphey_Ciphey\n",
      "Metrics/method/OpenBMB_ChatDev\n",
      "Metrics/method/ansible_ansible\n",
      "Metrics/method/nvbn_thefuck\n",
      "Metrics/method/psf_black\n",
      "Metrics/method/Textualize_rich\n",
      "Metrics/method/frappe_erpnext\n",
      "Metrics/method/nateemma_strategies\n",
      "Metrics/method/hpcaitech_ColossalAI\n",
      "Metrics/method/CMSgov_bluebutton-web-server\n",
      "Metrics/method/mitmproxy_mitmproxy\n",
      "Metrics/method/sanic-org_sanic\n",
      "Metrics/method/n00mkrad_flowframes\n",
      "Metrics/method/freqtrade_freqtrade\n",
      "Metrics/method/ddbourgin_numpy-ml\n",
      "Metrics/method/Nuitka_Nuitka\n",
      "Metrics/method/kovidgoyal_calibre\n",
      "Metrics/method/pytorch_pytorch\n",
      "Metrics/method/huggingface_pytorch-image-models\n",
      "Metrics/method/streamlit_streamlit\n",
      "Metrics/method/SiCKRAGE_SiCKRAGE\n",
      "Metrics/method/powerline_powerline\n",
      "Metrics/method/XX-net_XX-Net\n",
      "Metrics/method/scrapy_scrapy\n",
      "Metrics/method/jyrkioraskari_IFCtoLBD\n",
      "Metrics/method/django_django\n",
      "Metrics/method/spotify_luigi\n",
      "Metrics/method/geekan_MetaGPT\n",
      "Metrics/method/sqlmapproject_sqlmap\n",
      "Metrics/method/smicallef_spiderfoot\n",
      "Metrics/method/pytorch_vision\n",
      "Metrics/method/AUTOMATIC1111_stable-diffusion-webui\n",
      "Metrics/method/httpie_cli\n",
      "Metrics/method/microsoft_unilm\n",
      "Metrics/method/pandas-dev_pandas\n",
      "Metrics/method/microsoft_DeepSpeed\n"
     ]
    }
   ],
   "source": [
    "import os\n",
    "import pandas as pd\n",
    "\n",
    "dir = \"Metrics/method/\"\n",
    "for repository in os.listdir(dir):\n",
    "    print(dir + repository)\n",
    "    if not os.path.exists(dir + repository + '/radon_metrics.csv'):\n",
    "        continue\n",
    "    radon_df = pd.read_csv(dir + repository + '/radon_metrics.csv')\n",
    "    radon_df = radon_df.rename({\"Unnamed: 0\": \"Fullname\"}, axis=1)\n",
    "    slash_index = radon_df.loc[0, \"Fullname\"].find('/')\n",
    "    radon_df['Fullname'] = radon_df['Fullname'].apply(lambda x: x[slash_index+1:])\n",
    "\n",
    "    if not os.path.exists(dir + repository + '/sm_metrics.csv'):\n",
    "        continue\n",
    "    sm_df = pd.read_csv(dir + repository + '/sm_metrics.csv')\n",
    "    sm_df[\"Fullname\"] = sm_df[\"Path\"] + '/' + sm_df[\"Name\"]\n",
    "    sm_df = sm_df.dropna(subset=[\"Fullname\"])\n",
    "    sm_df[\"Fullname\"] = sm_df[\"Fullname\"].apply(lambda x: x.replace('/content/', ''))\n",
    "    sm_df = sm_df.drop([\"Unnamed: 0\", \"Path\", \"Name\"], axis=1)\n",
    "\n",
    "    method_metrics_df = radon_df.merge(sm_df, on='Fullname', how='inner')\n",
    "    method_metrics_df.to_csv(dir + repository + '/method_metrics.csv')"
   ]
  },
  {
   "cell_type": "code",
   "execution_count": null,
   "metadata": {
    "id": "W62wV6VssGld"
   },
   "outputs": [],
   "source": [
    "from IPython.display import clear_output\n",
    "\n",
    "!zip -r MetricsMerged.zip Metrics/\n",
    "clear_output()"
   ]
  },
  {
   "cell_type": "code",
   "execution_count": 1,
   "metadata": {
    "id": "F9uz8jT22MHx"
   },
   "outputs": [],
   "source": [
    "from IPython.display import clear_output\n",
    "\n",
    "!unzip MetricsMerged.zip\n",
    "clear_output()"
   ]
  },
  {
   "cell_type": "markdown",
   "metadata": {
    "id": "2VZQgDR1y6yg"
   },
   "source": [
    "GA"
   ]
  },
  {
   "cell_type": "code",
   "execution_count": 2,
   "metadata": {
    "colab": {
     "base_uri": "https://localhost:8080/"
    },
    "id": "dHKVs7uQzIB4",
    "outputId": "d754460b-b667-46b7-fa16-c10a29ae5c86"
   },
   "outputs": [
    {
     "name": "stdout",
     "output_type": "stream",
     "text": [
      "Cloning into 'EMProject'...\n",
      "remote: Enumerating objects: 149, done.\u001b[K\n",
      "remote: Counting objects: 100% (149/149), done.\u001b[K\n",
      "remote: Compressing objects: 100% (116/116), done.\u001b[K\n",
      "remote: Total 149 (delta 57), reused 108 (delta 28), pack-reused 0\u001b[K\n",
      "Receiving objects: 100% (149/149), 857.79 KiB | 3.03 MiB/s, done.\n",
      "Resolving deltas: 100% (57/57), done.\n"
     ]
    }
   ],
   "source": [
    "!git clone https://github.com/angayunpa/EMProject.git"
   ]
  },
  {
   "cell_type": "code",
   "execution_count": 1,
   "metadata": {
    "id": "VxAmE4VMzSOX"
   },
   "outputs": [],
   "source": [
    "import pandas as pd\n",
    "import numpy as np\n",
    "import torch\n",
    "import torch.nn as nn\n",
    "from scipy.spatial.distance import cdist\n",
    "from tqdm.notebook import tqdm\n",
    "import itertools\n",
    "\n",
    "from EMProject.MainTask.utils import sammon_error\n",
    "from EMProject.MainTask.GA import GA"
   ]
  },
  {
   "cell_type": "code",
   "execution_count": 2,
   "metadata": {
    "id": "Ldiq71dw1d5p"
   },
   "outputs": [],
   "source": [
    "import json\n",
    "import os\n",
    "import gc"
   ]
  },
  {
   "cell_type": "code",
   "execution_count": 6,
   "metadata": {
    "id": "Nc494arvygbQ"
   },
   "outputs": [],
   "source": [
    "!mkdir -p Statistics/GA/class\n",
    "!mkdir -p Statistics/GA/method"
   ]
  },
  {
   "cell_type": "code",
   "execution_count": 7,
   "metadata": {
    "colab": {
     "base_uri": "https://localhost:8080/",
     "height": 430,
     "referenced_widgets": [
      "e5d068325a84489c96267594e8459c25",
      "129a2ce0680c42c8b120d8a1503b0267",
      "fa43b027c70d4a809b062e155010ca6c",
      "75a5ebb4825e42b48c116a251ed4eddb",
      "62634b22dc05435ca90f8b55b710b2a1",
      "3e7c4f16fb50458c9f33b9b412d57bdc",
      "f3fb6168455249efaec9fa6c1741f87e",
      "61343ced08a24cefa715cdb7db64a11e",
      "711d9d03d54a4a419fce66cee2817140",
      "e7eac95332284abd87bb1f84fb553281",
      "23748bc03a324720b549dd62fabd0385",
      "3c655077de6e4dbd9ba9690102005aa3",
      "0b62ca2d05874a1eab01af72bb1b1f48",
      "c10a86cb0f88418a8aa6d2537ccee020",
      "a4e58116e4e340a6b54afd2a6441457f",
      "7d7d90164cbc415cb37bf771cf8cf644",
      "bfe99a92f08343f2aa85db484aff9344",
      "ce8f753ead724e67bfdf2ba55c23157b",
      "bd85963cf54d4ec396bdddc29a72ff05",
      "4fbe615210e64cc58e2aedfb4bc0e174",
      "880819af38d34ed887aa64bd6b2706f5",
      "817b5388b9a9404da9c86aae940ce096"
     ]
    },
    "id": "NMo2arCDtGQM",
    "outputId": "aaf72fe0-7be8-4601-e127-ec65cd8dffbf",
    "scrolled": true
   },
   "outputs": [
    {
     "data": {
      "application/vnd.jupyter.widget-view+json": {
       "model_id": "62288356fb4f42ac8fe435fa34ac492a",
       "version_major": 2,
       "version_minor": 0
      },
      "text/plain": [
       "  0%|          | 0/129 [00:00<?, ?it/s]"
      ]
     },
     "metadata": {},
     "output_type": "display_data"
    },
    {
     "data": {
      "application/vnd.jupyter.widget-view+json": {
       "model_id": "2b3678a9ca89416391afc7025d65e915",
       "version_major": 2,
       "version_minor": 0
      },
      "text/plain": [
       "  0%|          | 0/25 [00:00<?, ?it/s]"
      ]
     },
     "metadata": {},
     "output_type": "display_data"
    },
    {
     "data": {
      "application/vnd.jupyter.widget-view+json": {
       "model_id": "8175f434fca949ada194e000727cbebb",
       "version_major": 2,
       "version_minor": 0
      },
      "text/plain": [
       "  0%|          | 0/25 [00:00<?, ?it/s]"
      ]
     },
     "metadata": {},
     "output_type": "display_data"
    },
    {
     "data": {
      "application/vnd.jupyter.widget-view+json": {
       "model_id": "b3c9a62b959d4d3e93e311e46f0d637a",
       "version_major": 2,
       "version_minor": 0
      },
      "text/plain": [
       "  0%|          | 0/25 [00:00<?, ?it/s]"
      ]
     },
     "metadata": {},
     "output_type": "display_data"
    },
    {
     "data": {
      "application/vnd.jupyter.widget-view+json": {
       "model_id": "4c1b44442ea14494bbc98a7c2517d62e",
       "version_major": 2,
       "version_minor": 0
      },
      "text/plain": [
       "  0%|          | 0/25 [00:00<?, ?it/s]"
      ]
     },
     "metadata": {},
     "output_type": "display_data"
    },
    {
     "data": {
      "application/vnd.jupyter.widget-view+json": {
       "model_id": "054e9a46610c409d8eece66cc47cc33f",
       "version_major": 2,
       "version_minor": 0
      },
      "text/plain": [
       "  0%|          | 0/25 [00:00<?, ?it/s]"
      ]
     },
     "metadata": {},
     "output_type": "display_data"
    },
    {
     "data": {
      "application/vnd.jupyter.widget-view+json": {
       "model_id": "1722a15cc31844798e40e100c0316d78",
       "version_major": 2,
       "version_minor": 0
      },
      "text/plain": [
       "  0%|          | 0/25 [00:00<?, ?it/s]"
      ]
     },
     "metadata": {},
     "output_type": "display_data"
    },
    {
     "data": {
      "application/vnd.jupyter.widget-view+json": {
       "model_id": "5abac9ae708946c1beacddbefb09972c",
       "version_major": 2,
       "version_minor": 0
      },
      "text/plain": [
       "  0%|          | 0/25 [00:00<?, ?it/s]"
      ]
     },
     "metadata": {},
     "output_type": "display_data"
    },
    {
     "data": {
      "application/vnd.jupyter.widget-view+json": {
       "model_id": "a2dcd0fe310f4bbf8f660039ae99f5ed",
       "version_major": 2,
       "version_minor": 0
      },
      "text/plain": [
       "  0%|          | 0/25 [00:00<?, ?it/s]"
      ]
     },
     "metadata": {},
     "output_type": "display_data"
    },
    {
     "data": {
      "application/vnd.jupyter.widget-view+json": {
       "model_id": "d4dd0be5cc164cbd9c27d3a9389d7c28",
       "version_major": 2,
       "version_minor": 0
      },
      "text/plain": [
       "  0%|          | 0/25 [00:00<?, ?it/s]"
      ]
     },
     "metadata": {},
     "output_type": "display_data"
    },
    {
     "data": {
      "application/vnd.jupyter.widget-view+json": {
       "model_id": "6abe0c3b22ef46728749d9a8b9a63b44",
       "version_major": 2,
       "version_minor": 0
      },
      "text/plain": [
       "  0%|          | 0/25 [00:00<?, ?it/s]"
      ]
     },
     "metadata": {},
     "output_type": "display_data"
    },
    {
     "data": {
      "application/vnd.jupyter.widget-view+json": {
       "model_id": "ec06bc1424c94ed687907a290e9893d3",
       "version_major": 2,
       "version_minor": 0
      },
      "text/plain": [
       "  0%|          | 0/25 [00:00<?, ?it/s]"
      ]
     },
     "metadata": {},
     "output_type": "display_data"
    },
    {
     "data": {
      "application/vnd.jupyter.widget-view+json": {
       "model_id": "3a11313cbf6f45ceb6d8141c49bc1bfa",
       "version_major": 2,
       "version_minor": 0
      },
      "text/plain": [
       "  0%|          | 0/25 [00:00<?, ?it/s]"
      ]
     },
     "metadata": {},
     "output_type": "display_data"
    },
    {
     "data": {
      "application/vnd.jupyter.widget-view+json": {
       "model_id": "bcf9c43dde4d40338dd2b1d60f512f07",
       "version_major": 2,
       "version_minor": 0
      },
      "text/plain": [
       "  0%|          | 0/25 [00:00<?, ?it/s]"
      ]
     },
     "metadata": {},
     "output_type": "display_data"
    },
    {
     "data": {
      "application/vnd.jupyter.widget-view+json": {
       "model_id": "af1eb3bb055748ffb90dd482fa98d962",
       "version_major": 2,
       "version_minor": 0
      },
      "text/plain": [
       "  0%|          | 0/25 [00:00<?, ?it/s]"
      ]
     },
     "metadata": {},
     "output_type": "display_data"
    },
    {
     "data": {
      "application/vnd.jupyter.widget-view+json": {
       "model_id": "9b37f4f4d9a64f53971e70ee74817abc",
       "version_major": 2,
       "version_minor": 0
      },
      "text/plain": [
       "  0%|          | 0/25 [00:00<?, ?it/s]"
      ]
     },
     "metadata": {},
     "output_type": "display_data"
    },
    {
     "data": {
      "application/vnd.jupyter.widget-view+json": {
       "model_id": "bc4e87b6bdf5407696f4b36e9318fa27",
       "version_major": 2,
       "version_minor": 0
      },
      "text/plain": [
       "  0%|          | 0/25 [00:00<?, ?it/s]"
      ]
     },
     "metadata": {},
     "output_type": "display_data"
    },
    {
     "data": {
      "application/vnd.jupyter.widget-view+json": {
       "model_id": "7d8ffebdb43e4109a62d7554eff48a00",
       "version_major": 2,
       "version_minor": 0
      },
      "text/plain": [
       "  0%|          | 0/25 [00:00<?, ?it/s]"
      ]
     },
     "metadata": {},
     "output_type": "display_data"
    },
    {
     "data": {
      "application/vnd.jupyter.widget-view+json": {
       "model_id": "bdfd0bf42e0e45eab2e4fc7319139dc7",
       "version_major": 2,
       "version_minor": 0
      },
      "text/plain": [
       "  0%|          | 0/25 [00:00<?, ?it/s]"
      ]
     },
     "metadata": {},
     "output_type": "display_data"
    },
    {
     "data": {
      "application/vnd.jupyter.widget-view+json": {
       "model_id": "2688f9bac1aa4d62830dd1916bf0c159",
       "version_major": 2,
       "version_minor": 0
      },
      "text/plain": [
       "  0%|          | 0/25 [00:00<?, ?it/s]"
      ]
     },
     "metadata": {},
     "output_type": "display_data"
    },
    {
     "data": {
      "application/vnd.jupyter.widget-view+json": {
       "model_id": "1f5d732f8a2540e49a98da453ea85ce3",
       "version_major": 2,
       "version_minor": 0
      },
      "text/plain": [
       "  0%|          | 0/25 [00:00<?, ?it/s]"
      ]
     },
     "metadata": {},
     "output_type": "display_data"
    },
    {
     "data": {
      "application/vnd.jupyter.widget-view+json": {
       "model_id": "86ef64c3b38b4b4ea3af1fab3f76020e",
       "version_major": 2,
       "version_minor": 0
      },
      "text/plain": [
       "  0%|          | 0/25 [00:00<?, ?it/s]"
      ]
     },
     "metadata": {},
     "output_type": "display_data"
    },
    {
     "data": {
      "application/vnd.jupyter.widget-view+json": {
       "model_id": "c55ea3268b4e4583967cb6b5087019de",
       "version_major": 2,
       "version_minor": 0
      },
      "text/plain": [
       "  0%|          | 0/25 [00:00<?, ?it/s]"
      ]
     },
     "metadata": {},
     "output_type": "display_data"
    },
    {
     "data": {
      "application/vnd.jupyter.widget-view+json": {
       "model_id": "c56c4cc3fb244448944fd4a5b84c0c34",
       "version_major": 2,
       "version_minor": 0
      },
      "text/plain": [
       "  0%|          | 0/25 [00:00<?, ?it/s]"
      ]
     },
     "metadata": {},
     "output_type": "display_data"
    },
    {
     "data": {
      "application/vnd.jupyter.widget-view+json": {
       "model_id": "09d9fa785f97414580f21bbb23aa3ac1",
       "version_major": 2,
       "version_minor": 0
      },
      "text/plain": [
       "  0%|          | 0/25 [00:00<?, ?it/s]"
      ]
     },
     "metadata": {},
     "output_type": "display_data"
    },
    {
     "data": {
      "application/vnd.jupyter.widget-view+json": {
       "model_id": "c8a0344e0ec544d580933af0406b988c",
       "version_major": 2,
       "version_minor": 0
      },
      "text/plain": [
       "  0%|          | 0/25 [00:00<?, ?it/s]"
      ]
     },
     "metadata": {},
     "output_type": "display_data"
    },
    {
     "data": {
      "application/vnd.jupyter.widget-view+json": {
       "model_id": "212c51d46b144412a0c7acf48cb48a4b",
       "version_major": 2,
       "version_minor": 0
      },
      "text/plain": [
       "  0%|          | 0/25 [00:00<?, ?it/s]"
      ]
     },
     "metadata": {},
     "output_type": "display_data"
    },
    {
     "data": {
      "application/vnd.jupyter.widget-view+json": {
       "model_id": "91a72048b1d243cab67e2698a7596b7f",
       "version_major": 2,
       "version_minor": 0
      },
      "text/plain": [
       "  0%|          | 0/25 [00:00<?, ?it/s]"
      ]
     },
     "metadata": {},
     "output_type": "display_data"
    },
    {
     "data": {
      "application/vnd.jupyter.widget-view+json": {
       "model_id": "c933adeeee9040c9a493ef8db2518f47",
       "version_major": 2,
       "version_minor": 0
      },
      "text/plain": [
       "  0%|          | 0/25 [00:00<?, ?it/s]"
      ]
     },
     "metadata": {},
     "output_type": "display_data"
    },
    {
     "data": {
      "application/vnd.jupyter.widget-view+json": {
       "model_id": "5427a19c7b264391b8e407f3ca253a90",
       "version_major": 2,
       "version_minor": 0
      },
      "text/plain": [
       "  0%|          | 0/25 [00:00<?, ?it/s]"
      ]
     },
     "metadata": {},
     "output_type": "display_data"
    },
    {
     "data": {
      "application/vnd.jupyter.widget-view+json": {
       "model_id": "cc0604ea9a604f3fa56083189f7f879b",
       "version_major": 2,
       "version_minor": 0
      },
      "text/plain": [
       "  0%|          | 0/25 [00:00<?, ?it/s]"
      ]
     },
     "metadata": {},
     "output_type": "display_data"
    },
    {
     "data": {
      "application/vnd.jupyter.widget-view+json": {
       "model_id": "cf92427348644fccaf2a34dd0b5e20cb",
       "version_major": 2,
       "version_minor": 0
      },
      "text/plain": [
       "  0%|          | 0/25 [00:00<?, ?it/s]"
      ]
     },
     "metadata": {},
     "output_type": "display_data"
    },
    {
     "data": {
      "application/vnd.jupyter.widget-view+json": {
       "model_id": "9caa3f6bd02544028936b170ea71ea35",
       "version_major": 2,
       "version_minor": 0
      },
      "text/plain": [
       "  0%|          | 0/25 [00:00<?, ?it/s]"
      ]
     },
     "metadata": {},
     "output_type": "display_data"
    },
    {
     "data": {
      "application/vnd.jupyter.widget-view+json": {
       "model_id": "ec7a74cec6304127a4f78b482329d195",
       "version_major": 2,
       "version_minor": 0
      },
      "text/plain": [
       "  0%|          | 0/25 [00:00<?, ?it/s]"
      ]
     },
     "metadata": {},
     "output_type": "display_data"
    },
    {
     "data": {
      "application/vnd.jupyter.widget-view+json": {
       "model_id": "d0f43257b76a4d8388d15c0db016a17b",
       "version_major": 2,
       "version_minor": 0
      },
      "text/plain": [
       "  0%|          | 0/25 [00:00<?, ?it/s]"
      ]
     },
     "metadata": {},
     "output_type": "display_data"
    },
    {
     "data": {
      "application/vnd.jupyter.widget-view+json": {
       "model_id": "a17ef16a095e44ecb365a13f0f819466",
       "version_major": 2,
       "version_minor": 0
      },
      "text/plain": [
       "  0%|          | 0/25 [00:00<?, ?it/s]"
      ]
     },
     "metadata": {},
     "output_type": "display_data"
    },
    {
     "data": {
      "application/vnd.jupyter.widget-view+json": {
       "model_id": "67d0db8e90354264afa68454dd5a2ba7",
       "version_major": 2,
       "version_minor": 0
      },
      "text/plain": [
       "  0%|          | 0/25 [00:00<?, ?it/s]"
      ]
     },
     "metadata": {},
     "output_type": "display_data"
    },
    {
     "data": {
      "application/vnd.jupyter.widget-view+json": {
       "model_id": "0db19f99700c42e3bb385c57df31e6a6",
       "version_major": 2,
       "version_minor": 0
      },
      "text/plain": [
       "  0%|          | 0/25 [00:00<?, ?it/s]"
      ]
     },
     "metadata": {},
     "output_type": "display_data"
    },
    {
     "data": {
      "application/vnd.jupyter.widget-view+json": {
       "model_id": "d2422989c10e4ba4b06b3a3203740f84",
       "version_major": 2,
       "version_minor": 0
      },
      "text/plain": [
       "  0%|          | 0/25 [00:00<?, ?it/s]"
      ]
     },
     "metadata": {},
     "output_type": "display_data"
    },
    {
     "data": {
      "application/vnd.jupyter.widget-view+json": {
       "model_id": "7c38289ce6084165878d49f57575a56c",
       "version_major": 2,
       "version_minor": 0
      },
      "text/plain": [
       "  0%|          | 0/25 [00:00<?, ?it/s]"
      ]
     },
     "metadata": {},
     "output_type": "display_data"
    },
    {
     "data": {
      "application/vnd.jupyter.widget-view+json": {
       "model_id": "244ffec839e74d66ac513aa983f4c83e",
       "version_major": 2,
       "version_minor": 0
      },
      "text/plain": [
       "  0%|          | 0/25 [00:00<?, ?it/s]"
      ]
     },
     "metadata": {},
     "output_type": "display_data"
    },
    {
     "data": {
      "application/vnd.jupyter.widget-view+json": {
       "model_id": "0216a94de9d047eea3079b93a482f096",
       "version_major": 2,
       "version_minor": 0
      },
      "text/plain": [
       "  0%|          | 0/25 [00:00<?, ?it/s]"
      ]
     },
     "metadata": {},
     "output_type": "display_data"
    },
    {
     "data": {
      "application/vnd.jupyter.widget-view+json": {
       "model_id": "c1e7ebcaad424480b604600f4109c3be",
       "version_major": 2,
       "version_minor": 0
      },
      "text/plain": [
       "  0%|          | 0/25 [00:00<?, ?it/s]"
      ]
     },
     "metadata": {},
     "output_type": "display_data"
    },
    {
     "data": {
      "application/vnd.jupyter.widget-view+json": {
       "model_id": "0ee0ff21585a459d8b88a7039528d48f",
       "version_major": 2,
       "version_minor": 0
      },
      "text/plain": [
       "  0%|          | 0/25 [00:00<?, ?it/s]"
      ]
     },
     "metadata": {},
     "output_type": "display_data"
    },
    {
     "data": {
      "application/vnd.jupyter.widget-view+json": {
       "model_id": "96eb9e68390f48f2b0f1d6eb5b1bdbae",
       "version_major": 2,
       "version_minor": 0
      },
      "text/plain": [
       "  0%|          | 0/25 [00:00<?, ?it/s]"
      ]
     },
     "metadata": {},
     "output_type": "display_data"
    },
    {
     "data": {
      "application/vnd.jupyter.widget-view+json": {
       "model_id": "c5c3f04b8b7e43249d8214ecd9860ed5",
       "version_major": 2,
       "version_minor": 0
      },
      "text/plain": [
       "  0%|          | 0/25 [00:00<?, ?it/s]"
      ]
     },
     "metadata": {},
     "output_type": "display_data"
    },
    {
     "data": {
      "application/vnd.jupyter.widget-view+json": {
       "model_id": "0c7173ad3a3549bf96254c24402c9dd2",
       "version_major": 2,
       "version_minor": 0
      },
      "text/plain": [
       "  0%|          | 0/25 [00:00<?, ?it/s]"
      ]
     },
     "metadata": {},
     "output_type": "display_data"
    },
    {
     "data": {
      "application/vnd.jupyter.widget-view+json": {
       "model_id": "4eb6d15c42124e4d9bdb1ccafe2a9567",
       "version_major": 2,
       "version_minor": 0
      },
      "text/plain": [
       "  0%|          | 0/25 [00:00<?, ?it/s]"
      ]
     },
     "metadata": {},
     "output_type": "display_data"
    },
    {
     "data": {
      "application/vnd.jupyter.widget-view+json": {
       "model_id": "a22b146c36394d96930c10c64a21693f",
       "version_major": 2,
       "version_minor": 0
      },
      "text/plain": [
       "  0%|          | 0/25 [00:00<?, ?it/s]"
      ]
     },
     "metadata": {},
     "output_type": "display_data"
    },
    {
     "data": {
      "application/vnd.jupyter.widget-view+json": {
       "model_id": "2f46b1ca510748b8ad6eb507a79adccb",
       "version_major": 2,
       "version_minor": 0
      },
      "text/plain": [
       "  0%|          | 0/25 [00:00<?, ?it/s]"
      ]
     },
     "metadata": {},
     "output_type": "display_data"
    },
    {
     "data": {
      "application/vnd.jupyter.widget-view+json": {
       "model_id": "416626f776d3466a9a2d3e72448a6f25",
       "version_major": 2,
       "version_minor": 0
      },
      "text/plain": [
       "  0%|          | 0/25 [00:00<?, ?it/s]"
      ]
     },
     "metadata": {},
     "output_type": "display_data"
    },
    {
     "data": {
      "application/vnd.jupyter.widget-view+json": {
       "model_id": "2d7a48f8426340bc82303a20261b680e",
       "version_major": 2,
       "version_minor": 0
      },
      "text/plain": [
       "  0%|          | 0/25 [00:00<?, ?it/s]"
      ]
     },
     "metadata": {},
     "output_type": "display_data"
    },
    {
     "data": {
      "application/vnd.jupyter.widget-view+json": {
       "model_id": "d159c53bf4bc46e1b7d8a1d98cb959b0",
       "version_major": 2,
       "version_minor": 0
      },
      "text/plain": [
       "  0%|          | 0/25 [00:00<?, ?it/s]"
      ]
     },
     "metadata": {},
     "output_type": "display_data"
    },
    {
     "data": {
      "application/vnd.jupyter.widget-view+json": {
       "model_id": "8d38cfae635b415d984dce2ba71ff4ae",
       "version_major": 2,
       "version_minor": 0
      },
      "text/plain": [
       "  0%|          | 0/25 [00:00<?, ?it/s]"
      ]
     },
     "metadata": {},
     "output_type": "display_data"
    },
    {
     "data": {
      "application/vnd.jupyter.widget-view+json": {
       "model_id": "647421a408fc4da099ac2d4f59048ed5",
       "version_major": 2,
       "version_minor": 0
      },
      "text/plain": [
       "  0%|          | 0/25 [00:00<?, ?it/s]"
      ]
     },
     "metadata": {},
     "output_type": "display_data"
    },
    {
     "data": {
      "application/vnd.jupyter.widget-view+json": {
       "model_id": "06f83efb20ca43efa42c932d542ac4cd",
       "version_major": 2,
       "version_minor": 0
      },
      "text/plain": [
       "  0%|          | 0/25 [00:00<?, ?it/s]"
      ]
     },
     "metadata": {},
     "output_type": "display_data"
    },
    {
     "data": {
      "application/vnd.jupyter.widget-view+json": {
       "model_id": "46e6c4e2285e4729a7677c3c81eabe34",
       "version_major": 2,
       "version_minor": 0
      },
      "text/plain": [
       "  0%|          | 0/25 [00:00<?, ?it/s]"
      ]
     },
     "metadata": {},
     "output_type": "display_data"
    },
    {
     "data": {
      "application/vnd.jupyter.widget-view+json": {
       "model_id": "7fd9c1bfeed1437785ba95658a157e10",
       "version_major": 2,
       "version_minor": 0
      },
      "text/plain": [
       "  0%|          | 0/25 [00:00<?, ?it/s]"
      ]
     },
     "metadata": {},
     "output_type": "display_data"
    },
    {
     "data": {
      "application/vnd.jupyter.widget-view+json": {
       "model_id": "46dc06b0091045869e8d32bb255b2a17",
       "version_major": 2,
       "version_minor": 0
      },
      "text/plain": [
       "  0%|          | 0/25 [00:00<?, ?it/s]"
      ]
     },
     "metadata": {},
     "output_type": "display_data"
    },
    {
     "data": {
      "application/vnd.jupyter.widget-view+json": {
       "model_id": "6e8457efbc2e44f8b55d29427c5d1f4a",
       "version_major": 2,
       "version_minor": 0
      },
      "text/plain": [
       "  0%|          | 0/25 [00:00<?, ?it/s]"
      ]
     },
     "metadata": {},
     "output_type": "display_data"
    },
    {
     "data": {
      "application/vnd.jupyter.widget-view+json": {
       "model_id": "fecbec4f5f124fb69ab8e6d997fcae28",
       "version_major": 2,
       "version_minor": 0
      },
      "text/plain": [
       "  0%|          | 0/25 [00:00<?, ?it/s]"
      ]
     },
     "metadata": {},
     "output_type": "display_data"
    },
    {
     "data": {
      "application/vnd.jupyter.widget-view+json": {
       "model_id": "1edb3d9fcb8549d8b8caccaf2c0705ee",
       "version_major": 2,
       "version_minor": 0
      },
      "text/plain": [
       "  0%|          | 0/25 [00:00<?, ?it/s]"
      ]
     },
     "metadata": {},
     "output_type": "display_data"
    },
    {
     "data": {
      "application/vnd.jupyter.widget-view+json": {
       "model_id": "0bbc3d47687d44589e53018fbdd8ec10",
       "version_major": 2,
       "version_minor": 0
      },
      "text/plain": [
       "  0%|          | 0/25 [00:00<?, ?it/s]"
      ]
     },
     "metadata": {},
     "output_type": "display_data"
    },
    {
     "data": {
      "application/vnd.jupyter.widget-view+json": {
       "model_id": "f9c116a8aa5b41999d2988e847f218e3",
       "version_major": 2,
       "version_minor": 0
      },
      "text/plain": [
       "  0%|          | 0/25 [00:00<?, ?it/s]"
      ]
     },
     "metadata": {},
     "output_type": "display_data"
    },
    {
     "data": {
      "application/vnd.jupyter.widget-view+json": {
       "model_id": "bb01da53ad3b4208a4449f344f3efcea",
       "version_major": 2,
       "version_minor": 0
      },
      "text/plain": [
       "  0%|          | 0/25 [00:00<?, ?it/s]"
      ]
     },
     "metadata": {},
     "output_type": "display_data"
    },
    {
     "data": {
      "application/vnd.jupyter.widget-view+json": {
       "model_id": "9169a9d0f1464872b1b3dfb55975be59",
       "version_major": 2,
       "version_minor": 0
      },
      "text/plain": [
       "  0%|          | 0/25 [00:00<?, ?it/s]"
      ]
     },
     "metadata": {},
     "output_type": "display_data"
    },
    {
     "data": {
      "application/vnd.jupyter.widget-view+json": {
       "model_id": "5034f31edcf4446a8186bb92015ba8ed",
       "version_major": 2,
       "version_minor": 0
      },
      "text/plain": [
       "  0%|          | 0/25 [00:00<?, ?it/s]"
      ]
     },
     "metadata": {},
     "output_type": "display_data"
    },
    {
     "data": {
      "application/vnd.jupyter.widget-view+json": {
       "model_id": "f1681c3d3525475eacf8d8e29428d8bd",
       "version_major": 2,
       "version_minor": 0
      },
      "text/plain": [
       "  0%|          | 0/25 [00:00<?, ?it/s]"
      ]
     },
     "metadata": {},
     "output_type": "display_data"
    },
    {
     "data": {
      "application/vnd.jupyter.widget-view+json": {
       "model_id": "3f4d6ed75fee41458a3cbdefcb762841",
       "version_major": 2,
       "version_minor": 0
      },
      "text/plain": [
       "  0%|          | 0/25 [00:00<?, ?it/s]"
      ]
     },
     "metadata": {},
     "output_type": "display_data"
    },
    {
     "data": {
      "application/vnd.jupyter.widget-view+json": {
       "model_id": "098aa872b51840e98c03c0307c429517",
       "version_major": 2,
       "version_minor": 0
      },
      "text/plain": [
       "  0%|          | 0/25 [00:00<?, ?it/s]"
      ]
     },
     "metadata": {},
     "output_type": "display_data"
    },
    {
     "data": {
      "application/vnd.jupyter.widget-view+json": {
       "model_id": "e1f4e510cbeb4693b7c55b2da81cf023",
       "version_major": 2,
       "version_minor": 0
      },
      "text/plain": [
       "  0%|          | 0/25 [00:00<?, ?it/s]"
      ]
     },
     "metadata": {},
     "output_type": "display_data"
    },
    {
     "data": {
      "application/vnd.jupyter.widget-view+json": {
       "model_id": "7a92efcdd2864711990e4fb9a47db537",
       "version_major": 2,
       "version_minor": 0
      },
      "text/plain": [
       "  0%|          | 0/25 [00:00<?, ?it/s]"
      ]
     },
     "metadata": {},
     "output_type": "display_data"
    },
    {
     "data": {
      "application/vnd.jupyter.widget-view+json": {
       "model_id": "6488383fb4e34da4a717fcb67ec30943",
       "version_major": 2,
       "version_minor": 0
      },
      "text/plain": [
       "  0%|          | 0/25 [00:00<?, ?it/s]"
      ]
     },
     "metadata": {},
     "output_type": "display_data"
    },
    {
     "data": {
      "application/vnd.jupyter.widget-view+json": {
       "model_id": "7c01b8101813437ca6dec69976ab8422",
       "version_major": 2,
       "version_minor": 0
      },
      "text/plain": [
       "  0%|          | 0/25 [00:00<?, ?it/s]"
      ]
     },
     "metadata": {},
     "output_type": "display_data"
    },
    {
     "data": {
      "application/vnd.jupyter.widget-view+json": {
       "model_id": "bbc45ff344e84db3bb283887adb8c469",
       "version_major": 2,
       "version_minor": 0
      },
      "text/plain": [
       "  0%|          | 0/25 [00:00<?, ?it/s]"
      ]
     },
     "metadata": {},
     "output_type": "display_data"
    },
    {
     "data": {
      "application/vnd.jupyter.widget-view+json": {
       "model_id": "fcb1353cd35547eb8de8bb8e79af5a29",
       "version_major": 2,
       "version_minor": 0
      },
      "text/plain": [
       "  0%|          | 0/25 [00:00<?, ?it/s]"
      ]
     },
     "metadata": {},
     "output_type": "display_data"
    },
    {
     "data": {
      "application/vnd.jupyter.widget-view+json": {
       "model_id": "8e6a475f47744300b906b99587d3fd71",
       "version_major": 2,
       "version_minor": 0
      },
      "text/plain": [
       "  0%|          | 0/25 [00:00<?, ?it/s]"
      ]
     },
     "metadata": {},
     "output_type": "display_data"
    },
    {
     "data": {
      "application/vnd.jupyter.widget-view+json": {
       "model_id": "8d3ac259cde0461a8b573361916bf452",
       "version_major": 2,
       "version_minor": 0
      },
      "text/plain": [
       "  0%|          | 0/25 [00:00<?, ?it/s]"
      ]
     },
     "metadata": {},
     "output_type": "display_data"
    },
    {
     "data": {
      "application/vnd.jupyter.widget-view+json": {
       "model_id": "d0f20ad63db94e588e476534e05618e6",
       "version_major": 2,
       "version_minor": 0
      },
      "text/plain": [
       "  0%|          | 0/25 [00:00<?, ?it/s]"
      ]
     },
     "metadata": {},
     "output_type": "display_data"
    },
    {
     "data": {
      "application/vnd.jupyter.widget-view+json": {
       "model_id": "77af9a615545428683bd90ae32d58b03",
       "version_major": 2,
       "version_minor": 0
      },
      "text/plain": [
       "  0%|          | 0/25 [00:00<?, ?it/s]"
      ]
     },
     "metadata": {},
     "output_type": "display_data"
    },
    {
     "data": {
      "application/vnd.jupyter.widget-view+json": {
       "model_id": "f596e3d7a0c7441fb4e919bb370b09b6",
       "version_major": 2,
       "version_minor": 0
      },
      "text/plain": [
       "  0%|          | 0/25 [00:00<?, ?it/s]"
      ]
     },
     "metadata": {},
     "output_type": "display_data"
    },
    {
     "data": {
      "application/vnd.jupyter.widget-view+json": {
       "model_id": "93381d210d6c4977b24aeb6f423d572d",
       "version_major": 2,
       "version_minor": 0
      },
      "text/plain": [
       "  0%|          | 0/25 [00:00<?, ?it/s]"
      ]
     },
     "metadata": {},
     "output_type": "display_data"
    },
    {
     "data": {
      "application/vnd.jupyter.widget-view+json": {
       "model_id": "b3720b090ec94c65bf13c32747ef826d",
       "version_major": 2,
       "version_minor": 0
      },
      "text/plain": [
       "  0%|          | 0/25 [00:00<?, ?it/s]"
      ]
     },
     "metadata": {},
     "output_type": "display_data"
    },
    {
     "data": {
      "application/vnd.jupyter.widget-view+json": {
       "model_id": "73b6a53ec79748a487545f444925ca8b",
       "version_major": 2,
       "version_minor": 0
      },
      "text/plain": [
       "  0%|          | 0/25 [00:00<?, ?it/s]"
      ]
     },
     "metadata": {},
     "output_type": "display_data"
    },
    {
     "data": {
      "application/vnd.jupyter.widget-view+json": {
       "model_id": "cdb9cc9e603f4a71b271ec579eb54d5c",
       "version_major": 2,
       "version_minor": 0
      },
      "text/plain": [
       "  0%|          | 0/25 [00:00<?, ?it/s]"
      ]
     },
     "metadata": {},
     "output_type": "display_data"
    },
    {
     "data": {
      "application/vnd.jupyter.widget-view+json": {
       "model_id": "ca237c8a4c56473bb871d08dc7a4df1b",
       "version_major": 2,
       "version_minor": 0
      },
      "text/plain": [
       "  0%|          | 0/25 [00:00<?, ?it/s]"
      ]
     },
     "metadata": {},
     "output_type": "display_data"
    },
    {
     "data": {
      "application/vnd.jupyter.widget-view+json": {
       "model_id": "9c27f7a79ab64100b61ee61bc6b2152d",
       "version_major": 2,
       "version_minor": 0
      },
      "text/plain": [
       "  0%|          | 0/25 [00:00<?, ?it/s]"
      ]
     },
     "metadata": {},
     "output_type": "display_data"
    },
    {
     "data": {
      "application/vnd.jupyter.widget-view+json": {
       "model_id": "3396c65fc5c54aba8f7c2e0b64bf6524",
       "version_major": 2,
       "version_minor": 0
      },
      "text/plain": [
       "  0%|          | 0/25 [00:00<?, ?it/s]"
      ]
     },
     "metadata": {},
     "output_type": "display_data"
    },
    {
     "data": {
      "application/vnd.jupyter.widget-view+json": {
       "model_id": "40e0f2587dc24dab9573c094e6af92fb",
       "version_major": 2,
       "version_minor": 0
      },
      "text/plain": [
       "  0%|          | 0/25 [00:00<?, ?it/s]"
      ]
     },
     "metadata": {},
     "output_type": "display_data"
    },
    {
     "data": {
      "application/vnd.jupyter.widget-view+json": {
       "model_id": "cea6fc7f617246f6a703815ca2d9dabb",
       "version_major": 2,
       "version_minor": 0
      },
      "text/plain": [
       "  0%|          | 0/25 [00:00<?, ?it/s]"
      ]
     },
     "metadata": {},
     "output_type": "display_data"
    },
    {
     "data": {
      "application/vnd.jupyter.widget-view+json": {
       "model_id": "5d768e13c039460f8299693110ea9b64",
       "version_major": 2,
       "version_minor": 0
      },
      "text/plain": [
       "  0%|          | 0/25 [00:00<?, ?it/s]"
      ]
     },
     "metadata": {},
     "output_type": "display_data"
    },
    {
     "data": {
      "application/vnd.jupyter.widget-view+json": {
       "model_id": "45299430fcc74ea496737380c6caab6c",
       "version_major": 2,
       "version_minor": 0
      },
      "text/plain": [
       "  0%|          | 0/25 [00:00<?, ?it/s]"
      ]
     },
     "metadata": {},
     "output_type": "display_data"
    },
    {
     "data": {
      "application/vnd.jupyter.widget-view+json": {
       "model_id": "786d779df0844959a0b75dea3630c81a",
       "version_major": 2,
       "version_minor": 0
      },
      "text/plain": [
       "  0%|          | 0/25 [00:00<?, ?it/s]"
      ]
     },
     "metadata": {},
     "output_type": "display_data"
    },
    {
     "data": {
      "application/vnd.jupyter.widget-view+json": {
       "model_id": "fa9e783943db4eefa23ec5b1f34978c7",
       "version_major": 2,
       "version_minor": 0
      },
      "text/plain": [
       "  0%|          | 0/25 [00:00<?, ?it/s]"
      ]
     },
     "metadata": {},
     "output_type": "display_data"
    }
   ],
   "source": [
    "device = torch.device('cuda:0' if torch.cuda.is_available() else 'cpu')\n",
    "\n",
    "dir = \"Metrics/method/\"\n",
    "statistics_dir = \"Statistics/GA/method/\"\n",
    "\n",
    "for repository in tqdm(os.listdir(dir)):\n",
    "    if not os.path.exists(dir + repository + '/method_metrics.csv'):\n",
    "        continue\n",
    "    df = pd.read_csv(dir + repository + '/method_metrics.csv')\n",
    "    data = torch.from_numpy(df.iloc[:, 2:].to_numpy())\n",
    "    result = {}\n",
    "    for i in tqdm(range(2, df.shape[1]-1)):\n",
    "        feat_idx, error_log = GA(data, sammon_error, i, device=device, use_tqdm=False)\n",
    "        result[i] = {\n",
    "            'repository': repository,\n",
    "            'size': data.shape[0],\n",
    "            'feat_idx': feat_idx.tolist(),\n",
    "            'error_log': error_log,\n",
    "        }\n",
    "    with open(statistics_dir + f\"{repository}.json\", 'w') as f:\n",
    "        json.dump(result, f)\n",
    "    torch.cuda.empty_cache()\n",
    "    gc.collect()"
   ]
  },
  {
   "cell_type": "code",
   "execution_count": 22,
   "metadata": {
    "id": "t0_UbADR3b8g"
   },
   "outputs": [
    {
     "data": {
      "application/vnd.jupyter.widget-view+json": {
       "model_id": "d8e19af7597b4c598bc99295b96b2466",
       "version_major": 2,
       "version_minor": 0
      },
      "text/plain": [
       "  0%|          | 0/115 [00:00<?, ?it/s]"
      ]
     },
     "metadata": {},
     "output_type": "display_data"
    },
    {
     "data": {
      "application/vnd.jupyter.widget-view+json": {
       "model_id": "989cd5bcec1043c38646f4e7715beb85",
       "version_major": 2,
       "version_minor": 0
      },
      "text/plain": [
       "  0%|          | 0/29 [00:00<?, ?it/s]"
      ]
     },
     "metadata": {},
     "output_type": "display_data"
    },
    {
     "data": {
      "application/vnd.jupyter.widget-view+json": {
       "model_id": "32cdc2d4ae1f4730bcace154566623a1",
       "version_major": 2,
       "version_minor": 0
      },
      "text/plain": [
       "  0%|          | 0/29 [00:00<?, ?it/s]"
      ]
     },
     "metadata": {},
     "output_type": "display_data"
    },
    {
     "data": {
      "application/vnd.jupyter.widget-view+json": {
       "model_id": "25c4ecae62af42d78976cf6e59762ccd",
       "version_major": 2,
       "version_minor": 0
      },
      "text/plain": [
       "  0%|          | 0/29 [00:00<?, ?it/s]"
      ]
     },
     "metadata": {},
     "output_type": "display_data"
    },
    {
     "data": {
      "application/vnd.jupyter.widget-view+json": {
       "model_id": "86f059f72bf94b0d954857370ba96a43",
       "version_major": 2,
       "version_minor": 0
      },
      "text/plain": [
       "  0%|          | 0/29 [00:00<?, ?it/s]"
      ]
     },
     "metadata": {},
     "output_type": "display_data"
    },
    {
     "data": {
      "application/vnd.jupyter.widget-view+json": {
       "model_id": "184cd7cb95e740c4a6eee6c74e73394d",
       "version_major": 2,
       "version_minor": 0
      },
      "text/plain": [
       "  0%|          | 0/29 [00:00<?, ?it/s]"
      ]
     },
     "metadata": {},
     "output_type": "display_data"
    },
    {
     "data": {
      "application/vnd.jupyter.widget-view+json": {
       "model_id": "8b7cdf116e2245c3ba52952a4075d9eb",
       "version_major": 2,
       "version_minor": 0
      },
      "text/plain": [
       "  0%|          | 0/29 [00:00<?, ?it/s]"
      ]
     },
     "metadata": {},
     "output_type": "display_data"
    },
    {
     "data": {
      "application/vnd.jupyter.widget-view+json": {
       "model_id": "11f49e08a406474291599190bdcbd8fb",
       "version_major": 2,
       "version_minor": 0
      },
      "text/plain": [
       "  0%|          | 0/29 [00:00<?, ?it/s]"
      ]
     },
     "metadata": {},
     "output_type": "display_data"
    },
    {
     "data": {
      "application/vnd.jupyter.widget-view+json": {
       "model_id": "d4cf64ca39c842b6b282adaf608e62f7",
       "version_major": 2,
       "version_minor": 0
      },
      "text/plain": [
       "  0%|          | 0/29 [00:00<?, ?it/s]"
      ]
     },
     "metadata": {},
     "output_type": "display_data"
    },
    {
     "data": {
      "application/vnd.jupyter.widget-view+json": {
       "model_id": "a9c12212686946ae9790446bf5fb7f6a",
       "version_major": 2,
       "version_minor": 0
      },
      "text/plain": [
       "  0%|          | 0/29 [00:00<?, ?it/s]"
      ]
     },
     "metadata": {},
     "output_type": "display_data"
    },
    {
     "data": {
      "application/vnd.jupyter.widget-view+json": {
       "model_id": "27a2ac7cc22c4f4e8aa90ae8991f860e",
       "version_major": 2,
       "version_minor": 0
      },
      "text/plain": [
       "  0%|          | 0/29 [00:00<?, ?it/s]"
      ]
     },
     "metadata": {},
     "output_type": "display_data"
    },
    {
     "data": {
      "application/vnd.jupyter.widget-view+json": {
       "model_id": "3d1ad0c6c2da4b6f856056ed9dac0d51",
       "version_major": 2,
       "version_minor": 0
      },
      "text/plain": [
       "  0%|          | 0/29 [00:00<?, ?it/s]"
      ]
     },
     "metadata": {},
     "output_type": "display_data"
    },
    {
     "data": {
      "application/vnd.jupyter.widget-view+json": {
       "model_id": "d4ff3bf8b0a34760a36669a54c78f213",
       "version_major": 2,
       "version_minor": 0
      },
      "text/plain": [
       "  0%|          | 0/29 [00:00<?, ?it/s]"
      ]
     },
     "metadata": {},
     "output_type": "display_data"
    },
    {
     "data": {
      "application/vnd.jupyter.widget-view+json": {
       "model_id": "52ce1fe3557c4d80bd012963289edbc7",
       "version_major": 2,
       "version_minor": 0
      },
      "text/plain": [
       "  0%|          | 0/29 [00:00<?, ?it/s]"
      ]
     },
     "metadata": {},
     "output_type": "display_data"
    },
    {
     "data": {
      "application/vnd.jupyter.widget-view+json": {
       "model_id": "55878ac381c74bf4893714d64aa573fc",
       "version_major": 2,
       "version_minor": 0
      },
      "text/plain": [
       "  0%|          | 0/29 [00:00<?, ?it/s]"
      ]
     },
     "metadata": {},
     "output_type": "display_data"
    },
    {
     "data": {
      "application/vnd.jupyter.widget-view+json": {
       "model_id": "4e4d561166a642c483bff6242d060dc5",
       "version_major": 2,
       "version_minor": 0
      },
      "text/plain": [
       "  0%|          | 0/29 [00:00<?, ?it/s]"
      ]
     },
     "metadata": {},
     "output_type": "display_data"
    },
    {
     "data": {
      "application/vnd.jupyter.widget-view+json": {
       "model_id": "ee9dead7f5fe40ea93d9d09a9b99f332",
       "version_major": 2,
       "version_minor": 0
      },
      "text/plain": [
       "  0%|          | 0/29 [00:00<?, ?it/s]"
      ]
     },
     "metadata": {},
     "output_type": "display_data"
    },
    {
     "data": {
      "application/vnd.jupyter.widget-view+json": {
       "model_id": "c880055812cb4519895c9bebdbdefc14",
       "version_major": 2,
       "version_minor": 0
      },
      "text/plain": [
       "  0%|          | 0/29 [00:00<?, ?it/s]"
      ]
     },
     "metadata": {},
     "output_type": "display_data"
    },
    {
     "data": {
      "application/vnd.jupyter.widget-view+json": {
       "model_id": "437b392ee5614765a8b54afb5cf54ab8",
       "version_major": 2,
       "version_minor": 0
      },
      "text/plain": [
       "  0%|          | 0/29 [00:00<?, ?it/s]"
      ]
     },
     "metadata": {},
     "output_type": "display_data"
    },
    {
     "data": {
      "application/vnd.jupyter.widget-view+json": {
       "model_id": "b4aa0073b0774b978b4fe1b54171bc4f",
       "version_major": 2,
       "version_minor": 0
      },
      "text/plain": [
       "  0%|          | 0/29 [00:00<?, ?it/s]"
      ]
     },
     "metadata": {},
     "output_type": "display_data"
    },
    {
     "data": {
      "application/vnd.jupyter.widget-view+json": {
       "model_id": "e94489ee3c4d4ddead28e96db3a8b69e",
       "version_major": 2,
       "version_minor": 0
      },
      "text/plain": [
       "  0%|          | 0/29 [00:00<?, ?it/s]"
      ]
     },
     "metadata": {},
     "output_type": "display_data"
    },
    {
     "data": {
      "application/vnd.jupyter.widget-view+json": {
       "model_id": "5f4f4708004c4b6b8d5a7241ea9cc5e2",
       "version_major": 2,
       "version_minor": 0
      },
      "text/plain": [
       "  0%|          | 0/29 [00:00<?, ?it/s]"
      ]
     },
     "metadata": {},
     "output_type": "display_data"
    },
    {
     "data": {
      "application/vnd.jupyter.widget-view+json": {
       "model_id": "b0d7b8b188dc49a0ae9c479d3e833ec2",
       "version_major": 2,
       "version_minor": 0
      },
      "text/plain": [
       "  0%|          | 0/29 [00:00<?, ?it/s]"
      ]
     },
     "metadata": {},
     "output_type": "display_data"
    },
    {
     "data": {
      "application/vnd.jupyter.widget-view+json": {
       "model_id": "4cb0f3fcead94213a2c2d5f3aceeca89",
       "version_major": 2,
       "version_minor": 0
      },
      "text/plain": [
       "  0%|          | 0/29 [00:00<?, ?it/s]"
      ]
     },
     "metadata": {},
     "output_type": "display_data"
    },
    {
     "data": {
      "application/vnd.jupyter.widget-view+json": {
       "model_id": "424ed8b51d334c19ae8336ee9e18c81a",
       "version_major": 2,
       "version_minor": 0
      },
      "text/plain": [
       "  0%|          | 0/29 [00:00<?, ?it/s]"
      ]
     },
     "metadata": {},
     "output_type": "display_data"
    },
    {
     "data": {
      "application/vnd.jupyter.widget-view+json": {
       "model_id": "c230cd7b25044fb48b0b12b02984b990",
       "version_major": 2,
       "version_minor": 0
      },
      "text/plain": [
       "  0%|          | 0/29 [00:00<?, ?it/s]"
      ]
     },
     "metadata": {},
     "output_type": "display_data"
    },
    {
     "data": {
      "application/vnd.jupyter.widget-view+json": {
       "model_id": "75e9d5d647df4db48a53a04070e0e026",
       "version_major": 2,
       "version_minor": 0
      },
      "text/plain": [
       "  0%|          | 0/29 [00:00<?, ?it/s]"
      ]
     },
     "metadata": {},
     "output_type": "display_data"
    },
    {
     "data": {
      "application/vnd.jupyter.widget-view+json": {
       "model_id": "578f07c4860e402489a4370897d8a321",
       "version_major": 2,
       "version_minor": 0
      },
      "text/plain": [
       "  0%|          | 0/29 [00:00<?, ?it/s]"
      ]
     },
     "metadata": {},
     "output_type": "display_data"
    },
    {
     "data": {
      "application/vnd.jupyter.widget-view+json": {
       "model_id": "a989c4aab3eb4cb0ab071e7215e84082",
       "version_major": 2,
       "version_minor": 0
      },
      "text/plain": [
       "  0%|          | 0/29 [00:00<?, ?it/s]"
      ]
     },
     "metadata": {},
     "output_type": "display_data"
    },
    {
     "data": {
      "application/vnd.jupyter.widget-view+json": {
       "model_id": "3c63aa7bb9834170880e362b7ed6b5b1",
       "version_major": 2,
       "version_minor": 0
      },
      "text/plain": [
       "  0%|          | 0/29 [00:00<?, ?it/s]"
      ]
     },
     "metadata": {},
     "output_type": "display_data"
    },
    {
     "data": {
      "application/vnd.jupyter.widget-view+json": {
       "model_id": "22fbe76fffb6462bb32a72eb70fa9ff9",
       "version_major": 2,
       "version_minor": 0
      },
      "text/plain": [
       "  0%|          | 0/29 [00:00<?, ?it/s]"
      ]
     },
     "metadata": {},
     "output_type": "display_data"
    },
    {
     "data": {
      "application/vnd.jupyter.widget-view+json": {
       "model_id": "6af06c96e43f452f96f022813f7503d4",
       "version_major": 2,
       "version_minor": 0
      },
      "text/plain": [
       "  0%|          | 0/29 [00:00<?, ?it/s]"
      ]
     },
     "metadata": {},
     "output_type": "display_data"
    },
    {
     "data": {
      "application/vnd.jupyter.widget-view+json": {
       "model_id": "5b948b3b5ced46d1afa400339b366150",
       "version_major": 2,
       "version_minor": 0
      },
      "text/plain": [
       "  0%|          | 0/29 [00:00<?, ?it/s]"
      ]
     },
     "metadata": {},
     "output_type": "display_data"
    },
    {
     "data": {
      "application/vnd.jupyter.widget-view+json": {
       "model_id": "76627c1291ec4bf4b88628379c3bee15",
       "version_major": 2,
       "version_minor": 0
      },
      "text/plain": [
       "  0%|          | 0/29 [00:00<?, ?it/s]"
      ]
     },
     "metadata": {},
     "output_type": "display_data"
    },
    {
     "data": {
      "application/vnd.jupyter.widget-view+json": {
       "model_id": "e20cc3f78df843e3ad09db75c4b2966f",
       "version_major": 2,
       "version_minor": 0
      },
      "text/plain": [
       "  0%|          | 0/29 [00:00<?, ?it/s]"
      ]
     },
     "metadata": {},
     "output_type": "display_data"
    },
    {
     "data": {
      "application/vnd.jupyter.widget-view+json": {
       "model_id": "cc019f9f8f884a848df99f1719b5948e",
       "version_major": 2,
       "version_minor": 0
      },
      "text/plain": [
       "  0%|          | 0/29 [00:00<?, ?it/s]"
      ]
     },
     "metadata": {},
     "output_type": "display_data"
    },
    {
     "data": {
      "application/vnd.jupyter.widget-view+json": {
       "model_id": "e2d9ac0d6d59409b8906afbf1ef3f4ac",
       "version_major": 2,
       "version_minor": 0
      },
      "text/plain": [
       "  0%|          | 0/29 [00:00<?, ?it/s]"
      ]
     },
     "metadata": {},
     "output_type": "display_data"
    },
    {
     "data": {
      "application/vnd.jupyter.widget-view+json": {
       "model_id": "45b7ab8455784e0ba89a9b165eea59c6",
       "version_major": 2,
       "version_minor": 0
      },
      "text/plain": [
       "  0%|          | 0/29 [00:00<?, ?it/s]"
      ]
     },
     "metadata": {},
     "output_type": "display_data"
    },
    {
     "data": {
      "application/vnd.jupyter.widget-view+json": {
       "model_id": "f575cd11a6ef4ed6a53b1a423b43f6d6",
       "version_major": 2,
       "version_minor": 0
      },
      "text/plain": [
       "  0%|          | 0/29 [00:00<?, ?it/s]"
      ]
     },
     "metadata": {},
     "output_type": "display_data"
    },
    {
     "data": {
      "application/vnd.jupyter.widget-view+json": {
       "model_id": "5691997831df4794b3e5534b135d98b1",
       "version_major": 2,
       "version_minor": 0
      },
      "text/plain": [
       "  0%|          | 0/29 [00:00<?, ?it/s]"
      ]
     },
     "metadata": {},
     "output_type": "display_data"
    },
    {
     "data": {
      "application/vnd.jupyter.widget-view+json": {
       "model_id": "1755b9c4e4a148a9b2b045f23e9403c8",
       "version_major": 2,
       "version_minor": 0
      },
      "text/plain": [
       "  0%|          | 0/29 [00:00<?, ?it/s]"
      ]
     },
     "metadata": {},
     "output_type": "display_data"
    },
    {
     "data": {
      "application/vnd.jupyter.widget-view+json": {
       "model_id": "c2bb76cb8d4d49e3acef3fca71a5ecdc",
       "version_major": 2,
       "version_minor": 0
      },
      "text/plain": [
       "  0%|          | 0/29 [00:00<?, ?it/s]"
      ]
     },
     "metadata": {},
     "output_type": "display_data"
    },
    {
     "data": {
      "application/vnd.jupyter.widget-view+json": {
       "model_id": "7fc4c2e793da43178ea8374ffcdf72e0",
       "version_major": 2,
       "version_minor": 0
      },
      "text/plain": [
       "  0%|          | 0/29 [00:00<?, ?it/s]"
      ]
     },
     "metadata": {},
     "output_type": "display_data"
    },
    {
     "data": {
      "application/vnd.jupyter.widget-view+json": {
       "model_id": "130d275288b147d5aafda9a6d930e94c",
       "version_major": 2,
       "version_minor": 0
      },
      "text/plain": [
       "  0%|          | 0/29 [00:00<?, ?it/s]"
      ]
     },
     "metadata": {},
     "output_type": "display_data"
    },
    {
     "data": {
      "application/vnd.jupyter.widget-view+json": {
       "model_id": "c37d488a95164c85b67286868861dd60",
       "version_major": 2,
       "version_minor": 0
      },
      "text/plain": [
       "  0%|          | 0/29 [00:00<?, ?it/s]"
      ]
     },
     "metadata": {},
     "output_type": "display_data"
    },
    {
     "data": {
      "application/vnd.jupyter.widget-view+json": {
       "model_id": "2a5a9008f3204224b98e42b017975e1c",
       "version_major": 2,
       "version_minor": 0
      },
      "text/plain": [
       "  0%|          | 0/29 [00:00<?, ?it/s]"
      ]
     },
     "metadata": {},
     "output_type": "display_data"
    },
    {
     "data": {
      "application/vnd.jupyter.widget-view+json": {
       "model_id": "ad5857b69c314a3fa8b1b5c2a4bfe331",
       "version_major": 2,
       "version_minor": 0
      },
      "text/plain": [
       "  0%|          | 0/29 [00:00<?, ?it/s]"
      ]
     },
     "metadata": {},
     "output_type": "display_data"
    },
    {
     "data": {
      "application/vnd.jupyter.widget-view+json": {
       "model_id": "13931c892b344e58979ca81a66f55bf2",
       "version_major": 2,
       "version_minor": 0
      },
      "text/plain": [
       "  0%|          | 0/29 [00:00<?, ?it/s]"
      ]
     },
     "metadata": {},
     "output_type": "display_data"
    },
    {
     "data": {
      "application/vnd.jupyter.widget-view+json": {
       "model_id": "138b5fea20e04095afea42818f1c589d",
       "version_major": 2,
       "version_minor": 0
      },
      "text/plain": [
       "  0%|          | 0/29 [00:00<?, ?it/s]"
      ]
     },
     "metadata": {},
     "output_type": "display_data"
    },
    {
     "data": {
      "application/vnd.jupyter.widget-view+json": {
       "model_id": "8ccb1f303a0c44c898fad620e592a4e4",
       "version_major": 2,
       "version_minor": 0
      },
      "text/plain": [
       "  0%|          | 0/29 [00:00<?, ?it/s]"
      ]
     },
     "metadata": {},
     "output_type": "display_data"
    },
    {
     "data": {
      "application/vnd.jupyter.widget-view+json": {
       "model_id": "619af08b0870488e9b634b0c48f8f806",
       "version_major": 2,
       "version_minor": 0
      },
      "text/plain": [
       "  0%|          | 0/29 [00:00<?, ?it/s]"
      ]
     },
     "metadata": {},
     "output_type": "display_data"
    },
    {
     "data": {
      "application/vnd.jupyter.widget-view+json": {
       "model_id": "3798fcdc5b0940f5bfbfcb9c5c809ad8",
       "version_major": 2,
       "version_minor": 0
      },
      "text/plain": [
       "  0%|          | 0/29 [00:00<?, ?it/s]"
      ]
     },
     "metadata": {},
     "output_type": "display_data"
    },
    {
     "data": {
      "application/vnd.jupyter.widget-view+json": {
       "model_id": "3f40774cacf24a3ea51510fb3984c727",
       "version_major": 2,
       "version_minor": 0
      },
      "text/plain": [
       "  0%|          | 0/29 [00:00<?, ?it/s]"
      ]
     },
     "metadata": {},
     "output_type": "display_data"
    },
    {
     "data": {
      "application/vnd.jupyter.widget-view+json": {
       "model_id": "238320cfcd55491aa23711ab2e93020b",
       "version_major": 2,
       "version_minor": 0
      },
      "text/plain": [
       "  0%|          | 0/29 [00:00<?, ?it/s]"
      ]
     },
     "metadata": {},
     "output_type": "display_data"
    },
    {
     "data": {
      "application/vnd.jupyter.widget-view+json": {
       "model_id": "24b18608365f49c284847bbc6a38ee36",
       "version_major": 2,
       "version_minor": 0
      },
      "text/plain": [
       "  0%|          | 0/29 [00:00<?, ?it/s]"
      ]
     },
     "metadata": {},
     "output_type": "display_data"
    },
    {
     "data": {
      "application/vnd.jupyter.widget-view+json": {
       "model_id": "1b517878e7944525ab6fe4c17a1e0d74",
       "version_major": 2,
       "version_minor": 0
      },
      "text/plain": [
       "  0%|          | 0/29 [00:00<?, ?it/s]"
      ]
     },
     "metadata": {},
     "output_type": "display_data"
    },
    {
     "data": {
      "application/vnd.jupyter.widget-view+json": {
       "model_id": "23ce26de1fa94f02bc68e114d843bd2c",
       "version_major": 2,
       "version_minor": 0
      },
      "text/plain": [
       "  0%|          | 0/29 [00:00<?, ?it/s]"
      ]
     },
     "metadata": {},
     "output_type": "display_data"
    },
    {
     "data": {
      "application/vnd.jupyter.widget-view+json": {
       "model_id": "b07371e9b0ef490696cf9d4a61ba173c",
       "version_major": 2,
       "version_minor": 0
      },
      "text/plain": [
       "  0%|          | 0/29 [00:00<?, ?it/s]"
      ]
     },
     "metadata": {},
     "output_type": "display_data"
    },
    {
     "data": {
      "application/vnd.jupyter.widget-view+json": {
       "model_id": "b1f45d7c84cc48d3803eb23ee10932a9",
       "version_major": 2,
       "version_minor": 0
      },
      "text/plain": [
       "  0%|          | 0/29 [00:00<?, ?it/s]"
      ]
     },
     "metadata": {},
     "output_type": "display_data"
    },
    {
     "data": {
      "application/vnd.jupyter.widget-view+json": {
       "model_id": "3327d0e6e34a45cb9e9328489dc10198",
       "version_major": 2,
       "version_minor": 0
      },
      "text/plain": [
       "  0%|          | 0/29 [00:00<?, ?it/s]"
      ]
     },
     "metadata": {},
     "output_type": "display_data"
    },
    {
     "data": {
      "application/vnd.jupyter.widget-view+json": {
       "model_id": "3d243ce47b734280826cd0155f8ccf69",
       "version_major": 2,
       "version_minor": 0
      },
      "text/plain": [
       "  0%|          | 0/29 [00:00<?, ?it/s]"
      ]
     },
     "metadata": {},
     "output_type": "display_data"
    },
    {
     "data": {
      "application/vnd.jupyter.widget-view+json": {
       "model_id": "31c22620b1cc4d81bfcef8dba82d6fa1",
       "version_major": 2,
       "version_minor": 0
      },
      "text/plain": [
       "  0%|          | 0/29 [00:00<?, ?it/s]"
      ]
     },
     "metadata": {},
     "output_type": "display_data"
    },
    {
     "data": {
      "application/vnd.jupyter.widget-view+json": {
       "model_id": "77d8090aeff7412fbeca676264ecea9d",
       "version_major": 2,
       "version_minor": 0
      },
      "text/plain": [
       "  0%|          | 0/29 [00:00<?, ?it/s]"
      ]
     },
     "metadata": {},
     "output_type": "display_data"
    },
    {
     "data": {
      "application/vnd.jupyter.widget-view+json": {
       "model_id": "f8c074331b5249a8afe6824873cac983",
       "version_major": 2,
       "version_minor": 0
      },
      "text/plain": [
       "  0%|          | 0/29 [00:00<?, ?it/s]"
      ]
     },
     "metadata": {},
     "output_type": "display_data"
    },
    {
     "data": {
      "application/vnd.jupyter.widget-view+json": {
       "model_id": "46f985cb11c54f7ebaa3eaab8ff6668e",
       "version_major": 2,
       "version_minor": 0
      },
      "text/plain": [
       "  0%|          | 0/29 [00:00<?, ?it/s]"
      ]
     },
     "metadata": {},
     "output_type": "display_data"
    },
    {
     "data": {
      "application/vnd.jupyter.widget-view+json": {
       "model_id": "164594ad4b9c411292c92134edc40309",
       "version_major": 2,
       "version_minor": 0
      },
      "text/plain": [
       "  0%|          | 0/29 [00:00<?, ?it/s]"
      ]
     },
     "metadata": {},
     "output_type": "display_data"
    },
    {
     "data": {
      "application/vnd.jupyter.widget-view+json": {
       "model_id": "86cc091d5cb14b429f667e0342f0059d",
       "version_major": 2,
       "version_minor": 0
      },
      "text/plain": [
       "  0%|          | 0/29 [00:00<?, ?it/s]"
      ]
     },
     "metadata": {},
     "output_type": "display_data"
    },
    {
     "data": {
      "application/vnd.jupyter.widget-view+json": {
       "model_id": "6670fe0fa24d412a82989889a432d463",
       "version_major": 2,
       "version_minor": 0
      },
      "text/plain": [
       "  0%|          | 0/29 [00:00<?, ?it/s]"
      ]
     },
     "metadata": {},
     "output_type": "display_data"
    },
    {
     "data": {
      "application/vnd.jupyter.widget-view+json": {
       "model_id": "0e3c3c34517e41a6babbc7a6cfd72b5e",
       "version_major": 2,
       "version_minor": 0
      },
      "text/plain": [
       "  0%|          | 0/29 [00:00<?, ?it/s]"
      ]
     },
     "metadata": {},
     "output_type": "display_data"
    },
    {
     "data": {
      "application/vnd.jupyter.widget-view+json": {
       "model_id": "73415d329f854ceba063026bb2988e88",
       "version_major": 2,
       "version_minor": 0
      },
      "text/plain": [
       "  0%|          | 0/29 [00:00<?, ?it/s]"
      ]
     },
     "metadata": {},
     "output_type": "display_data"
    },
    {
     "data": {
      "application/vnd.jupyter.widget-view+json": {
       "model_id": "a66f9af690574f5991c28e7ef396300d",
       "version_major": 2,
       "version_minor": 0
      },
      "text/plain": [
       "  0%|          | 0/29 [00:00<?, ?it/s]"
      ]
     },
     "metadata": {},
     "output_type": "display_data"
    },
    {
     "data": {
      "application/vnd.jupyter.widget-view+json": {
       "model_id": "b72e63e32724493985d30580e2570997",
       "version_major": 2,
       "version_minor": 0
      },
      "text/plain": [
       "  0%|          | 0/29 [00:00<?, ?it/s]"
      ]
     },
     "metadata": {},
     "output_type": "display_data"
    },
    {
     "data": {
      "application/vnd.jupyter.widget-view+json": {
       "model_id": "dd0ab3248555419e9d44ab8d6ea30107",
       "version_major": 2,
       "version_minor": 0
      },
      "text/plain": [
       "  0%|          | 0/29 [00:00<?, ?it/s]"
      ]
     },
     "metadata": {},
     "output_type": "display_data"
    },
    {
     "data": {
      "application/vnd.jupyter.widget-view+json": {
       "model_id": "2921f8dbfbe04de0818542ded3d0258f",
       "version_major": 2,
       "version_minor": 0
      },
      "text/plain": [
       "  0%|          | 0/29 [00:00<?, ?it/s]"
      ]
     },
     "metadata": {},
     "output_type": "display_data"
    },
    {
     "data": {
      "application/vnd.jupyter.widget-view+json": {
       "model_id": "6927354408204908964045caaa186187",
       "version_major": 2,
       "version_minor": 0
      },
      "text/plain": [
       "  0%|          | 0/29 [00:00<?, ?it/s]"
      ]
     },
     "metadata": {},
     "output_type": "display_data"
    },
    {
     "data": {
      "application/vnd.jupyter.widget-view+json": {
       "model_id": "3867c95843a5442b98cb2dbc2b039494",
       "version_major": 2,
       "version_minor": 0
      },
      "text/plain": [
       "  0%|          | 0/29 [00:00<?, ?it/s]"
      ]
     },
     "metadata": {},
     "output_type": "display_data"
    },
    {
     "data": {
      "application/vnd.jupyter.widget-view+json": {
       "model_id": "99c199049c0b4e468687fd8746aa78cd",
       "version_major": 2,
       "version_minor": 0
      },
      "text/plain": [
       "  0%|          | 0/29 [00:00<?, ?it/s]"
      ]
     },
     "metadata": {},
     "output_type": "display_data"
    },
    {
     "data": {
      "application/vnd.jupyter.widget-view+json": {
       "model_id": "a4f929fbde6e470293433e974eb72271",
       "version_major": 2,
       "version_minor": 0
      },
      "text/plain": [
       "  0%|          | 0/29 [00:00<?, ?it/s]"
      ]
     },
     "metadata": {},
     "output_type": "display_data"
    },
    {
     "data": {
      "application/vnd.jupyter.widget-view+json": {
       "model_id": "4c057eb37748400283392a622b5df4a8",
       "version_major": 2,
       "version_minor": 0
      },
      "text/plain": [
       "  0%|          | 0/29 [00:00<?, ?it/s]"
      ]
     },
     "metadata": {},
     "output_type": "display_data"
    },
    {
     "data": {
      "application/vnd.jupyter.widget-view+json": {
       "model_id": "47478638035a4471872949cd2968b57d",
       "version_major": 2,
       "version_minor": 0
      },
      "text/plain": [
       "  0%|          | 0/29 [00:00<?, ?it/s]"
      ]
     },
     "metadata": {},
     "output_type": "display_data"
    },
    {
     "data": {
      "application/vnd.jupyter.widget-view+json": {
       "model_id": "f45455ba3e374377af86cb4a9cd5f9d6",
       "version_major": 2,
       "version_minor": 0
      },
      "text/plain": [
       "  0%|          | 0/29 [00:00<?, ?it/s]"
      ]
     },
     "metadata": {},
     "output_type": "display_data"
    },
    {
     "data": {
      "application/vnd.jupyter.widget-view+json": {
       "model_id": "b2ac97f1423747abb6765d78f549c29f",
       "version_major": 2,
       "version_minor": 0
      },
      "text/plain": [
       "  0%|          | 0/29 [00:00<?, ?it/s]"
      ]
     },
     "metadata": {},
     "output_type": "display_data"
    },
    {
     "data": {
      "application/vnd.jupyter.widget-view+json": {
       "model_id": "76f252ee077f4b489ae62bdc17982708",
       "version_major": 2,
       "version_minor": 0
      },
      "text/plain": [
       "  0%|          | 0/29 [00:00<?, ?it/s]"
      ]
     },
     "metadata": {},
     "output_type": "display_data"
    },
    {
     "data": {
      "application/vnd.jupyter.widget-view+json": {
       "model_id": "1dbd7f09c01640dd972d620bd6fa84cc",
       "version_major": 2,
       "version_minor": 0
      },
      "text/plain": [
       "  0%|          | 0/29 [00:00<?, ?it/s]"
      ]
     },
     "metadata": {},
     "output_type": "display_data"
    },
    {
     "data": {
      "application/vnd.jupyter.widget-view+json": {
       "model_id": "862ad5f68b08420fa6aca42a45230f32",
       "version_major": 2,
       "version_minor": 0
      },
      "text/plain": [
       "  0%|          | 0/29 [00:00<?, ?it/s]"
      ]
     },
     "metadata": {},
     "output_type": "display_data"
    },
    {
     "data": {
      "application/vnd.jupyter.widget-view+json": {
       "model_id": "6a5f8494000c4661998ebdc0b6b7baf6",
       "version_major": 2,
       "version_minor": 0
      },
      "text/plain": [
       "  0%|          | 0/29 [00:00<?, ?it/s]"
      ]
     },
     "metadata": {},
     "output_type": "display_data"
    },
    {
     "data": {
      "application/vnd.jupyter.widget-view+json": {
       "model_id": "4cdf3efe91864e448a6bcf124f5e120e",
       "version_major": 2,
       "version_minor": 0
      },
      "text/plain": [
       "  0%|          | 0/29 [00:00<?, ?it/s]"
      ]
     },
     "metadata": {},
     "output_type": "display_data"
    },
    {
     "data": {
      "application/vnd.jupyter.widget-view+json": {
       "model_id": "3af5e5a879a547a5a8cee09e29178c14",
       "version_major": 2,
       "version_minor": 0
      },
      "text/plain": [
       "  0%|          | 0/29 [00:00<?, ?it/s]"
      ]
     },
     "metadata": {},
     "output_type": "display_data"
    },
    {
     "data": {
      "application/vnd.jupyter.widget-view+json": {
       "model_id": "6d03badbcfad4b4aadaadaa69681654e",
       "version_major": 2,
       "version_minor": 0
      },
      "text/plain": [
       "  0%|          | 0/29 [00:00<?, ?it/s]"
      ]
     },
     "metadata": {},
     "output_type": "display_data"
    },
    {
     "data": {
      "application/vnd.jupyter.widget-view+json": {
       "model_id": "ad7ddc5e6494421a9b8841063f5a25fe",
       "version_major": 2,
       "version_minor": 0
      },
      "text/plain": [
       "  0%|          | 0/29 [00:00<?, ?it/s]"
      ]
     },
     "metadata": {},
     "output_type": "display_data"
    },
    {
     "data": {
      "application/vnd.jupyter.widget-view+json": {
       "model_id": "11f0c243825e4a7bbab1f033e088737d",
       "version_major": 2,
       "version_minor": 0
      },
      "text/plain": [
       "  0%|          | 0/29 [00:00<?, ?it/s]"
      ]
     },
     "metadata": {},
     "output_type": "display_data"
    },
    {
     "data": {
      "application/vnd.jupyter.widget-view+json": {
       "model_id": "2c3162862518400e8f8101e9935187f5",
       "version_major": 2,
       "version_minor": 0
      },
      "text/plain": [
       "  0%|          | 0/29 [00:00<?, ?it/s]"
      ]
     },
     "metadata": {},
     "output_type": "display_data"
    },
    {
     "data": {
      "application/vnd.jupyter.widget-view+json": {
       "model_id": "58d6d40767b84db882ac1d1b9ac08120",
       "version_major": 2,
       "version_minor": 0
      },
      "text/plain": [
       "  0%|          | 0/29 [00:00<?, ?it/s]"
      ]
     },
     "metadata": {},
     "output_type": "display_data"
    },
    {
     "data": {
      "application/vnd.jupyter.widget-view+json": {
       "model_id": "3ea48601e31444f08086bb69cad01b50",
       "version_major": 2,
       "version_minor": 0
      },
      "text/plain": [
       "  0%|          | 0/29 [00:00<?, ?it/s]"
      ]
     },
     "metadata": {},
     "output_type": "display_data"
    },
    {
     "data": {
      "application/vnd.jupyter.widget-view+json": {
       "model_id": "2ae0ba1993454f1ba3d683ec280cb3b1",
       "version_major": 2,
       "version_minor": 0
      },
      "text/plain": [
       "  0%|          | 0/29 [00:00<?, ?it/s]"
      ]
     },
     "metadata": {},
     "output_type": "display_data"
    },
    {
     "data": {
      "application/vnd.jupyter.widget-view+json": {
       "model_id": "5e81dcd23116480ea48b9c2a0d195d72",
       "version_major": 2,
       "version_minor": 0
      },
      "text/plain": [
       "  0%|          | 0/29 [00:00<?, ?it/s]"
      ]
     },
     "metadata": {},
     "output_type": "display_data"
    },
    {
     "data": {
      "application/vnd.jupyter.widget-view+json": {
       "model_id": "3f175b12630c4b61a43bc2df0f19b31b",
       "version_major": 2,
       "version_minor": 0
      },
      "text/plain": [
       "  0%|          | 0/29 [00:00<?, ?it/s]"
      ]
     },
     "metadata": {},
     "output_type": "display_data"
    },
    {
     "data": {
      "application/vnd.jupyter.widget-view+json": {
       "model_id": "d4013c55057942a3830f058f780c2ee4",
       "version_major": 2,
       "version_minor": 0
      },
      "text/plain": [
       "  0%|          | 0/29 [00:00<?, ?it/s]"
      ]
     },
     "metadata": {},
     "output_type": "display_data"
    },
    {
     "data": {
      "application/vnd.jupyter.widget-view+json": {
       "model_id": "eda4be7440594c00a6114e77f28437c7",
       "version_major": 2,
       "version_minor": 0
      },
      "text/plain": [
       "  0%|          | 0/29 [00:00<?, ?it/s]"
      ]
     },
     "metadata": {},
     "output_type": "display_data"
    },
    {
     "data": {
      "application/vnd.jupyter.widget-view+json": {
       "model_id": "6cecec4e6e364f5a81b322d5439373e9",
       "version_major": 2,
       "version_minor": 0
      },
      "text/plain": [
       "  0%|          | 0/29 [00:00<?, ?it/s]"
      ]
     },
     "metadata": {},
     "output_type": "display_data"
    },
    {
     "data": {
      "application/vnd.jupyter.widget-view+json": {
       "model_id": "cc920d8088114c3a90f999f1efbf85fc",
       "version_major": 2,
       "version_minor": 0
      },
      "text/plain": [
       "  0%|          | 0/29 [00:00<?, ?it/s]"
      ]
     },
     "metadata": {},
     "output_type": "display_data"
    },
    {
     "data": {
      "application/vnd.jupyter.widget-view+json": {
       "model_id": "e9ede010bf134a2582e75a9675b82ada",
       "version_major": 2,
       "version_minor": 0
      },
      "text/plain": [
       "  0%|          | 0/29 [00:00<?, ?it/s]"
      ]
     },
     "metadata": {},
     "output_type": "display_data"
    },
    {
     "data": {
      "application/vnd.jupyter.widget-view+json": {
       "model_id": "09603a16558a412498eca05d95f8838a",
       "version_major": 2,
       "version_minor": 0
      },
      "text/plain": [
       "  0%|          | 0/29 [00:00<?, ?it/s]"
      ]
     },
     "metadata": {},
     "output_type": "display_data"
    },
    {
     "data": {
      "application/vnd.jupyter.widget-view+json": {
       "model_id": "0c28ff699b9e410b9dd190374582f991",
       "version_major": 2,
       "version_minor": 0
      },
      "text/plain": [
       "  0%|          | 0/29 [00:00<?, ?it/s]"
      ]
     },
     "metadata": {},
     "output_type": "display_data"
    },
    {
     "data": {
      "application/vnd.jupyter.widget-view+json": {
       "model_id": "0dfce572968446acab4c3c2e868581fe",
       "version_major": 2,
       "version_minor": 0
      },
      "text/plain": [
       "  0%|          | 0/29 [00:00<?, ?it/s]"
      ]
     },
     "metadata": {},
     "output_type": "display_data"
    },
    {
     "data": {
      "application/vnd.jupyter.widget-view+json": {
       "model_id": "5b76fd06ceca4de8ba480b35cb68f3e1",
       "version_major": 2,
       "version_minor": 0
      },
      "text/plain": [
       "  0%|          | 0/29 [00:00<?, ?it/s]"
      ]
     },
     "metadata": {},
     "output_type": "display_data"
    },
    {
     "data": {
      "application/vnd.jupyter.widget-view+json": {
       "model_id": "ac192453bdfe485b806745b1e36a7c63",
       "version_major": 2,
       "version_minor": 0
      },
      "text/plain": [
       "  0%|          | 0/29 [00:00<?, ?it/s]"
      ]
     },
     "metadata": {},
     "output_type": "display_data"
    },
    {
     "data": {
      "application/vnd.jupyter.widget-view+json": {
       "model_id": "d21cc80442664f08beaba173dd04e012",
       "version_major": 2,
       "version_minor": 0
      },
      "text/plain": [
       "  0%|          | 0/29 [00:00<?, ?it/s]"
      ]
     },
     "metadata": {},
     "output_type": "display_data"
    },
    {
     "data": {
      "application/vnd.jupyter.widget-view+json": {
       "model_id": "5f373fc8d29e4a7090e659185b941056",
       "version_major": 2,
       "version_minor": 0
      },
      "text/plain": [
       "  0%|          | 0/29 [00:00<?, ?it/s]"
      ]
     },
     "metadata": {},
     "output_type": "display_data"
    },
    {
     "data": {
      "application/vnd.jupyter.widget-view+json": {
       "model_id": "ea670decf0f746ae838a65d4114d1e2a",
       "version_major": 2,
       "version_minor": 0
      },
      "text/plain": [
       "  0%|          | 0/29 [00:00<?, ?it/s]"
      ]
     },
     "metadata": {},
     "output_type": "display_data"
    },
    {
     "data": {
      "application/vnd.jupyter.widget-view+json": {
       "model_id": "2c5c39d196d044f0b7c27b9b58fa6ede",
       "version_major": 2,
       "version_minor": 0
      },
      "text/plain": [
       "  0%|          | 0/29 [00:00<?, ?it/s]"
      ]
     },
     "metadata": {},
     "output_type": "display_data"
    },
    {
     "data": {
      "application/vnd.jupyter.widget-view+json": {
       "model_id": "a0afd229aaaf4f1ca3962ac5b2d0ff41",
       "version_major": 2,
       "version_minor": 0
      },
      "text/plain": [
       "  0%|          | 0/29 [00:00<?, ?it/s]"
      ]
     },
     "metadata": {},
     "output_type": "display_data"
    },
    {
     "data": {
      "application/vnd.jupyter.widget-view+json": {
       "model_id": "ad55b72ee76f4360baa21dfe36fd8bae",
       "version_major": 2,
       "version_minor": 0
      },
      "text/plain": [
       "  0%|          | 0/29 [00:00<?, ?it/s]"
      ]
     },
     "metadata": {},
     "output_type": "display_data"
    },
    {
     "data": {
      "application/vnd.jupyter.widget-view+json": {
       "model_id": "5e5413c6e6b84a33b08b37ed00f049fb",
       "version_major": 2,
       "version_minor": 0
      },
      "text/plain": [
       "  0%|          | 0/29 [00:00<?, ?it/s]"
      ]
     },
     "metadata": {},
     "output_type": "display_data"
    },
    {
     "data": {
      "application/vnd.jupyter.widget-view+json": {
       "model_id": "13394bd3f3e44520b1956f2cc4ab17f2",
       "version_major": 2,
       "version_minor": 0
      },
      "text/plain": [
       "  0%|          | 0/29 [00:00<?, ?it/s]"
      ]
     },
     "metadata": {},
     "output_type": "display_data"
    },
    {
     "data": {
      "application/vnd.jupyter.widget-view+json": {
       "model_id": "cb32ce483db74bedaef9078c8940b6c1",
       "version_major": 2,
       "version_minor": 0
      },
      "text/plain": [
       "  0%|          | 0/29 [00:00<?, ?it/s]"
      ]
     },
     "metadata": {},
     "output_type": "display_data"
    }
   ],
   "source": [
    "device = torch.device('cuda:0' if torch.cuda.is_available() else 'cpu')\n",
    "\n",
    "dir = \"Metrics/class/\"\n",
    "statistics_dir = \"Statistics/GA/class/\"\n",
    "\n",
    "for repository in tqdm(os.listdir(dir)):\n",
    "    # if not os.path.exists(dir + repository + '/method_metrics.csv'):\n",
    "    #     continue\n",
    "    df = pd.read_csv(dir + repository + '/sm_metrics.csv')\n",
    "    data = torch.from_numpy(df.iloc[:, 3:].to_numpy()).double()\n",
    "    result = {}\n",
    "    for i in tqdm(range(2, df.shape[1]-2)):\n",
    "        feat_idx, error_log = GA(data, sammon_error, i, device=device, use_tqdm=False)\n",
    "        result[i] = {\n",
    "            'repository': repository,\n",
    "            'size': data.shape[0],\n",
    "            'feat_idx': feat_idx.tolist(),\n",
    "            'error_log': error_log,\n",
    "        }\n",
    "    with open(statistics_dir + f\"{repository}.json\", 'w') as f:\n",
    "        json.dump(result, f)\n",
    "    torch.cuda.empty_cache()\n",
    "    gc.collect()"
   ]
  },
  {
   "cell_type": "markdown",
   "metadata": {},
   "source": [
    "PSO"
   ]
  },
  {
   "cell_type": "code",
   "execution_count": 17,
   "metadata": {},
   "outputs": [],
   "source": [
    "import pandas as pd\n",
    "import numpy as np\n",
    "import torch\n",
    "import torch.nn as nn\n",
    "from scipy.spatial.distance import cdist\n",
    "from tqdm.notebook import tqdm\n",
    "\n",
    "from EMProject.MainTask.PSO import PSO\n",
    "from EMProject.MainTask.utils import sammon_error"
   ]
  },
  {
   "cell_type": "code",
   "execution_count": 15,
   "metadata": {},
   "outputs": [],
   "source": [
    "!mkdir -p Statistics/PSO/class\n",
    "!mkdir -p Statistics/PSO/method"
   ]
  },
  {
   "cell_type": "code",
   "execution_count": 19,
   "metadata": {
    "scrolled": true
   },
   "outputs": [
    {
     "data": {
      "application/vnd.jupyter.widget-view+json": {
       "model_id": "3d1c9e04c31e4461805705c730710742",
       "version_major": 2,
       "version_minor": 0
      },
      "text/plain": [
       "  0%|          | 0/129 [00:00<?, ?it/s]"
      ]
     },
     "metadata": {},
     "output_type": "display_data"
    },
    {
     "data": {
      "application/vnd.jupyter.widget-view+json": {
       "model_id": "811aa99985884e01a185a6c153e97426",
       "version_major": 2,
       "version_minor": 0
      },
      "text/plain": [
       "  0%|          | 0/25 [00:00<?, ?it/s]"
      ]
     },
     "metadata": {},
     "output_type": "display_data"
    },
    {
     "data": {
      "application/vnd.jupyter.widget-view+json": {
       "model_id": "83b41bdfd1d2446dae7442bb8b6cf272",
       "version_major": 2,
       "version_minor": 0
      },
      "text/plain": [
       "  0%|          | 0/25 [00:00<?, ?it/s]"
      ]
     },
     "metadata": {},
     "output_type": "display_data"
    },
    {
     "data": {
      "application/vnd.jupyter.widget-view+json": {
       "model_id": "d8cd87769e5f4c2e9ca5434cef330526",
       "version_major": 2,
       "version_minor": 0
      },
      "text/plain": [
       "  0%|          | 0/25 [00:00<?, ?it/s]"
      ]
     },
     "metadata": {},
     "output_type": "display_data"
    },
    {
     "data": {
      "application/vnd.jupyter.widget-view+json": {
       "model_id": "533a58f5a26743b38f36928cd87af65c",
       "version_major": 2,
       "version_minor": 0
      },
      "text/plain": [
       "  0%|          | 0/25 [00:00<?, ?it/s]"
      ]
     },
     "metadata": {},
     "output_type": "display_data"
    },
    {
     "data": {
      "application/vnd.jupyter.widget-view+json": {
       "model_id": "1a5f9e110b6840129a650669cb305f22",
       "version_major": 2,
       "version_minor": 0
      },
      "text/plain": [
       "  0%|          | 0/25 [00:00<?, ?it/s]"
      ]
     },
     "metadata": {},
     "output_type": "display_data"
    },
    {
     "data": {
      "application/vnd.jupyter.widget-view+json": {
       "model_id": "bef4665892bc47f78d3e0f0bd3dbf224",
       "version_major": 2,
       "version_minor": 0
      },
      "text/plain": [
       "  0%|          | 0/25 [00:00<?, ?it/s]"
      ]
     },
     "metadata": {},
     "output_type": "display_data"
    },
    {
     "data": {
      "application/vnd.jupyter.widget-view+json": {
       "model_id": "5d01baa6f43c4bb8938a264b7ceafd40",
       "version_major": 2,
       "version_minor": 0
      },
      "text/plain": [
       "  0%|          | 0/25 [00:00<?, ?it/s]"
      ]
     },
     "metadata": {},
     "output_type": "display_data"
    },
    {
     "data": {
      "application/vnd.jupyter.widget-view+json": {
       "model_id": "bf6e20a1cfa140ba9fd716bc09984c51",
       "version_major": 2,
       "version_minor": 0
      },
      "text/plain": [
       "  0%|          | 0/25 [00:00<?, ?it/s]"
      ]
     },
     "metadata": {},
     "output_type": "display_data"
    },
    {
     "data": {
      "application/vnd.jupyter.widget-view+json": {
       "model_id": "0946f73313794fe3bc1659f1607ecb50",
       "version_major": 2,
       "version_minor": 0
      },
      "text/plain": [
       "  0%|          | 0/25 [00:00<?, ?it/s]"
      ]
     },
     "metadata": {},
     "output_type": "display_data"
    },
    {
     "data": {
      "application/vnd.jupyter.widget-view+json": {
       "model_id": "22a77fa08a0d47d8a887732c110d7d64",
       "version_major": 2,
       "version_minor": 0
      },
      "text/plain": [
       "  0%|          | 0/25 [00:00<?, ?it/s]"
      ]
     },
     "metadata": {},
     "output_type": "display_data"
    },
    {
     "data": {
      "application/vnd.jupyter.widget-view+json": {
       "model_id": "9f8daa7f282545e1adad9d5fae944168",
       "version_major": 2,
       "version_minor": 0
      },
      "text/plain": [
       "  0%|          | 0/25 [00:00<?, ?it/s]"
      ]
     },
     "metadata": {},
     "output_type": "display_data"
    },
    {
     "data": {
      "application/vnd.jupyter.widget-view+json": {
       "model_id": "a4f9182709f94c6b9ef407237e1664aa",
       "version_major": 2,
       "version_minor": 0
      },
      "text/plain": [
       "  0%|          | 0/25 [00:00<?, ?it/s]"
      ]
     },
     "metadata": {},
     "output_type": "display_data"
    },
    {
     "data": {
      "application/vnd.jupyter.widget-view+json": {
       "model_id": "723ea24e2f98434783b4f8cebd7f7a13",
       "version_major": 2,
       "version_minor": 0
      },
      "text/plain": [
       "  0%|          | 0/25 [00:00<?, ?it/s]"
      ]
     },
     "metadata": {},
     "output_type": "display_data"
    },
    {
     "data": {
      "application/vnd.jupyter.widget-view+json": {
       "model_id": "d7267af5a6424fa7bcf2e966a15222c8",
       "version_major": 2,
       "version_minor": 0
      },
      "text/plain": [
       "  0%|          | 0/25 [00:00<?, ?it/s]"
      ]
     },
     "metadata": {},
     "output_type": "display_data"
    },
    {
     "data": {
      "application/vnd.jupyter.widget-view+json": {
       "model_id": "9fd098cdcd2b48a899aa27e522052d18",
       "version_major": 2,
       "version_minor": 0
      },
      "text/plain": [
       "  0%|          | 0/25 [00:00<?, ?it/s]"
      ]
     },
     "metadata": {},
     "output_type": "display_data"
    },
    {
     "data": {
      "application/vnd.jupyter.widget-view+json": {
       "model_id": "a94502822d7c4f55b4ab735c597da552",
       "version_major": 2,
       "version_minor": 0
      },
      "text/plain": [
       "  0%|          | 0/25 [00:00<?, ?it/s]"
      ]
     },
     "metadata": {},
     "output_type": "display_data"
    },
    {
     "data": {
      "application/vnd.jupyter.widget-view+json": {
       "model_id": "7f1d0495808c45b1831766e388157333",
       "version_major": 2,
       "version_minor": 0
      },
      "text/plain": [
       "  0%|          | 0/25 [00:00<?, ?it/s]"
      ]
     },
     "metadata": {},
     "output_type": "display_data"
    },
    {
     "data": {
      "application/vnd.jupyter.widget-view+json": {
       "model_id": "18708ff28d6445c6b881a501ccb94578",
       "version_major": 2,
       "version_minor": 0
      },
      "text/plain": [
       "  0%|          | 0/25 [00:00<?, ?it/s]"
      ]
     },
     "metadata": {},
     "output_type": "display_data"
    },
    {
     "data": {
      "application/vnd.jupyter.widget-view+json": {
       "model_id": "3d46e40fa1034bcfb21960b48feefa3c",
       "version_major": 2,
       "version_minor": 0
      },
      "text/plain": [
       "  0%|          | 0/25 [00:00<?, ?it/s]"
      ]
     },
     "metadata": {},
     "output_type": "display_data"
    },
    {
     "data": {
      "application/vnd.jupyter.widget-view+json": {
       "model_id": "a5b8c45c618944eab8b1b0f268f90134",
       "version_major": 2,
       "version_minor": 0
      },
      "text/plain": [
       "  0%|          | 0/25 [00:00<?, ?it/s]"
      ]
     },
     "metadata": {},
     "output_type": "display_data"
    },
    {
     "data": {
      "application/vnd.jupyter.widget-view+json": {
       "model_id": "7ebcb95601ef4d81a0a91797d63ca6e3",
       "version_major": 2,
       "version_minor": 0
      },
      "text/plain": [
       "  0%|          | 0/25 [00:00<?, ?it/s]"
      ]
     },
     "metadata": {},
     "output_type": "display_data"
    },
    {
     "data": {
      "application/vnd.jupyter.widget-view+json": {
       "model_id": "e831bf8b584f49d4a7e7373c6b12c025",
       "version_major": 2,
       "version_minor": 0
      },
      "text/plain": [
       "  0%|          | 0/25 [00:00<?, ?it/s]"
      ]
     },
     "metadata": {},
     "output_type": "display_data"
    },
    {
     "data": {
      "application/vnd.jupyter.widget-view+json": {
       "model_id": "99278e3d5b0b491e85aeb01cfff1f6e7",
       "version_major": 2,
       "version_minor": 0
      },
      "text/plain": [
       "  0%|          | 0/25 [00:00<?, ?it/s]"
      ]
     },
     "metadata": {},
     "output_type": "display_data"
    },
    {
     "data": {
      "application/vnd.jupyter.widget-view+json": {
       "model_id": "d5d07f07f625440b8ddbd82fde71f8e5",
       "version_major": 2,
       "version_minor": 0
      },
      "text/plain": [
       "  0%|          | 0/25 [00:00<?, ?it/s]"
      ]
     },
     "metadata": {},
     "output_type": "display_data"
    },
    {
     "data": {
      "application/vnd.jupyter.widget-view+json": {
       "model_id": "498ad97f4d6e42138fd185f9b1d2cf4f",
       "version_major": 2,
       "version_minor": 0
      },
      "text/plain": [
       "  0%|          | 0/25 [00:00<?, ?it/s]"
      ]
     },
     "metadata": {},
     "output_type": "display_data"
    },
    {
     "data": {
      "application/vnd.jupyter.widget-view+json": {
       "model_id": "cb7d56b719cf4a7ab96cebcf72467e6a",
       "version_major": 2,
       "version_minor": 0
      },
      "text/plain": [
       "  0%|          | 0/25 [00:00<?, ?it/s]"
      ]
     },
     "metadata": {},
     "output_type": "display_data"
    },
    {
     "data": {
      "application/vnd.jupyter.widget-view+json": {
       "model_id": "2296ddf5cbbe45e1b230570b4c629c98",
       "version_major": 2,
       "version_minor": 0
      },
      "text/plain": [
       "  0%|          | 0/25 [00:00<?, ?it/s]"
      ]
     },
     "metadata": {},
     "output_type": "display_data"
    },
    {
     "data": {
      "application/vnd.jupyter.widget-view+json": {
       "model_id": "7794c636a77c4b0f93629afbf084b742",
       "version_major": 2,
       "version_minor": 0
      },
      "text/plain": [
       "  0%|          | 0/25 [00:00<?, ?it/s]"
      ]
     },
     "metadata": {},
     "output_type": "display_data"
    },
    {
     "data": {
      "application/vnd.jupyter.widget-view+json": {
       "model_id": "2f17b0e3d55f4df8a8e85fa681f4f832",
       "version_major": 2,
       "version_minor": 0
      },
      "text/plain": [
       "  0%|          | 0/25 [00:00<?, ?it/s]"
      ]
     },
     "metadata": {},
     "output_type": "display_data"
    },
    {
     "data": {
      "application/vnd.jupyter.widget-view+json": {
       "model_id": "94a5b2c00d7c4cf08b7ec33180456881",
       "version_major": 2,
       "version_minor": 0
      },
      "text/plain": [
       "  0%|          | 0/25 [00:00<?, ?it/s]"
      ]
     },
     "metadata": {},
     "output_type": "display_data"
    },
    {
     "data": {
      "application/vnd.jupyter.widget-view+json": {
       "model_id": "da4bce875c064609b030b49fc4d851cc",
       "version_major": 2,
       "version_minor": 0
      },
      "text/plain": [
       "  0%|          | 0/25 [00:00<?, ?it/s]"
      ]
     },
     "metadata": {},
     "output_type": "display_data"
    },
    {
     "data": {
      "application/vnd.jupyter.widget-view+json": {
       "model_id": "7493de26b5494ee9a07161b97724f35d",
       "version_major": 2,
       "version_minor": 0
      },
      "text/plain": [
       "  0%|          | 0/25 [00:00<?, ?it/s]"
      ]
     },
     "metadata": {},
     "output_type": "display_data"
    },
    {
     "data": {
      "application/vnd.jupyter.widget-view+json": {
       "model_id": "25f36fdd1ea74bbfa0c9402792999702",
       "version_major": 2,
       "version_minor": 0
      },
      "text/plain": [
       "  0%|          | 0/25 [00:00<?, ?it/s]"
      ]
     },
     "metadata": {},
     "output_type": "display_data"
    },
    {
     "data": {
      "application/vnd.jupyter.widget-view+json": {
       "model_id": "2269b3b6ea6b4d858948bcc682f6efb4",
       "version_major": 2,
       "version_minor": 0
      },
      "text/plain": [
       "  0%|          | 0/25 [00:00<?, ?it/s]"
      ]
     },
     "metadata": {},
     "output_type": "display_data"
    },
    {
     "data": {
      "application/vnd.jupyter.widget-view+json": {
       "model_id": "2db2346d2c224df5bdc8ca9b6f84b29e",
       "version_major": 2,
       "version_minor": 0
      },
      "text/plain": [
       "  0%|          | 0/25 [00:00<?, ?it/s]"
      ]
     },
     "metadata": {},
     "output_type": "display_data"
    },
    {
     "data": {
      "application/vnd.jupyter.widget-view+json": {
       "model_id": "97d6736bf1904b6f9843176810ed0f08",
       "version_major": 2,
       "version_minor": 0
      },
      "text/plain": [
       "  0%|          | 0/25 [00:00<?, ?it/s]"
      ]
     },
     "metadata": {},
     "output_type": "display_data"
    },
    {
     "data": {
      "application/vnd.jupyter.widget-view+json": {
       "model_id": "3911db3e2b8c4029a796531035dbe342",
       "version_major": 2,
       "version_minor": 0
      },
      "text/plain": [
       "  0%|          | 0/25 [00:00<?, ?it/s]"
      ]
     },
     "metadata": {},
     "output_type": "display_data"
    },
    {
     "data": {
      "application/vnd.jupyter.widget-view+json": {
       "model_id": "86c647f0ffa84fc49563355164286a82",
       "version_major": 2,
       "version_minor": 0
      },
      "text/plain": [
       "  0%|          | 0/25 [00:00<?, ?it/s]"
      ]
     },
     "metadata": {},
     "output_type": "display_data"
    },
    {
     "data": {
      "application/vnd.jupyter.widget-view+json": {
       "model_id": "34cd00b97b8f418bbf952b7a7f65b0f0",
       "version_major": 2,
       "version_minor": 0
      },
      "text/plain": [
       "  0%|          | 0/25 [00:00<?, ?it/s]"
      ]
     },
     "metadata": {},
     "output_type": "display_data"
    },
    {
     "data": {
      "application/vnd.jupyter.widget-view+json": {
       "model_id": "a855399d48ba4bf79ac0c6454402134d",
       "version_major": 2,
       "version_minor": 0
      },
      "text/plain": [
       "  0%|          | 0/25 [00:00<?, ?it/s]"
      ]
     },
     "metadata": {},
     "output_type": "display_data"
    },
    {
     "data": {
      "application/vnd.jupyter.widget-view+json": {
       "model_id": "ff3ccd9cc5744861a03039a5459eb8cb",
       "version_major": 2,
       "version_minor": 0
      },
      "text/plain": [
       "  0%|          | 0/25 [00:00<?, ?it/s]"
      ]
     },
     "metadata": {},
     "output_type": "display_data"
    },
    {
     "data": {
      "application/vnd.jupyter.widget-view+json": {
       "model_id": "0aa640b4a2f6456894f3e07de2012367",
       "version_major": 2,
       "version_minor": 0
      },
      "text/plain": [
       "  0%|          | 0/25 [00:00<?, ?it/s]"
      ]
     },
     "metadata": {},
     "output_type": "display_data"
    },
    {
     "data": {
      "application/vnd.jupyter.widget-view+json": {
       "model_id": "07cec2f8432042e6932ceb955cb86b28",
       "version_major": 2,
       "version_minor": 0
      },
      "text/plain": [
       "  0%|          | 0/25 [00:00<?, ?it/s]"
      ]
     },
     "metadata": {},
     "output_type": "display_data"
    },
    {
     "data": {
      "application/vnd.jupyter.widget-view+json": {
       "model_id": "5b9c3797d5be4a2dafd1a18bab687da6",
       "version_major": 2,
       "version_minor": 0
      },
      "text/plain": [
       "  0%|          | 0/25 [00:00<?, ?it/s]"
      ]
     },
     "metadata": {},
     "output_type": "display_data"
    },
    {
     "data": {
      "application/vnd.jupyter.widget-view+json": {
       "model_id": "6e9632948b994c2797eed7f9a2ab59ee",
       "version_major": 2,
       "version_minor": 0
      },
      "text/plain": [
       "  0%|          | 0/25 [00:00<?, ?it/s]"
      ]
     },
     "metadata": {},
     "output_type": "display_data"
    },
    {
     "data": {
      "application/vnd.jupyter.widget-view+json": {
       "model_id": "ffe2c32688b34384a2f7bb69c35f6562",
       "version_major": 2,
       "version_minor": 0
      },
      "text/plain": [
       "  0%|          | 0/25 [00:00<?, ?it/s]"
      ]
     },
     "metadata": {},
     "output_type": "display_data"
    },
    {
     "data": {
      "application/vnd.jupyter.widget-view+json": {
       "model_id": "e4ee3df35cfe402d9784c9ff14d7bee0",
       "version_major": 2,
       "version_minor": 0
      },
      "text/plain": [
       "  0%|          | 0/25 [00:00<?, ?it/s]"
      ]
     },
     "metadata": {},
     "output_type": "display_data"
    },
    {
     "data": {
      "application/vnd.jupyter.widget-view+json": {
       "model_id": "ec05a628da5d49c7a0ceb9ca1b840b88",
       "version_major": 2,
       "version_minor": 0
      },
      "text/plain": [
       "  0%|          | 0/25 [00:00<?, ?it/s]"
      ]
     },
     "metadata": {},
     "output_type": "display_data"
    },
    {
     "data": {
      "application/vnd.jupyter.widget-view+json": {
       "model_id": "02ab3b9a37974466884a18e9c015499d",
       "version_major": 2,
       "version_minor": 0
      },
      "text/plain": [
       "  0%|          | 0/25 [00:00<?, ?it/s]"
      ]
     },
     "metadata": {},
     "output_type": "display_data"
    },
    {
     "data": {
      "application/vnd.jupyter.widget-view+json": {
       "model_id": "39225711af2146939e5918503dd9fbcd",
       "version_major": 2,
       "version_minor": 0
      },
      "text/plain": [
       "  0%|          | 0/25 [00:00<?, ?it/s]"
      ]
     },
     "metadata": {},
     "output_type": "display_data"
    },
    {
     "data": {
      "application/vnd.jupyter.widget-view+json": {
       "model_id": "5b1e9a61c9e241d983caac70fd163e45",
       "version_major": 2,
       "version_minor": 0
      },
      "text/plain": [
       "  0%|          | 0/25 [00:00<?, ?it/s]"
      ]
     },
     "metadata": {},
     "output_type": "display_data"
    },
    {
     "data": {
      "application/vnd.jupyter.widget-view+json": {
       "model_id": "8c02aca14cbf4241bc59ce0546f7e42a",
       "version_major": 2,
       "version_minor": 0
      },
      "text/plain": [
       "  0%|          | 0/25 [00:00<?, ?it/s]"
      ]
     },
     "metadata": {},
     "output_type": "display_data"
    },
    {
     "data": {
      "application/vnd.jupyter.widget-view+json": {
       "model_id": "dabea94e72734a2bb81066e192309ffa",
       "version_major": 2,
       "version_minor": 0
      },
      "text/plain": [
       "  0%|          | 0/25 [00:00<?, ?it/s]"
      ]
     },
     "metadata": {},
     "output_type": "display_data"
    },
    {
     "data": {
      "application/vnd.jupyter.widget-view+json": {
       "model_id": "75fb1335a5994d23a63bc4147bfabebc",
       "version_major": 2,
       "version_minor": 0
      },
      "text/plain": [
       "  0%|          | 0/25 [00:00<?, ?it/s]"
      ]
     },
     "metadata": {},
     "output_type": "display_data"
    },
    {
     "data": {
      "application/vnd.jupyter.widget-view+json": {
       "model_id": "405e62df22304b858c0f2c0cc93ba78d",
       "version_major": 2,
       "version_minor": 0
      },
      "text/plain": [
       "  0%|          | 0/25 [00:00<?, ?it/s]"
      ]
     },
     "metadata": {},
     "output_type": "display_data"
    },
    {
     "data": {
      "application/vnd.jupyter.widget-view+json": {
       "model_id": "8db060a0339e4249b615f4e7c95474b0",
       "version_major": 2,
       "version_minor": 0
      },
      "text/plain": [
       "  0%|          | 0/25 [00:00<?, ?it/s]"
      ]
     },
     "metadata": {},
     "output_type": "display_data"
    },
    {
     "data": {
      "application/vnd.jupyter.widget-view+json": {
       "model_id": "0f3a2a30af4d41aeb1f6c1e3b25df74a",
       "version_major": 2,
       "version_minor": 0
      },
      "text/plain": [
       "  0%|          | 0/25 [00:00<?, ?it/s]"
      ]
     },
     "metadata": {},
     "output_type": "display_data"
    },
    {
     "data": {
      "application/vnd.jupyter.widget-view+json": {
       "model_id": "f3f5e75d218448d8adcc467505be8097",
       "version_major": 2,
       "version_minor": 0
      },
      "text/plain": [
       "  0%|          | 0/25 [00:00<?, ?it/s]"
      ]
     },
     "metadata": {},
     "output_type": "display_data"
    },
    {
     "data": {
      "application/vnd.jupyter.widget-view+json": {
       "model_id": "6f43928351594325a9a6a525d5fb81ca",
       "version_major": 2,
       "version_minor": 0
      },
      "text/plain": [
       "  0%|          | 0/25 [00:00<?, ?it/s]"
      ]
     },
     "metadata": {},
     "output_type": "display_data"
    },
    {
     "data": {
      "application/vnd.jupyter.widget-view+json": {
       "model_id": "bc5d5ce33023488797122e6003d4c0ab",
       "version_major": 2,
       "version_minor": 0
      },
      "text/plain": [
       "  0%|          | 0/25 [00:00<?, ?it/s]"
      ]
     },
     "metadata": {},
     "output_type": "display_data"
    },
    {
     "data": {
      "application/vnd.jupyter.widget-view+json": {
       "model_id": "06847ab3957a430cad672335f9d4d213",
       "version_major": 2,
       "version_minor": 0
      },
      "text/plain": [
       "  0%|          | 0/25 [00:00<?, ?it/s]"
      ]
     },
     "metadata": {},
     "output_type": "display_data"
    },
    {
     "data": {
      "application/vnd.jupyter.widget-view+json": {
       "model_id": "58248f6d86b4497d87dc85e60252efb8",
       "version_major": 2,
       "version_minor": 0
      },
      "text/plain": [
       "  0%|          | 0/25 [00:00<?, ?it/s]"
      ]
     },
     "metadata": {},
     "output_type": "display_data"
    },
    {
     "data": {
      "application/vnd.jupyter.widget-view+json": {
       "model_id": "3a1e808507dc46bba959913db04ff9e1",
       "version_major": 2,
       "version_minor": 0
      },
      "text/plain": [
       "  0%|          | 0/25 [00:00<?, ?it/s]"
      ]
     },
     "metadata": {},
     "output_type": "display_data"
    },
    {
     "data": {
      "application/vnd.jupyter.widget-view+json": {
       "model_id": "711fe072d54c4764ad42683a0322f7e1",
       "version_major": 2,
       "version_minor": 0
      },
      "text/plain": [
       "  0%|          | 0/25 [00:00<?, ?it/s]"
      ]
     },
     "metadata": {},
     "output_type": "display_data"
    },
    {
     "data": {
      "application/vnd.jupyter.widget-view+json": {
       "model_id": "d015e08510944b44a2b56656ffdc1e35",
       "version_major": 2,
       "version_minor": 0
      },
      "text/plain": [
       "  0%|          | 0/25 [00:00<?, ?it/s]"
      ]
     },
     "metadata": {},
     "output_type": "display_data"
    },
    {
     "data": {
      "application/vnd.jupyter.widget-view+json": {
       "model_id": "93693e924789401f8579b3257957dee2",
       "version_major": 2,
       "version_minor": 0
      },
      "text/plain": [
       "  0%|          | 0/25 [00:00<?, ?it/s]"
      ]
     },
     "metadata": {},
     "output_type": "display_data"
    },
    {
     "data": {
      "application/vnd.jupyter.widget-view+json": {
       "model_id": "3c94ff423f254b379ed6a13c5264644b",
       "version_major": 2,
       "version_minor": 0
      },
      "text/plain": [
       "  0%|          | 0/25 [00:00<?, ?it/s]"
      ]
     },
     "metadata": {},
     "output_type": "display_data"
    },
    {
     "data": {
      "application/vnd.jupyter.widget-view+json": {
       "model_id": "a087b58529ca47ab81ba044c97b902d1",
       "version_major": 2,
       "version_minor": 0
      },
      "text/plain": [
       "  0%|          | 0/25 [00:00<?, ?it/s]"
      ]
     },
     "metadata": {},
     "output_type": "display_data"
    },
    {
     "data": {
      "application/vnd.jupyter.widget-view+json": {
       "model_id": "68de035e314c4453a14c74cfe68c0ad6",
       "version_major": 2,
       "version_minor": 0
      },
      "text/plain": [
       "  0%|          | 0/25 [00:00<?, ?it/s]"
      ]
     },
     "metadata": {},
     "output_type": "display_data"
    },
    {
     "data": {
      "application/vnd.jupyter.widget-view+json": {
       "model_id": "83c8825af72440ae9d27299e8a1c2769",
       "version_major": 2,
       "version_minor": 0
      },
      "text/plain": [
       "  0%|          | 0/25 [00:00<?, ?it/s]"
      ]
     },
     "metadata": {},
     "output_type": "display_data"
    },
    {
     "data": {
      "application/vnd.jupyter.widget-view+json": {
       "model_id": "12213c72f8fe4551852b13594a11ed6d",
       "version_major": 2,
       "version_minor": 0
      },
      "text/plain": [
       "  0%|          | 0/25 [00:00<?, ?it/s]"
      ]
     },
     "metadata": {},
     "output_type": "display_data"
    },
    {
     "data": {
      "application/vnd.jupyter.widget-view+json": {
       "model_id": "7f1d88c5ab11429f934f8fce64a81696",
       "version_major": 2,
       "version_minor": 0
      },
      "text/plain": [
       "  0%|          | 0/25 [00:00<?, ?it/s]"
      ]
     },
     "metadata": {},
     "output_type": "display_data"
    },
    {
     "data": {
      "application/vnd.jupyter.widget-view+json": {
       "model_id": "75ed058d3ad34ca395989421d1c9a811",
       "version_major": 2,
       "version_minor": 0
      },
      "text/plain": [
       "  0%|          | 0/25 [00:00<?, ?it/s]"
      ]
     },
     "metadata": {},
     "output_type": "display_data"
    },
    {
     "data": {
      "application/vnd.jupyter.widget-view+json": {
       "model_id": "418076df9cc6430eb09a028defc8afa6",
       "version_major": 2,
       "version_minor": 0
      },
      "text/plain": [
       "  0%|          | 0/25 [00:00<?, ?it/s]"
      ]
     },
     "metadata": {},
     "output_type": "display_data"
    },
    {
     "data": {
      "application/vnd.jupyter.widget-view+json": {
       "model_id": "b8404b9a845b41748940dc1ffaf2d908",
       "version_major": 2,
       "version_minor": 0
      },
      "text/plain": [
       "  0%|          | 0/25 [00:00<?, ?it/s]"
      ]
     },
     "metadata": {},
     "output_type": "display_data"
    },
    {
     "data": {
      "application/vnd.jupyter.widget-view+json": {
       "model_id": "54e98e286b0745c29742467c59affaaf",
       "version_major": 2,
       "version_minor": 0
      },
      "text/plain": [
       "  0%|          | 0/25 [00:00<?, ?it/s]"
      ]
     },
     "metadata": {},
     "output_type": "display_data"
    },
    {
     "data": {
      "application/vnd.jupyter.widget-view+json": {
       "model_id": "ae7815b05d504448aae8669650f79771",
       "version_major": 2,
       "version_minor": 0
      },
      "text/plain": [
       "  0%|          | 0/25 [00:00<?, ?it/s]"
      ]
     },
     "metadata": {},
     "output_type": "display_data"
    },
    {
     "data": {
      "application/vnd.jupyter.widget-view+json": {
       "model_id": "4590991a3fd448208d7c90f07a31b2fc",
       "version_major": 2,
       "version_minor": 0
      },
      "text/plain": [
       "  0%|          | 0/25 [00:00<?, ?it/s]"
      ]
     },
     "metadata": {},
     "output_type": "display_data"
    },
    {
     "data": {
      "application/vnd.jupyter.widget-view+json": {
       "model_id": "202d57fae905499a90645955530e01e8",
       "version_major": 2,
       "version_minor": 0
      },
      "text/plain": [
       "  0%|          | 0/25 [00:00<?, ?it/s]"
      ]
     },
     "metadata": {},
     "output_type": "display_data"
    },
    {
     "data": {
      "application/vnd.jupyter.widget-view+json": {
       "model_id": "51b62ffb1490454e94ad633b4316d71b",
       "version_major": 2,
       "version_minor": 0
      },
      "text/plain": [
       "  0%|          | 0/25 [00:00<?, ?it/s]"
      ]
     },
     "metadata": {},
     "output_type": "display_data"
    },
    {
     "data": {
      "application/vnd.jupyter.widget-view+json": {
       "model_id": "ac50c3937de147408053e9ba35ecad39",
       "version_major": 2,
       "version_minor": 0
      },
      "text/plain": [
       "  0%|          | 0/25 [00:00<?, ?it/s]"
      ]
     },
     "metadata": {},
     "output_type": "display_data"
    },
    {
     "data": {
      "application/vnd.jupyter.widget-view+json": {
       "model_id": "76cf11af02fa447fa27bc8580ad4959f",
       "version_major": 2,
       "version_minor": 0
      },
      "text/plain": [
       "  0%|          | 0/25 [00:00<?, ?it/s]"
      ]
     },
     "metadata": {},
     "output_type": "display_data"
    },
    {
     "data": {
      "application/vnd.jupyter.widget-view+json": {
       "model_id": "6e65b35714374e7b8b6d93a24c4bed0b",
       "version_major": 2,
       "version_minor": 0
      },
      "text/plain": [
       "  0%|          | 0/25 [00:00<?, ?it/s]"
      ]
     },
     "metadata": {},
     "output_type": "display_data"
    },
    {
     "data": {
      "application/vnd.jupyter.widget-view+json": {
       "model_id": "f348754b5f53425e8d8130757e52c541",
       "version_major": 2,
       "version_minor": 0
      },
      "text/plain": [
       "  0%|          | 0/25 [00:00<?, ?it/s]"
      ]
     },
     "metadata": {},
     "output_type": "display_data"
    },
    {
     "data": {
      "application/vnd.jupyter.widget-view+json": {
       "model_id": "0bcc89272fb041298222aaaee8bc9478",
       "version_major": 2,
       "version_minor": 0
      },
      "text/plain": [
       "  0%|          | 0/25 [00:00<?, ?it/s]"
      ]
     },
     "metadata": {},
     "output_type": "display_data"
    },
    {
     "data": {
      "application/vnd.jupyter.widget-view+json": {
       "model_id": "f419538e41af428d92e1fe74e4f4c43f",
       "version_major": 2,
       "version_minor": 0
      },
      "text/plain": [
       "  0%|          | 0/25 [00:00<?, ?it/s]"
      ]
     },
     "metadata": {},
     "output_type": "display_data"
    },
    {
     "data": {
      "application/vnd.jupyter.widget-view+json": {
       "model_id": "16b3cfa068f44d3685cd6759fa0abba2",
       "version_major": 2,
       "version_minor": 0
      },
      "text/plain": [
       "  0%|          | 0/25 [00:00<?, ?it/s]"
      ]
     },
     "metadata": {},
     "output_type": "display_data"
    },
    {
     "data": {
      "application/vnd.jupyter.widget-view+json": {
       "model_id": "82fe6397536c4d9cb3e3773eace8c04f",
       "version_major": 2,
       "version_minor": 0
      },
      "text/plain": [
       "  0%|          | 0/25 [00:00<?, ?it/s]"
      ]
     },
     "metadata": {},
     "output_type": "display_data"
    },
    {
     "data": {
      "application/vnd.jupyter.widget-view+json": {
       "model_id": "93ed4809eb544aa393f4be378fa5194b",
       "version_major": 2,
       "version_minor": 0
      },
      "text/plain": [
       "  0%|          | 0/25 [00:00<?, ?it/s]"
      ]
     },
     "metadata": {},
     "output_type": "display_data"
    },
    {
     "data": {
      "application/vnd.jupyter.widget-view+json": {
       "model_id": "6946ebb48a0f460eaf2902fa88aa0a59",
       "version_major": 2,
       "version_minor": 0
      },
      "text/plain": [
       "  0%|          | 0/25 [00:00<?, ?it/s]"
      ]
     },
     "metadata": {},
     "output_type": "display_data"
    },
    {
     "data": {
      "application/vnd.jupyter.widget-view+json": {
       "model_id": "f476cc1854ec48f1b2a7206bbb6b986a",
       "version_major": 2,
       "version_minor": 0
      },
      "text/plain": [
       "  0%|          | 0/25 [00:00<?, ?it/s]"
      ]
     },
     "metadata": {},
     "output_type": "display_data"
    },
    {
     "data": {
      "application/vnd.jupyter.widget-view+json": {
       "model_id": "0e7b0d2127224a0d8cd6b4d65a9cb78b",
       "version_major": 2,
       "version_minor": 0
      },
      "text/plain": [
       "  0%|          | 0/25 [00:00<?, ?it/s]"
      ]
     },
     "metadata": {},
     "output_type": "display_data"
    },
    {
     "data": {
      "application/vnd.jupyter.widget-view+json": {
       "model_id": "e25a37e3078048d9b3d6d1c28ae78ecc",
       "version_major": 2,
       "version_minor": 0
      },
      "text/plain": [
       "  0%|          | 0/25 [00:00<?, ?it/s]"
      ]
     },
     "metadata": {},
     "output_type": "display_data"
    }
   ],
   "source": [
    "device = torch.device('cuda:0' if torch.cuda.is_available() else 'cpu')\n",
    "\n",
    "dir = \"Metrics/method/\"\n",
    "statistics_dir = \"Statistics/PSO/method/\"\n",
    "\n",
    "for repository in tqdm(os.listdir(dir)):\n",
    "    if not os.path.exists(dir + repository + '/method_metrics.csv'):\n",
    "        continue\n",
    "    df = pd.read_csv(dir + repository + '/method_metrics.csv')\n",
    "    data = torch.from_numpy(df.iloc[:, 2:].to_numpy())\n",
    "    result = {}\n",
    "    for i in tqdm(range(2, df.shape[1]-1)):\n",
    "        feat_idx, error_log = PSO(data, sammon_error, i, device=device, use_tqdm=False)\n",
    "        result[i] = {\n",
    "            'repository': repository,\n",
    "            'size': data.shape[0],\n",
    "            'feat_idx': feat_idx.tolist(),\n",
    "            'error_log': error_log,\n",
    "        }\n",
    "    with open(statistics_dir + f\"{repository}.json\", 'w') as f:\n",
    "        json.dump(result, f)"
   ]
  },
  {
   "cell_type": "code",
   "execution_count": 21,
   "metadata": {},
   "outputs": [
    {
     "data": {
      "application/vnd.jupyter.widget-view+json": {
       "model_id": "ad8abf784af84b0bb4655a9d1a8213c3",
       "version_major": 2,
       "version_minor": 0
      },
      "text/plain": [
       "  0%|          | 0/115 [00:00<?, ?it/s]"
      ]
     },
     "metadata": {},
     "output_type": "display_data"
    },
    {
     "data": {
      "application/vnd.jupyter.widget-view+json": {
       "model_id": "4c5cb04a7a6b489e931284b096c1b53f",
       "version_major": 2,
       "version_minor": 0
      },
      "text/plain": [
       "  0%|          | 0/29 [00:00<?, ?it/s]"
      ]
     },
     "metadata": {},
     "output_type": "display_data"
    },
    {
     "data": {
      "application/vnd.jupyter.widget-view+json": {
       "model_id": "da794b6361754a849266eec28b6f8797",
       "version_major": 2,
       "version_minor": 0
      },
      "text/plain": [
       "  0%|          | 0/29 [00:00<?, ?it/s]"
      ]
     },
     "metadata": {},
     "output_type": "display_data"
    },
    {
     "data": {
      "application/vnd.jupyter.widget-view+json": {
       "model_id": "e637a7ca51724328ae97f0206c415c0e",
       "version_major": 2,
       "version_minor": 0
      },
      "text/plain": [
       "  0%|          | 0/29 [00:00<?, ?it/s]"
      ]
     },
     "metadata": {},
     "output_type": "display_data"
    },
    {
     "data": {
      "application/vnd.jupyter.widget-view+json": {
       "model_id": "4b52ae576bc84a11a8e112c4e449ff95",
       "version_major": 2,
       "version_minor": 0
      },
      "text/plain": [
       "  0%|          | 0/29 [00:00<?, ?it/s]"
      ]
     },
     "metadata": {},
     "output_type": "display_data"
    },
    {
     "data": {
      "application/vnd.jupyter.widget-view+json": {
       "model_id": "aaa2a5f4d2ca4ac0bd2cb6465e76f526",
       "version_major": 2,
       "version_minor": 0
      },
      "text/plain": [
       "  0%|          | 0/29 [00:00<?, ?it/s]"
      ]
     },
     "metadata": {},
     "output_type": "display_data"
    },
    {
     "data": {
      "application/vnd.jupyter.widget-view+json": {
       "model_id": "9c51bedd55724d9989352def2c976542",
       "version_major": 2,
       "version_minor": 0
      },
      "text/plain": [
       "  0%|          | 0/29 [00:00<?, ?it/s]"
      ]
     },
     "metadata": {},
     "output_type": "display_data"
    },
    {
     "data": {
      "application/vnd.jupyter.widget-view+json": {
       "model_id": "a585f671a7c243fe8a77939538f549c6",
       "version_major": 2,
       "version_minor": 0
      },
      "text/plain": [
       "  0%|          | 0/29 [00:00<?, ?it/s]"
      ]
     },
     "metadata": {},
     "output_type": "display_data"
    },
    {
     "data": {
      "application/vnd.jupyter.widget-view+json": {
       "model_id": "d191945a600c4760a3cc07284700c2cd",
       "version_major": 2,
       "version_minor": 0
      },
      "text/plain": [
       "  0%|          | 0/29 [00:00<?, ?it/s]"
      ]
     },
     "metadata": {},
     "output_type": "display_data"
    },
    {
     "data": {
      "application/vnd.jupyter.widget-view+json": {
       "model_id": "f9aba8fbc43749e3983af276a1361173",
       "version_major": 2,
       "version_minor": 0
      },
      "text/plain": [
       "  0%|          | 0/29 [00:00<?, ?it/s]"
      ]
     },
     "metadata": {},
     "output_type": "display_data"
    },
    {
     "data": {
      "application/vnd.jupyter.widget-view+json": {
       "model_id": "2a759b8fc8754e46a9e6bf52b5d578f8",
       "version_major": 2,
       "version_minor": 0
      },
      "text/plain": [
       "  0%|          | 0/29 [00:00<?, ?it/s]"
      ]
     },
     "metadata": {},
     "output_type": "display_data"
    },
    {
     "data": {
      "application/vnd.jupyter.widget-view+json": {
       "model_id": "993d37d01ebe4b41a0a7e785ad090b6d",
       "version_major": 2,
       "version_minor": 0
      },
      "text/plain": [
       "  0%|          | 0/29 [00:00<?, ?it/s]"
      ]
     },
     "metadata": {},
     "output_type": "display_data"
    },
    {
     "data": {
      "application/vnd.jupyter.widget-view+json": {
       "model_id": "177be2f9588b4fb299dfd9700bbfe571",
       "version_major": 2,
       "version_minor": 0
      },
      "text/plain": [
       "  0%|          | 0/29 [00:00<?, ?it/s]"
      ]
     },
     "metadata": {},
     "output_type": "display_data"
    },
    {
     "data": {
      "application/vnd.jupyter.widget-view+json": {
       "model_id": "b826a3038c994b36a66b82771c1be86d",
       "version_major": 2,
       "version_minor": 0
      },
      "text/plain": [
       "  0%|          | 0/29 [00:00<?, ?it/s]"
      ]
     },
     "metadata": {},
     "output_type": "display_data"
    },
    {
     "data": {
      "application/vnd.jupyter.widget-view+json": {
       "model_id": "9dee2c51ef5848faa2a498897746c092",
       "version_major": 2,
       "version_minor": 0
      },
      "text/plain": [
       "  0%|          | 0/29 [00:00<?, ?it/s]"
      ]
     },
     "metadata": {},
     "output_type": "display_data"
    },
    {
     "data": {
      "application/vnd.jupyter.widget-view+json": {
       "model_id": "bb2ab6eba1d2434cb5f8da635f374c2b",
       "version_major": 2,
       "version_minor": 0
      },
      "text/plain": [
       "  0%|          | 0/29 [00:00<?, ?it/s]"
      ]
     },
     "metadata": {},
     "output_type": "display_data"
    },
    {
     "data": {
      "application/vnd.jupyter.widget-view+json": {
       "model_id": "f4c8ebaf81f94449a3d962ba75a2ed6c",
       "version_major": 2,
       "version_minor": 0
      },
      "text/plain": [
       "  0%|          | 0/29 [00:00<?, ?it/s]"
      ]
     },
     "metadata": {},
     "output_type": "display_data"
    },
    {
     "data": {
      "application/vnd.jupyter.widget-view+json": {
       "model_id": "6f127e98d90e489386c14a2155615917",
       "version_major": 2,
       "version_minor": 0
      },
      "text/plain": [
       "  0%|          | 0/29 [00:00<?, ?it/s]"
      ]
     },
     "metadata": {},
     "output_type": "display_data"
    },
    {
     "data": {
      "application/vnd.jupyter.widget-view+json": {
       "model_id": "3137077a7d29486990bf12c23aab5ef0",
       "version_major": 2,
       "version_minor": 0
      },
      "text/plain": [
       "  0%|          | 0/29 [00:00<?, ?it/s]"
      ]
     },
     "metadata": {},
     "output_type": "display_data"
    },
    {
     "data": {
      "application/vnd.jupyter.widget-view+json": {
       "model_id": "d7898c8fbf37435395563c2e2cf8bce1",
       "version_major": 2,
       "version_minor": 0
      },
      "text/plain": [
       "  0%|          | 0/29 [00:00<?, ?it/s]"
      ]
     },
     "metadata": {},
     "output_type": "display_data"
    },
    {
     "data": {
      "application/vnd.jupyter.widget-view+json": {
       "model_id": "901d1dffc67d458fa300064257e4c31c",
       "version_major": 2,
       "version_minor": 0
      },
      "text/plain": [
       "  0%|          | 0/29 [00:00<?, ?it/s]"
      ]
     },
     "metadata": {},
     "output_type": "display_data"
    },
    {
     "data": {
      "application/vnd.jupyter.widget-view+json": {
       "model_id": "30c555bac0c8428eb13c9d9d3ab9d030",
       "version_major": 2,
       "version_minor": 0
      },
      "text/plain": [
       "  0%|          | 0/29 [00:00<?, ?it/s]"
      ]
     },
     "metadata": {},
     "output_type": "display_data"
    },
    {
     "data": {
      "application/vnd.jupyter.widget-view+json": {
       "model_id": "b4e81b274a124006be796116e4f87eda",
       "version_major": 2,
       "version_minor": 0
      },
      "text/plain": [
       "  0%|          | 0/29 [00:00<?, ?it/s]"
      ]
     },
     "metadata": {},
     "output_type": "display_data"
    },
    {
     "data": {
      "application/vnd.jupyter.widget-view+json": {
       "model_id": "1399ee23bb22466f9058ad31ba2fc41b",
       "version_major": 2,
       "version_minor": 0
      },
      "text/plain": [
       "  0%|          | 0/29 [00:00<?, ?it/s]"
      ]
     },
     "metadata": {},
     "output_type": "display_data"
    },
    {
     "data": {
      "application/vnd.jupyter.widget-view+json": {
       "model_id": "18658c9730224954b2e0081d307712ef",
       "version_major": 2,
       "version_minor": 0
      },
      "text/plain": [
       "  0%|          | 0/29 [00:00<?, ?it/s]"
      ]
     },
     "metadata": {},
     "output_type": "display_data"
    },
    {
     "data": {
      "application/vnd.jupyter.widget-view+json": {
       "model_id": "6ba866a5f50e4777b88a3f9bfb33a4ea",
       "version_major": 2,
       "version_minor": 0
      },
      "text/plain": [
       "  0%|          | 0/29 [00:00<?, ?it/s]"
      ]
     },
     "metadata": {},
     "output_type": "display_data"
    },
    {
     "data": {
      "application/vnd.jupyter.widget-view+json": {
       "model_id": "a02ca3ecab2b43529991958457334625",
       "version_major": 2,
       "version_minor": 0
      },
      "text/plain": [
       "  0%|          | 0/29 [00:00<?, ?it/s]"
      ]
     },
     "metadata": {},
     "output_type": "display_data"
    },
    {
     "data": {
      "application/vnd.jupyter.widget-view+json": {
       "model_id": "a9be3a3c7480470eaf2c56247be2a1ed",
       "version_major": 2,
       "version_minor": 0
      },
      "text/plain": [
       "  0%|          | 0/29 [00:00<?, ?it/s]"
      ]
     },
     "metadata": {},
     "output_type": "display_data"
    },
    {
     "data": {
      "application/vnd.jupyter.widget-view+json": {
       "model_id": "769bc2b79e5a4d789f793b69e9524bf7",
       "version_major": 2,
       "version_minor": 0
      },
      "text/plain": [
       "  0%|          | 0/29 [00:00<?, ?it/s]"
      ]
     },
     "metadata": {},
     "output_type": "display_data"
    },
    {
     "data": {
      "application/vnd.jupyter.widget-view+json": {
       "model_id": "e3c6a528d94c4269ba9d5f3848acc48a",
       "version_major": 2,
       "version_minor": 0
      },
      "text/plain": [
       "  0%|          | 0/29 [00:00<?, ?it/s]"
      ]
     },
     "metadata": {},
     "output_type": "display_data"
    },
    {
     "data": {
      "application/vnd.jupyter.widget-view+json": {
       "model_id": "f22f3ba3960749c8a82e154cee1cfd74",
       "version_major": 2,
       "version_minor": 0
      },
      "text/plain": [
       "  0%|          | 0/29 [00:00<?, ?it/s]"
      ]
     },
     "metadata": {},
     "output_type": "display_data"
    },
    {
     "data": {
      "application/vnd.jupyter.widget-view+json": {
       "model_id": "2e70c5adf03543188dacb4c287cdac12",
       "version_major": 2,
       "version_minor": 0
      },
      "text/plain": [
       "  0%|          | 0/29 [00:00<?, ?it/s]"
      ]
     },
     "metadata": {},
     "output_type": "display_data"
    },
    {
     "data": {
      "application/vnd.jupyter.widget-view+json": {
       "model_id": "25e1434cf83c4778998beced62d8e74a",
       "version_major": 2,
       "version_minor": 0
      },
      "text/plain": [
       "  0%|          | 0/29 [00:00<?, ?it/s]"
      ]
     },
     "metadata": {},
     "output_type": "display_data"
    },
    {
     "data": {
      "application/vnd.jupyter.widget-view+json": {
       "model_id": "c4409c1cd885462788661b256fc322a2",
       "version_major": 2,
       "version_minor": 0
      },
      "text/plain": [
       "  0%|          | 0/29 [00:00<?, ?it/s]"
      ]
     },
     "metadata": {},
     "output_type": "display_data"
    },
    {
     "data": {
      "application/vnd.jupyter.widget-view+json": {
       "model_id": "8d620070a234484a8960ead75c95d4c7",
       "version_major": 2,
       "version_minor": 0
      },
      "text/plain": [
       "  0%|          | 0/29 [00:00<?, ?it/s]"
      ]
     },
     "metadata": {},
     "output_type": "display_data"
    },
    {
     "data": {
      "application/vnd.jupyter.widget-view+json": {
       "model_id": "d56c9ad72bc544e9ae2b59f4b160e9f7",
       "version_major": 2,
       "version_minor": 0
      },
      "text/plain": [
       "  0%|          | 0/29 [00:00<?, ?it/s]"
      ]
     },
     "metadata": {},
     "output_type": "display_data"
    },
    {
     "data": {
      "application/vnd.jupyter.widget-view+json": {
       "model_id": "d751f8702c2b4bf791a7333520a6f027",
       "version_major": 2,
       "version_minor": 0
      },
      "text/plain": [
       "  0%|          | 0/29 [00:00<?, ?it/s]"
      ]
     },
     "metadata": {},
     "output_type": "display_data"
    },
    {
     "data": {
      "application/vnd.jupyter.widget-view+json": {
       "model_id": "c177cb187a1f4d5798c1c28ece10a6e7",
       "version_major": 2,
       "version_minor": 0
      },
      "text/plain": [
       "  0%|          | 0/29 [00:00<?, ?it/s]"
      ]
     },
     "metadata": {},
     "output_type": "display_data"
    },
    {
     "data": {
      "application/vnd.jupyter.widget-view+json": {
       "model_id": "4d439aefdaf64af5ac093ec79a527683",
       "version_major": 2,
       "version_minor": 0
      },
      "text/plain": [
       "  0%|          | 0/29 [00:00<?, ?it/s]"
      ]
     },
     "metadata": {},
     "output_type": "display_data"
    },
    {
     "data": {
      "application/vnd.jupyter.widget-view+json": {
       "model_id": "b816f6d660e847749a721dba08eec446",
       "version_major": 2,
       "version_minor": 0
      },
      "text/plain": [
       "  0%|          | 0/29 [00:00<?, ?it/s]"
      ]
     },
     "metadata": {},
     "output_type": "display_data"
    },
    {
     "data": {
      "application/vnd.jupyter.widget-view+json": {
       "model_id": "ee50515217634f0b9e9ff9359d59ff74",
       "version_major": 2,
       "version_minor": 0
      },
      "text/plain": [
       "  0%|          | 0/29 [00:00<?, ?it/s]"
      ]
     },
     "metadata": {},
     "output_type": "display_data"
    },
    {
     "data": {
      "application/vnd.jupyter.widget-view+json": {
       "model_id": "cc8aa1db24d94b5395eb81a507cc14e9",
       "version_major": 2,
       "version_minor": 0
      },
      "text/plain": [
       "  0%|          | 0/29 [00:00<?, ?it/s]"
      ]
     },
     "metadata": {},
     "output_type": "display_data"
    },
    {
     "data": {
      "application/vnd.jupyter.widget-view+json": {
       "model_id": "0f9030c963534fa0817173f10cc366f8",
       "version_major": 2,
       "version_minor": 0
      },
      "text/plain": [
       "  0%|          | 0/29 [00:00<?, ?it/s]"
      ]
     },
     "metadata": {},
     "output_type": "display_data"
    },
    {
     "data": {
      "application/vnd.jupyter.widget-view+json": {
       "model_id": "3e88ab3b4b7549f38a467b6b8787ed8b",
       "version_major": 2,
       "version_minor": 0
      },
      "text/plain": [
       "  0%|          | 0/29 [00:00<?, ?it/s]"
      ]
     },
     "metadata": {},
     "output_type": "display_data"
    },
    {
     "data": {
      "application/vnd.jupyter.widget-view+json": {
       "model_id": "98b55583e4c0484380b559346c315ce3",
       "version_major": 2,
       "version_minor": 0
      },
      "text/plain": [
       "  0%|          | 0/29 [00:00<?, ?it/s]"
      ]
     },
     "metadata": {},
     "output_type": "display_data"
    },
    {
     "data": {
      "application/vnd.jupyter.widget-view+json": {
       "model_id": "69da0c1fa8024241baa5c1211ee04f97",
       "version_major": 2,
       "version_minor": 0
      },
      "text/plain": [
       "  0%|          | 0/29 [00:00<?, ?it/s]"
      ]
     },
     "metadata": {},
     "output_type": "display_data"
    },
    {
     "data": {
      "application/vnd.jupyter.widget-view+json": {
       "model_id": "3a236289bcde4c4899a1db528f570de8",
       "version_major": 2,
       "version_minor": 0
      },
      "text/plain": [
       "  0%|          | 0/29 [00:00<?, ?it/s]"
      ]
     },
     "metadata": {},
     "output_type": "display_data"
    },
    {
     "data": {
      "application/vnd.jupyter.widget-view+json": {
       "model_id": "77afcf131dec47caaae8a4e31a846b0a",
       "version_major": 2,
       "version_minor": 0
      },
      "text/plain": [
       "  0%|          | 0/29 [00:00<?, ?it/s]"
      ]
     },
     "metadata": {},
     "output_type": "display_data"
    },
    {
     "data": {
      "application/vnd.jupyter.widget-view+json": {
       "model_id": "ee4920702ed241c69771a45d7b9d145f",
       "version_major": 2,
       "version_minor": 0
      },
      "text/plain": [
       "  0%|          | 0/29 [00:00<?, ?it/s]"
      ]
     },
     "metadata": {},
     "output_type": "display_data"
    },
    {
     "data": {
      "application/vnd.jupyter.widget-view+json": {
       "model_id": "121b75fb399c470694c9c28e3af8d06b",
       "version_major": 2,
       "version_minor": 0
      },
      "text/plain": [
       "  0%|          | 0/29 [00:00<?, ?it/s]"
      ]
     },
     "metadata": {},
     "output_type": "display_data"
    },
    {
     "data": {
      "application/vnd.jupyter.widget-view+json": {
       "model_id": "17953f30c00d4271bb14165cbe65731e",
       "version_major": 2,
       "version_minor": 0
      },
      "text/plain": [
       "  0%|          | 0/29 [00:00<?, ?it/s]"
      ]
     },
     "metadata": {},
     "output_type": "display_data"
    },
    {
     "data": {
      "application/vnd.jupyter.widget-view+json": {
       "model_id": "a01244174ac34b9d9737022da3182752",
       "version_major": 2,
       "version_minor": 0
      },
      "text/plain": [
       "  0%|          | 0/29 [00:00<?, ?it/s]"
      ]
     },
     "metadata": {},
     "output_type": "display_data"
    },
    {
     "data": {
      "application/vnd.jupyter.widget-view+json": {
       "model_id": "d1660b9c0dd748de8943f8644ad2ce45",
       "version_major": 2,
       "version_minor": 0
      },
      "text/plain": [
       "  0%|          | 0/29 [00:00<?, ?it/s]"
      ]
     },
     "metadata": {},
     "output_type": "display_data"
    },
    {
     "data": {
      "application/vnd.jupyter.widget-view+json": {
       "model_id": "9c99960ad6e54e1cbf5f13e309cab15f",
       "version_major": 2,
       "version_minor": 0
      },
      "text/plain": [
       "  0%|          | 0/29 [00:00<?, ?it/s]"
      ]
     },
     "metadata": {},
     "output_type": "display_data"
    },
    {
     "data": {
      "application/vnd.jupyter.widget-view+json": {
       "model_id": "68df54affafb431b85f0ce3d0be0d219",
       "version_major": 2,
       "version_minor": 0
      },
      "text/plain": [
       "  0%|          | 0/29 [00:00<?, ?it/s]"
      ]
     },
     "metadata": {},
     "output_type": "display_data"
    },
    {
     "data": {
      "application/vnd.jupyter.widget-view+json": {
       "model_id": "da8de3a4d03d4848987ec7670ac9c5e4",
       "version_major": 2,
       "version_minor": 0
      },
      "text/plain": [
       "  0%|          | 0/29 [00:00<?, ?it/s]"
      ]
     },
     "metadata": {},
     "output_type": "display_data"
    },
    {
     "data": {
      "application/vnd.jupyter.widget-view+json": {
       "model_id": "dd9122ce5d764bf0ab0bf3fd9bc45c01",
       "version_major": 2,
       "version_minor": 0
      },
      "text/plain": [
       "  0%|          | 0/29 [00:00<?, ?it/s]"
      ]
     },
     "metadata": {},
     "output_type": "display_data"
    },
    {
     "data": {
      "application/vnd.jupyter.widget-view+json": {
       "model_id": "fece69ffdd8344f182ba01a18553ea5e",
       "version_major": 2,
       "version_minor": 0
      },
      "text/plain": [
       "  0%|          | 0/29 [00:00<?, ?it/s]"
      ]
     },
     "metadata": {},
     "output_type": "display_data"
    },
    {
     "data": {
      "application/vnd.jupyter.widget-view+json": {
       "model_id": "5cc9d8d2fd0245af922099f2f6d38e13",
       "version_major": 2,
       "version_minor": 0
      },
      "text/plain": [
       "  0%|          | 0/29 [00:00<?, ?it/s]"
      ]
     },
     "metadata": {},
     "output_type": "display_data"
    },
    {
     "data": {
      "application/vnd.jupyter.widget-view+json": {
       "model_id": "9dfdecd74d03418c99a2150da6a8106a",
       "version_major": 2,
       "version_minor": 0
      },
      "text/plain": [
       "  0%|          | 0/29 [00:00<?, ?it/s]"
      ]
     },
     "metadata": {},
     "output_type": "display_data"
    },
    {
     "data": {
      "application/vnd.jupyter.widget-view+json": {
       "model_id": "7bdb12601c0248fc9c393d56342fe731",
       "version_major": 2,
       "version_minor": 0
      },
      "text/plain": [
       "  0%|          | 0/29 [00:00<?, ?it/s]"
      ]
     },
     "metadata": {},
     "output_type": "display_data"
    },
    {
     "data": {
      "application/vnd.jupyter.widget-view+json": {
       "model_id": "73328bd165c24c5d9313e159c337cab8",
       "version_major": 2,
       "version_minor": 0
      },
      "text/plain": [
       "  0%|          | 0/29 [00:00<?, ?it/s]"
      ]
     },
     "metadata": {},
     "output_type": "display_data"
    },
    {
     "data": {
      "application/vnd.jupyter.widget-view+json": {
       "model_id": "62c35c20ce2842fe872b32db1cd1982a",
       "version_major": 2,
       "version_minor": 0
      },
      "text/plain": [
       "  0%|          | 0/29 [00:00<?, ?it/s]"
      ]
     },
     "metadata": {},
     "output_type": "display_data"
    },
    {
     "data": {
      "application/vnd.jupyter.widget-view+json": {
       "model_id": "da1fcf376a41414ea87819612a5d5793",
       "version_major": 2,
       "version_minor": 0
      },
      "text/plain": [
       "  0%|          | 0/29 [00:00<?, ?it/s]"
      ]
     },
     "metadata": {},
     "output_type": "display_data"
    },
    {
     "data": {
      "application/vnd.jupyter.widget-view+json": {
       "model_id": "dfef0fca61e1421c934cc8be22575e6e",
       "version_major": 2,
       "version_minor": 0
      },
      "text/plain": [
       "  0%|          | 0/29 [00:00<?, ?it/s]"
      ]
     },
     "metadata": {},
     "output_type": "display_data"
    },
    {
     "data": {
      "application/vnd.jupyter.widget-view+json": {
       "model_id": "df3ed069efee403692f8ef875ed236af",
       "version_major": 2,
       "version_minor": 0
      },
      "text/plain": [
       "  0%|          | 0/29 [00:00<?, ?it/s]"
      ]
     },
     "metadata": {},
     "output_type": "display_data"
    },
    {
     "data": {
      "application/vnd.jupyter.widget-view+json": {
       "model_id": "e8db87125f0d449383d23ff6d535cffd",
       "version_major": 2,
       "version_minor": 0
      },
      "text/plain": [
       "  0%|          | 0/29 [00:00<?, ?it/s]"
      ]
     },
     "metadata": {},
     "output_type": "display_data"
    },
    {
     "data": {
      "application/vnd.jupyter.widget-view+json": {
       "model_id": "31e7f651025b42478c1932732610d532",
       "version_major": 2,
       "version_minor": 0
      },
      "text/plain": [
       "  0%|          | 0/29 [00:00<?, ?it/s]"
      ]
     },
     "metadata": {},
     "output_type": "display_data"
    },
    {
     "data": {
      "application/vnd.jupyter.widget-view+json": {
       "model_id": "dca2bd5098aa4b728d7ea607404871aa",
       "version_major": 2,
       "version_minor": 0
      },
      "text/plain": [
       "  0%|          | 0/29 [00:00<?, ?it/s]"
      ]
     },
     "metadata": {},
     "output_type": "display_data"
    },
    {
     "data": {
      "application/vnd.jupyter.widget-view+json": {
       "model_id": "cf4cc9e5eb8949728c7fad027d59276f",
       "version_major": 2,
       "version_minor": 0
      },
      "text/plain": [
       "  0%|          | 0/29 [00:00<?, ?it/s]"
      ]
     },
     "metadata": {},
     "output_type": "display_data"
    },
    {
     "data": {
      "application/vnd.jupyter.widget-view+json": {
       "model_id": "3aa08766f2df4ced9632be140653b165",
       "version_major": 2,
       "version_minor": 0
      },
      "text/plain": [
       "  0%|          | 0/29 [00:00<?, ?it/s]"
      ]
     },
     "metadata": {},
     "output_type": "display_data"
    },
    {
     "data": {
      "application/vnd.jupyter.widget-view+json": {
       "model_id": "86e5009101dc46a9890a94861dac1608",
       "version_major": 2,
       "version_minor": 0
      },
      "text/plain": [
       "  0%|          | 0/29 [00:00<?, ?it/s]"
      ]
     },
     "metadata": {},
     "output_type": "display_data"
    },
    {
     "data": {
      "application/vnd.jupyter.widget-view+json": {
       "model_id": "e3e5c09dd3ed44beac3857a911c96355",
       "version_major": 2,
       "version_minor": 0
      },
      "text/plain": [
       "  0%|          | 0/29 [00:00<?, ?it/s]"
      ]
     },
     "metadata": {},
     "output_type": "display_data"
    },
    {
     "data": {
      "application/vnd.jupyter.widget-view+json": {
       "model_id": "2faeb7b64ae8467e9712abb4c9f841be",
       "version_major": 2,
       "version_minor": 0
      },
      "text/plain": [
       "  0%|          | 0/29 [00:00<?, ?it/s]"
      ]
     },
     "metadata": {},
     "output_type": "display_data"
    },
    {
     "data": {
      "application/vnd.jupyter.widget-view+json": {
       "model_id": "509c3317539243d2892b2a1fce7ed1b9",
       "version_major": 2,
       "version_minor": 0
      },
      "text/plain": [
       "  0%|          | 0/29 [00:00<?, ?it/s]"
      ]
     },
     "metadata": {},
     "output_type": "display_data"
    },
    {
     "data": {
      "application/vnd.jupyter.widget-view+json": {
       "model_id": "b9fdeac2d02a4ce083c68fe4b2e9fa4e",
       "version_major": 2,
       "version_minor": 0
      },
      "text/plain": [
       "  0%|          | 0/29 [00:00<?, ?it/s]"
      ]
     },
     "metadata": {},
     "output_type": "display_data"
    },
    {
     "data": {
      "application/vnd.jupyter.widget-view+json": {
       "model_id": "315a65c1072f4d31b4f192987137c100",
       "version_major": 2,
       "version_minor": 0
      },
      "text/plain": [
       "  0%|          | 0/29 [00:00<?, ?it/s]"
      ]
     },
     "metadata": {},
     "output_type": "display_data"
    },
    {
     "data": {
      "application/vnd.jupyter.widget-view+json": {
       "model_id": "5608dec0ae944dd4b5c2a34b278374cf",
       "version_major": 2,
       "version_minor": 0
      },
      "text/plain": [
       "  0%|          | 0/29 [00:00<?, ?it/s]"
      ]
     },
     "metadata": {},
     "output_type": "display_data"
    },
    {
     "data": {
      "application/vnd.jupyter.widget-view+json": {
       "model_id": "9b9be858c88541c9824a4e40aa936b74",
       "version_major": 2,
       "version_minor": 0
      },
      "text/plain": [
       "  0%|          | 0/29 [00:00<?, ?it/s]"
      ]
     },
     "metadata": {},
     "output_type": "display_data"
    },
    {
     "data": {
      "application/vnd.jupyter.widget-view+json": {
       "model_id": "4953e466607849108d5bdfbf4f8716f0",
       "version_major": 2,
       "version_minor": 0
      },
      "text/plain": [
       "  0%|          | 0/29 [00:00<?, ?it/s]"
      ]
     },
     "metadata": {},
     "output_type": "display_data"
    },
    {
     "data": {
      "application/vnd.jupyter.widget-view+json": {
       "model_id": "f8bd3beef26c4e42b7634dc0b01c6af9",
       "version_major": 2,
       "version_minor": 0
      },
      "text/plain": [
       "  0%|          | 0/29 [00:00<?, ?it/s]"
      ]
     },
     "metadata": {},
     "output_type": "display_data"
    },
    {
     "data": {
      "application/vnd.jupyter.widget-view+json": {
       "model_id": "07508f05524f49ba8021d0dfa1b0fc8d",
       "version_major": 2,
       "version_minor": 0
      },
      "text/plain": [
       "  0%|          | 0/29 [00:00<?, ?it/s]"
      ]
     },
     "metadata": {},
     "output_type": "display_data"
    },
    {
     "data": {
      "application/vnd.jupyter.widget-view+json": {
       "model_id": "d4b3a8ba344c41b68108b28e8905f48a",
       "version_major": 2,
       "version_minor": 0
      },
      "text/plain": [
       "  0%|          | 0/29 [00:00<?, ?it/s]"
      ]
     },
     "metadata": {},
     "output_type": "display_data"
    },
    {
     "data": {
      "application/vnd.jupyter.widget-view+json": {
       "model_id": "cf7208c25a55415ea3e36fa24b017a53",
       "version_major": 2,
       "version_minor": 0
      },
      "text/plain": [
       "  0%|          | 0/29 [00:00<?, ?it/s]"
      ]
     },
     "metadata": {},
     "output_type": "display_data"
    },
    {
     "data": {
      "application/vnd.jupyter.widget-view+json": {
       "model_id": "bf139e977d4e43479475188cca282672",
       "version_major": 2,
       "version_minor": 0
      },
      "text/plain": [
       "  0%|          | 0/29 [00:00<?, ?it/s]"
      ]
     },
     "metadata": {},
     "output_type": "display_data"
    },
    {
     "data": {
      "application/vnd.jupyter.widget-view+json": {
       "model_id": "805e4390d5b64b05a2cae547b3b21de9",
       "version_major": 2,
       "version_minor": 0
      },
      "text/plain": [
       "  0%|          | 0/29 [00:00<?, ?it/s]"
      ]
     },
     "metadata": {},
     "output_type": "display_data"
    },
    {
     "data": {
      "application/vnd.jupyter.widget-view+json": {
       "model_id": "918a5e10a92b4899b2541f5a4550e905",
       "version_major": 2,
       "version_minor": 0
      },
      "text/plain": [
       "  0%|          | 0/29 [00:00<?, ?it/s]"
      ]
     },
     "metadata": {},
     "output_type": "display_data"
    },
    {
     "data": {
      "application/vnd.jupyter.widget-view+json": {
       "model_id": "bb7867564652450caecb8964055aa89d",
       "version_major": 2,
       "version_minor": 0
      },
      "text/plain": [
       "  0%|          | 0/29 [00:00<?, ?it/s]"
      ]
     },
     "metadata": {},
     "output_type": "display_data"
    },
    {
     "data": {
      "application/vnd.jupyter.widget-view+json": {
       "model_id": "57e16c679bc44d8ba9763225f7da25ce",
       "version_major": 2,
       "version_minor": 0
      },
      "text/plain": [
       "  0%|          | 0/29 [00:00<?, ?it/s]"
      ]
     },
     "metadata": {},
     "output_type": "display_data"
    },
    {
     "data": {
      "application/vnd.jupyter.widget-view+json": {
       "model_id": "05b3a71a24ce4636a1f977007acacddb",
       "version_major": 2,
       "version_minor": 0
      },
      "text/plain": [
       "  0%|          | 0/29 [00:00<?, ?it/s]"
      ]
     },
     "metadata": {},
     "output_type": "display_data"
    },
    {
     "data": {
      "application/vnd.jupyter.widget-view+json": {
       "model_id": "f9100451cfca428cb40923d48cc7668b",
       "version_major": 2,
       "version_minor": 0
      },
      "text/plain": [
       "  0%|          | 0/29 [00:00<?, ?it/s]"
      ]
     },
     "metadata": {},
     "output_type": "display_data"
    },
    {
     "data": {
      "application/vnd.jupyter.widget-view+json": {
       "model_id": "4672684c041a419787af1e027adcc68f",
       "version_major": 2,
       "version_minor": 0
      },
      "text/plain": [
       "  0%|          | 0/29 [00:00<?, ?it/s]"
      ]
     },
     "metadata": {},
     "output_type": "display_data"
    },
    {
     "data": {
      "application/vnd.jupyter.widget-view+json": {
       "model_id": "2667c9474b644f3abf0ec21e9da36f07",
       "version_major": 2,
       "version_minor": 0
      },
      "text/plain": [
       "  0%|          | 0/29 [00:00<?, ?it/s]"
      ]
     },
     "metadata": {},
     "output_type": "display_data"
    },
    {
     "data": {
      "application/vnd.jupyter.widget-view+json": {
       "model_id": "cfa7b40dad6c4236aaa3a04b56015566",
       "version_major": 2,
       "version_minor": 0
      },
      "text/plain": [
       "  0%|          | 0/29 [00:00<?, ?it/s]"
      ]
     },
     "metadata": {},
     "output_type": "display_data"
    },
    {
     "data": {
      "application/vnd.jupyter.widget-view+json": {
       "model_id": "6342621cc39b4e48bacff10652cb8ccf",
       "version_major": 2,
       "version_minor": 0
      },
      "text/plain": [
       "  0%|          | 0/29 [00:00<?, ?it/s]"
      ]
     },
     "metadata": {},
     "output_type": "display_data"
    },
    {
     "data": {
      "application/vnd.jupyter.widget-view+json": {
       "model_id": "0258b7250fee40c082a5507cded19327",
       "version_major": 2,
       "version_minor": 0
      },
      "text/plain": [
       "  0%|          | 0/29 [00:00<?, ?it/s]"
      ]
     },
     "metadata": {},
     "output_type": "display_data"
    },
    {
     "data": {
      "application/vnd.jupyter.widget-view+json": {
       "model_id": "97106f6dc02a4b6a8ceeb639e0a1630e",
       "version_major": 2,
       "version_minor": 0
      },
      "text/plain": [
       "  0%|          | 0/29 [00:00<?, ?it/s]"
      ]
     },
     "metadata": {},
     "output_type": "display_data"
    },
    {
     "data": {
      "application/vnd.jupyter.widget-view+json": {
       "model_id": "e423bb0cb0b7487aacfd6f194810ef0b",
       "version_major": 2,
       "version_minor": 0
      },
      "text/plain": [
       "  0%|          | 0/29 [00:00<?, ?it/s]"
      ]
     },
     "metadata": {},
     "output_type": "display_data"
    },
    {
     "data": {
      "application/vnd.jupyter.widget-view+json": {
       "model_id": "9d24e7a58b28463d8fbf2a4343c32f67",
       "version_major": 2,
       "version_minor": 0
      },
      "text/plain": [
       "  0%|          | 0/29 [00:00<?, ?it/s]"
      ]
     },
     "metadata": {},
     "output_type": "display_data"
    },
    {
     "data": {
      "application/vnd.jupyter.widget-view+json": {
       "model_id": "c310f77ec6924999b524c4828e1312d9",
       "version_major": 2,
       "version_minor": 0
      },
      "text/plain": [
       "  0%|          | 0/29 [00:00<?, ?it/s]"
      ]
     },
     "metadata": {},
     "output_type": "display_data"
    },
    {
     "data": {
      "application/vnd.jupyter.widget-view+json": {
       "model_id": "1bb8362e5068470e81f916a1e2628ce7",
       "version_major": 2,
       "version_minor": 0
      },
      "text/plain": [
       "  0%|          | 0/29 [00:00<?, ?it/s]"
      ]
     },
     "metadata": {},
     "output_type": "display_data"
    },
    {
     "data": {
      "application/vnd.jupyter.widget-view+json": {
       "model_id": "493a7099583c45fd9e8527ab7ade6ba0",
       "version_major": 2,
       "version_minor": 0
      },
      "text/plain": [
       "  0%|          | 0/29 [00:00<?, ?it/s]"
      ]
     },
     "metadata": {},
     "output_type": "display_data"
    },
    {
     "data": {
      "application/vnd.jupyter.widget-view+json": {
       "model_id": "eeb91d8aaa3043759ce6c64d02b422e0",
       "version_major": 2,
       "version_minor": 0
      },
      "text/plain": [
       "  0%|          | 0/29 [00:00<?, ?it/s]"
      ]
     },
     "metadata": {},
     "output_type": "display_data"
    },
    {
     "data": {
      "application/vnd.jupyter.widget-view+json": {
       "model_id": "5826f286462a43cf84ebd788b1d9e518",
       "version_major": 2,
       "version_minor": 0
      },
      "text/plain": [
       "  0%|          | 0/29 [00:00<?, ?it/s]"
      ]
     },
     "metadata": {},
     "output_type": "display_data"
    },
    {
     "data": {
      "application/vnd.jupyter.widget-view+json": {
       "model_id": "5fcf96ce9c674f71b9e9f8c25053ea3c",
       "version_major": 2,
       "version_minor": 0
      },
      "text/plain": [
       "  0%|          | 0/29 [00:00<?, ?it/s]"
      ]
     },
     "metadata": {},
     "output_type": "display_data"
    },
    {
     "data": {
      "application/vnd.jupyter.widget-view+json": {
       "model_id": "2f0eaa38311e4e93864e4f3ed91dc57c",
       "version_major": 2,
       "version_minor": 0
      },
      "text/plain": [
       "  0%|          | 0/29 [00:00<?, ?it/s]"
      ]
     },
     "metadata": {},
     "output_type": "display_data"
    },
    {
     "data": {
      "application/vnd.jupyter.widget-view+json": {
       "model_id": "e9d543145a68413083e1cda21101bc27",
       "version_major": 2,
       "version_minor": 0
      },
      "text/plain": [
       "  0%|          | 0/29 [00:00<?, ?it/s]"
      ]
     },
     "metadata": {},
     "output_type": "display_data"
    },
    {
     "data": {
      "application/vnd.jupyter.widget-view+json": {
       "model_id": "d1a0370a6d8a4e33a03574af8da79183",
       "version_major": 2,
       "version_minor": 0
      },
      "text/plain": [
       "  0%|          | 0/29 [00:00<?, ?it/s]"
      ]
     },
     "metadata": {},
     "output_type": "display_data"
    },
    {
     "data": {
      "application/vnd.jupyter.widget-view+json": {
       "model_id": "c99da5f9086a40298c6a7a26dda5a050",
       "version_major": 2,
       "version_minor": 0
      },
      "text/plain": [
       "  0%|          | 0/29 [00:00<?, ?it/s]"
      ]
     },
     "metadata": {},
     "output_type": "display_data"
    },
    {
     "data": {
      "application/vnd.jupyter.widget-view+json": {
       "model_id": "5864f7b550f742fa9d29e2a2fe1f671a",
       "version_major": 2,
       "version_minor": 0
      },
      "text/plain": [
       "  0%|          | 0/29 [00:00<?, ?it/s]"
      ]
     },
     "metadata": {},
     "output_type": "display_data"
    },
    {
     "data": {
      "application/vnd.jupyter.widget-view+json": {
       "model_id": "532593ac11a14ccbb6cd5d2b3d92e479",
       "version_major": 2,
       "version_minor": 0
      },
      "text/plain": [
       "  0%|          | 0/29 [00:00<?, ?it/s]"
      ]
     },
     "metadata": {},
     "output_type": "display_data"
    },
    {
     "data": {
      "application/vnd.jupyter.widget-view+json": {
       "model_id": "36cababab1be446091369b755b5b52c8",
       "version_major": 2,
       "version_minor": 0
      },
      "text/plain": [
       "  0%|          | 0/29 [00:00<?, ?it/s]"
      ]
     },
     "metadata": {},
     "output_type": "display_data"
    },
    {
     "data": {
      "application/vnd.jupyter.widget-view+json": {
       "model_id": "3ceb795d641345e7b895e6debab648e9",
       "version_major": 2,
       "version_minor": 0
      },
      "text/plain": [
       "  0%|          | 0/29 [00:00<?, ?it/s]"
      ]
     },
     "metadata": {},
     "output_type": "display_data"
    },
    {
     "data": {
      "application/vnd.jupyter.widget-view+json": {
       "model_id": "f3c9deb1028044798114ce17d726f888",
       "version_major": 2,
       "version_minor": 0
      },
      "text/plain": [
       "  0%|          | 0/29 [00:00<?, ?it/s]"
      ]
     },
     "metadata": {},
     "output_type": "display_data"
    },
    {
     "data": {
      "application/vnd.jupyter.widget-view+json": {
       "model_id": "39bcfa27684f412999f4fa66fe3d9f9c",
       "version_major": 2,
       "version_minor": 0
      },
      "text/plain": [
       "  0%|          | 0/29 [00:00<?, ?it/s]"
      ]
     },
     "metadata": {},
     "output_type": "display_data"
    },
    {
     "data": {
      "application/vnd.jupyter.widget-view+json": {
       "model_id": "082e9127bb514b9e92ca7066a945d8f0",
       "version_major": 2,
       "version_minor": 0
      },
      "text/plain": [
       "  0%|          | 0/29 [00:00<?, ?it/s]"
      ]
     },
     "metadata": {},
     "output_type": "display_data"
    }
   ],
   "source": [
    "device = torch.device('cuda:0' if torch.cuda.is_available() else 'cpu')\n",
    "\n",
    "dir = \"Metrics/class/\"\n",
    "statistics_dir = \"Statistics/PSO/class/\"\n",
    "\n",
    "for repository in tqdm(os.listdir(dir)):\n",
    "    df = pd.read_csv(dir + repository + '/sm_metrics.csv')\n",
    "    data = torch.from_numpy(df.iloc[:, 3:].to_numpy()).double()\n",
    "    result = {}\n",
    "    for i in tqdm(range(2, df.shape[1]-2)):\n",
    "        feat_idx, error_log = PSO(data, sammon_error, i, device=device, use_tqdm=False)\n",
    "        result[i] = {\n",
    "            'repository': repository,\n",
    "            'size': data.shape[0],\n",
    "            'feat_idx': feat_idx.tolist(),\n",
    "            'error_log': error_log,\n",
    "        }\n",
    "    with open(statistics_dir + f\"{repository}.json\", 'w') as f:\n",
    "        json.dump(result, f)"
   ]
  },
  {
   "cell_type": "code",
   "execution_count": 23,
   "metadata": {},
   "outputs": [
    {
     "name": "stdout",
     "output_type": "stream",
     "text": [
      "  adding: Statistics/ (stored 0%)\n",
      "  adding: Statistics/GA/ (stored 0%)\n",
      "  adding: Statistics/GA/method/ (stored 0%)\n",
      "  adding: Statistics/GA/method/yt-dlp_yt-dlp.json (deflated 94%)\n",
      "  adding: Statistics/GA/method/django_django.json (deflated 94%)\n",
      "  adding: Statistics/GA/method/gunthercox_ChatterBot.json (deflated 94%)\n",
      "  adding: Statistics/GA/method/psf_black.json (deflated 94%)\n",
      "  adding: Statistics/GA/method/Lightning-AI_lightning.json (deflated 94%)\n",
      "  adding: Statistics/GA/method/hankcs_HanLP.json (deflated 94%)\n",
      "  adding: Statistics/GA/method/Mikubill_sd-webui-controlnet.json (deflated 93%)\n",
      "  adding: Statistics/GA/method/python_mypy.json (deflated 94%)\n",
      "  adding: Statistics/GA/method/.ipynb_checkpoints/ (stored 0%)\n",
      "  adding: Statistics/GA/method/.ipynb_checkpoints/Delgan_loguruGA-checkpoint.json (deflated 94%)\n",
      "  adding: Statistics/GA/method/.ipynb_checkpoints/pytorch_pytorchGA-checkpoint.json (deflated 94%)\n",
      "  adding: Statistics/GA/method/.ipynb_checkpoints/apache_tvmGA-checkpoint.json (deflated 93%)\n",
      "  adding: Statistics/GA/method/.ipynb_checkpoints/spotify_luigiGA-checkpoint.json (deflated 94%)\n",
      "  adding: Statistics/GA/method/.ipynb_checkpoints/gradio-app_gradio-checkpoint.json (deflated 93%)\n",
      "  adding: Statistics/GA/method/.ipynb_checkpoints/ultralytics_ultralyticsGA-checkpoint.json (deflated 94%)\n",
      "  adding: Statistics/GA/method/.ipynb_checkpoints/gradio-app_gradioGA-checkpoint.json (deflated 94%)\n",
      "  adding: Statistics/GA/method/.ipynb_checkpoints/gunthercox_ChatterBot-checkpoint.json (deflated 94%)\n",
      "  adding: Statistics/GA/method/.ipynb_checkpoints/keras-team_kerasGA-checkpoint.json (deflated 93%)\n",
      "  adding: Statistics/GA/method/.ipynb_checkpoints/gunthercox_ChatterBotGA-checkpoint.json (deflated 94%)\n",
      "  adding: Statistics/GA/method/.ipynb_checkpoints/twitter_the-algorithm-mlGA-checkpoint.json (deflated 94%)\n",
      "  adding: Statistics/GA/method/sanic-org_sanic.json (deflated 94%)\n",
      "  adding: Statistics/GA/method/AUTOMATIC1111_stable-diffusion-webui.json (deflated 94%)\n",
      "  adding: Statistics/GA/method/saltstack_salt.json (deflated 94%)\n",
      "  adding: Statistics/GA/method/ultralytics_ultralytics.json (deflated 94%)\n",
      "  adding: Statistics/GA/method/python-telegram-bot_python-telegram-bot.json (deflated 94%)\n",
      "  adding: Statistics/GA/method/pyodide_pyodide.json (deflated 94%)\n",
      "  adding: Statistics/GA/method/hpcaitech_ColossalAI.json (deflated 94%)\n",
      "  adding: Statistics/GA/method/quantopian_zipline.json (deflated 94%)\n",
      "  adding: Statistics/GA/method/httpie_cli.json (deflated 94%)\n",
      "  adding: Statistics/GA/method/google_jax.json (deflated 94%)\n",
      "  adding: Statistics/GA/method/Textualize_rich.json (deflated 94%)\n",
      "  adding: Statistics/GA/method/localstack_localstack.json (deflated 94%)\n",
      "  adding: Statistics/GA/method/huggingface_transformers.json (deflated 94%)\n",
      "  adding: Statistics/GA/method/pytorch_pytorch.json (deflated 94%)\n",
      "  adding: Statistics/GA/method/horovod_horovod.json (deflated 94%)\n",
      "  adding: Statistics/GA/method/mlc-ai_mlc-llm.json (deflated 94%)\n",
      "  adding: Statistics/GA/method/ytdl-org_youtube-dl.json (deflated 94%)\n",
      "  adding: Statistics/GA/method/RasaHQ_rasa.json (deflated 94%)\n",
      "  adding: Statistics/GA/method/gradio-app_gradio.json (deflated 93%)\n",
      "  adding: Statistics/GA/method/Ciphey_Ciphey.json (deflated 93%)\n",
      "  adding: Statistics/GA/method/mlflow_mlflow.json (deflated 94%)\n",
      "  adding: Statistics/GA/method/apache_tvm.json (deflated 94%)\n",
      "  adding: Statistics/GA/method/pypa_pipenv.json (deflated 94%)\n",
      "  adding: Statistics/GA/method/recommenders-team_recommenders.json (deflated 93%)\n",
      "  adding: Statistics/GA/method/lllyasviel_Fooocus.json (deflated 93%)\n",
      "  adding: Statistics/GA/method/lllyasviel_ControlNet.json (deflated 93%)\n",
      "  adding: Statistics/GA/method/borgbackup_borg.json (deflated 93%)\n",
      "  adding: Statistics/GA/method/comfyanonymous_ComfyUI.json (deflated 94%)\n",
      "  adding: Statistics/GA/method/karlproject_karl.json (deflated 94%)\n",
      "  adding: Statistics/GA/method/ddbourgin_numpy-ml.json (deflated 93%)\n",
      "  adding: Statistics/GA/method/mindsdb_mindsdb.json (deflated 94%)\n",
      "  adding: Statistics/GA/method/ranger_ranger.json (deflated 93%)\n",
      "  adding: Statistics/GA/method/huggingface_diffusers.json (deflated 94%)\n",
      "  adding: Statistics/GA/method/ludwig-ai_ludwig.json (deflated 93%)\n",
      "  adding: Statistics/GA/method/XX-net_XX-Net.json (deflated 93%)\n",
      "  adding: Statistics/GA/method/matplotlib_matplotlib.json (deflated 93%)\n",
      "  adding: Statistics/GA/method/nvbn_thefuck.json (deflated 93%)\n",
      "  adding: Statistics/GA/method/spotify_luigi.json (deflated 94%)\n",
      "  adding: Statistics/GA/method/merenlab_anvio.json (deflated 94%)\n",
      "  adding: Statistics/GA/method/commaai_openpilot.json (deflated 94%)\n",
      "  adding: Statistics/GA/method/ipython_ipython.json (deflated 94%)\n",
      "  adding: Statistics/GA/method/LAION-AI_Open-Assistant.json (deflated 94%)\n",
      "  adding: Statistics/GA/method/ansible_ansible.json (deflated 94%)\n",
      "  adding: Statistics/GA/method/powerline_powerline.json (deflated 94%)\n",
      "  adding: Statistics/GA/method/PaddlePaddle_PaddleOCR.json (deflated 93%)\n",
      "  adding: Statistics/GA/method/pytorch_audio.json (deflated 94%)\n",
      "  adding: Statistics/GA/method/numpy_numpy.json (deflated 94%)\n",
      "  adding: Statistics/GA/method/unifyai_ivy.json (deflated 94%)\n",
      "  adding: Statistics/GA/method/tiangolo_fastapi.json (deflated 94%)\n",
      "  adding: Statistics/GA/method/Delgan_loguru.json (deflated 94%)\n",
      "  adding: Statistics/GA/method/certbot_certbot.json (deflated 94%)\n",
      "  adding: Statistics/GA/method/scrapy_scrapy.json (deflated 94%)\n",
      "  adding: Statistics/GA/method/RaRe-Technologies_gensim.json (deflated 94%)\n",
      "  adding: Statistics/GA/method/oobabooga_text-generation-webui.json (deflated 94%)\n",
      "  adding: Statistics/GA/method/zhayujie_chatgpt-on-wechat.json (deflated 94%)\n",
      "  adding: Statistics/GA/method/aws_aws-cli.json (deflated 94%)\n",
      "  adding: Statistics/GA/method/PrefectHQ_prefect.json (deflated 94%)\n",
      "  adding: Statistics/GA/method/OpenBB-finance_OpenBBTerminal.json (deflated 94%)\n",
      "  adding: Statistics/GA/method/pytorch_vision.json (deflated 93%)\n",
      "  adding: Statistics/GA/method/pyecharts_pyecharts.json (deflated 94%)\n",
      "  adding: Statistics/GA/method/twitter_the-algorithm-ml.json (deflated 93%)\n",
      "  adding: Statistics/GA/method/reflex-dev_reflex.json (deflated 94%)\n",
      "  adding: Statistics/GA/method/OpenBMB_ChatDev.json (deflated 93%)\n",
      "  adding: Statistics/GA/method/freqtrade_freqtrade.json (deflated 94%)\n",
      "  adding: Statistics/GA/method/Rapptz_discord.py.json (deflated 94%)\n",
      "  adding: Statistics/GA/method/openai_gym.json (deflated 94%)\n",
      "  adding: Statistics/GA/method/jantic_DeOldify.json (deflated 94%)\n",
      "  adding: Statistics/GA/method/flairNLP_flair.json (deflated 93%)\n",
      "  adding: Statistics/GA/method/frappe_erpnext.json (deflated 94%)\n",
      "  adding: Statistics/GA/method/aleju_imgaug.json (deflated 94%)\n",
      "  adding: Statistics/GA/method/smicallef_spiderfoot.json (deflated 94%)\n",
      "  adding: Statistics/GA/method/keras-team_keras.json (deflated 94%)\n",
      "  adding: Statistics/GA/method/babysor_MockingBird.json (deflated 94%)\n",
      "  adding: Statistics/GA/method/facebookresearch_ParlAI.json (deflated 94%)\n",
      "  adding: Statistics/GA/method/pandas-dev_pandas.json (deflated 94%)\n",
      "  adding: Statistics/GA/method/mitmproxy_mitmproxy.json (deflated 94%)\n",
      "  adding: Statistics/GA/method/PaddlePaddle_PaddleNLP.json (deflated 94%)\n",
      "  adding: Statistics/GA/method/aio-libs_aiohttp.json (deflated 94%)\n",
      "  adding: Statistics/GA/method/HumanSignal_label-studio.json (deflated 94%)\n",
      "  adding: Statistics/GA/method/nicolargo_glances.json (deflated 94%)\n",
      "  adding: Statistics/GA/method/jina-ai_jina.json (deflated 94%)\n",
      "  adding: Statistics/GA/method/microsoft_nni.json (deflated 94%)\n",
      "  adding: Statistics/GA/method/kivy_kivy.json (deflated 94%)\n",
      "  adding: Statistics/GA/method/networkx_networkx.json (deflated 93%)\n",
      "  adding: Statistics/GA/method/spotDL_spotify-downloader.json (deflated 94%)\n",
      "  adding: Statistics/GA/class/ (stored 0%)\n",
      "  adding: Statistics/GA/class/yt-dlp_yt-dlp.json (deflated 93%)\n",
      "  adding: Statistics/GA/class/django_django.json (deflated 93%)\n",
      "  adding: Statistics/GA/class/gunthercox_ChatterBot.json (deflated 93%)\n",
      "  adding: Statistics/GA/class/psf_black.json (deflated 93%)\n",
      "  adding: Statistics/GA/class/Lightning-AI_lightning.json (deflated 93%)\n",
      "  adding: Statistics/GA/class/nateemma_strategies.json (deflated 93%)\n",
      "  adding: Statistics/GA/class/hankcs_HanLP.json (deflated 93%)\n",
      "  adding: Statistics/GA/class/Mikubill_sd-webui-controlnet.json (deflated 93%)\n",
      "  adding: Statistics/GA/class/python_mypy.json (deflated 93%)\n",
      "  adding: Statistics/GA/class/SiCKRAGE_SiCKRAGE.json (deflated 93%)\n",
      "  adding: Statistics/GA/class/CMSgov_bluebutton-web-server.json (deflated 93%)\n",
      "  adding: Statistics/GA/class/sanic-org_sanic.json (deflated 93%)\n",
      "  adding: Statistics/GA/class/AUTOMATIC1111_stable-diffusion-webui.json (deflated 93%)\n",
      "  adding: Statistics/GA/class/saltstack_salt.json (deflated 93%)\n",
      "  adding: Statistics/GA/class/ultralytics_ultralytics.json (deflated 93%)\n",
      "  adding: Statistics/GA/class/python-telegram-bot_python-telegram-bot.json (deflated 93%)\n",
      "  adding: Statistics/GA/class/pyodide_pyodide.json (deflated 93%)\n",
      "  adding: Statistics/GA/class/hpcaitech_ColossalAI.json (deflated 93%)\n",
      "  adding: Statistics/GA/class/compas-dev_compas.json (deflated 93%)\n",
      "  adding: Statistics/GA/class/quantopian_zipline.json (deflated 94%)\n",
      "  adding: Statistics/GA/class/httpie_cli.json (deflated 93%)\n",
      "  adding: Statistics/GA/class/google_jax.json (deflated 93%)\n",
      "  adding: Statistics/GA/class/Textualize_rich.json (deflated 93%)\n",
      "  adding: Statistics/GA/class/cfpb_consumerfinance.gov.json (deflated 93%)\n",
      "  adding: Statistics/GA/class/localstack_localstack.json (deflated 93%)\n",
      "  adding: Statistics/GA/class/huggingface_transformers.json (deflated 93%)\n",
      "  adding: Statistics/GA/class/pytorch_pytorch.json (deflated 93%)\n",
      "  adding: Statistics/GA/class/horovod_horovod.json (deflated 93%)\n",
      "  adding: Statistics/GA/class/mlc-ai_mlc-llm.json (deflated 93%)\n",
      "  adding: Statistics/GA/class/ytdl-org_youtube-dl.json (deflated 93%)\n",
      "  adding: Statistics/GA/class/intel_dffml.json (deflated 93%)\n",
      "  adding: Statistics/GA/class/RasaHQ_rasa.json (deflated 93%)\n",
      "  adding: Statistics/GA/class/gradio-app_gradio.json (deflated 93%)\n",
      "  adding: Statistics/GA/class/Ciphey_Ciphey.json (deflated 93%)\n",
      "  adding: Statistics/GA/class/mlflow_mlflow.json (deflated 93%)\n",
      "  adding: Statistics/GA/class/dragonpilot-community_dp-devel.json (deflated 93%)\n",
      "  adding: Statistics/GA/class/apache_tvm.json (deflated 93%)\n",
      "  adding: Statistics/GA/class/pypa_pipenv.json (deflated 93%)\n",
      "  adding: Statistics/GA/class/recommenders-team_recommenders.json (deflated 93%)\n",
      "  adding: Statistics/GA/class/lllyasviel_Fooocus.json (deflated 93%)\n",
      "  adding: Statistics/GA/class/ietf-tools_datatracker.json (deflated 93%)\n",
      "  adding: Statistics/GA/class/lllyasviel_ControlNet.json (deflated 93%)\n",
      "  adding: Statistics/GA/class/borgbackup_borg.json (deflated 93%)\n",
      "  adding: Statistics/GA/class/joke2k_faker.json (deflated 93%)\n",
      "  adding: Statistics/GA/class/comfyanonymous_ComfyUI.json (deflated 93%)\n",
      "  adding: Statistics/GA/class/karlproject_karl.json (deflated 93%)\n",
      "  adding: Statistics/GA/class/ddbourgin_numpy-ml.json (deflated 93%)\n",
      "  adding: Statistics/GA/class/mindsdb_mindsdb.json (deflated 93%)\n",
      "  adding: Statistics/GA/class/ranger_ranger.json (deflated 93%)\n",
      "  adding: Statistics/GA/class/huggingface_diffusers.json (deflated 93%)\n",
      "  adding: Statistics/GA/class/ludwig-ai_ludwig.json (deflated 94%)\n",
      "  adding: Statistics/GA/class/XX-net_XX-Net.json (deflated 93%)\n",
      "  adding: Statistics/GA/class/matplotlib_matplotlib.json (deflated 93%)\n",
      "  adding: Statistics/GA/class/jopohl_urh.json (deflated 93%)\n",
      "  adding: Statistics/GA/class/nvbn_thefuck.json (deflated 93%)\n",
      "  adding: Statistics/GA/class/spotify_luigi.json (deflated 93%)\n",
      "  adding: Statistics/GA/class/uds-se_debuggingbook.json (deflated 93%)\n",
      "  adding: Statistics/GA/class/merenlab_anvio.json (deflated 93%)\n",
      "  adding: Statistics/GA/class/jorisschellekens_borb.json (deflated 93%)\n",
      "  adding: Statistics/GA/class/commaai_openpilot.json (deflated 93%)\n",
      "  adding: Statistics/GA/class/ipython_ipython.json (deflated 93%)\n",
      "  adding: Statistics/GA/class/LAION-AI_Open-Assistant.json (deflated 93%)\n",
      "  adding: Statistics/GA/class/ansible_ansible.json (deflated 93%)\n",
      "  adding: Statistics/GA/class/powerline_powerline.json (deflated 93%)\n",
      "  adding: Statistics/GA/class/PaddlePaddle_PaddleOCR.json (deflated 93%)\n",
      "  adding: Statistics/GA/class/pytorch_audio.json (deflated 93%)\n",
      "  adding: Statistics/GA/class/numpy_numpy.json (deflated 93%)\n",
      "  adding: Statistics/GA/class/unifyai_ivy.json (deflated 93%)\n",
      "  adding: Statistics/GA/class/tiangolo_fastapi.json (deflated 93%)\n",
      "  adding: Statistics/GA/class/Delgan_loguru.json (deflated 93%)\n",
      "  adding: Statistics/GA/class/certbot_certbot.json (deflated 93%)\n",
      "  adding: Statistics/GA/class/scrapy_scrapy.json (deflated 93%)\n",
      "  adding: Statistics/GA/class/RaRe-Technologies_gensim.json (deflated 93%)\n",
      "  adding: Statistics/GA/class/microsoft_unilm.json (deflated 93%)\n",
      "  adding: Statistics/GA/class/oobabooga_text-generation-webui.json (deflated 93%)\n",
      "  adding: Statistics/GA/class/zhayujie_chatgpt-on-wechat.json (deflated 93%)\n",
      "  adding: Statistics/GA/class/aws_aws-cli.json (deflated 93%)\n",
      "  adding: Statistics/GA/class/PrefectHQ_prefect.json (deflated 93%)\n",
      "  adding: Statistics/GA/class/OpenBB-finance_OpenBBTerminal.json (deflated 94%)\n",
      "  adding: Statistics/GA/class/pytorch_vision.json (deflated 93%)\n",
      "  adding: Statistics/GA/class/pyecharts_pyecharts.json (deflated 93%)\n",
      "  adding: Statistics/GA/class/twitter_the-algorithm-ml.json (deflated 93%)\n",
      "  adding: Statistics/GA/class/reflex-dev_reflex.json (deflated 93%)\n",
      "  adding: Statistics/GA/class/OpenBMB_ChatDev.json (deflated 93%)\n",
      "  adding: Statistics/GA/class/freqtrade_freqtrade.json (deflated 94%)\n",
      "  adding: Statistics/GA/class/Rapptz_discord.py.json (deflated 93%)\n",
      "  adding: Statistics/GA/class/openai_gym.json (deflated 93%)\n",
      "  adding: Statistics/GA/class/jantic_DeOldify.json (deflated 93%)\n",
      "  adding: Statistics/GA/class/flairNLP_flair.json (deflated 93%)\n",
      "  adding: Statistics/GA/class/frappe_erpnext.json (deflated 93%)\n",
      "  adding: Statistics/GA/class/aleju_imgaug.json (deflated 93%)\n",
      "  adding: Statistics/GA/class/plotly_plotly.py.json (deflated 93%)\n",
      "  adding: Statistics/GA/class/smicallef_spiderfoot.json (deflated 93%)\n",
      "  adding: Statistics/GA/class/keras-team_keras.json (deflated 93%)\n",
      "  adding: Statistics/GA/class/babysor_MockingBird.json (deflated 93%)\n",
      "  adding: Statistics/GA/class/neuropsychology_NeuroKit.json (deflated 96%)\n",
      "  adding: Statistics/GA/class/netbox-community_netbox.json (deflated 93%)\n",
      "  adding: Statistics/GA/class/facebookresearch_ParlAI.json (deflated 93%)\n",
      "  adding: Statistics/GA/class/jyrkioraskari_IFCtoLBD.json (deflated 93%)\n",
      "  adding: Statistics/GA/class/wenhao-gao_mol_opt.json (deflated 93%)\n",
      "  adding: Statistics/GA/class/pandas-dev_pandas.json (deflated 93%)\n",
      "  adding: Statistics/GA/class/apollos_opencv-practice.json (deflated 93%)\n",
      "  adding: Statistics/GA/class/mitmproxy_mitmproxy.json (deflated 93%)\n",
      "  adding: Statistics/GA/class/PaddlePaddle_PaddleNLP.json (deflated 93%)\n",
      "  adding: Statistics/GA/class/n00mkrad_flowframes.json (deflated 93%)\n",
      "  adding: Statistics/GA/class/aio-libs_aiohttp.json (deflated 93%)\n",
      "  adding: Statistics/GA/class/HumanSignal_label-studio.json (deflated 93%)\n",
      "  adding: Statistics/GA/class/nicolargo_glances.json (deflated 93%)\n",
      "  adding: Statistics/GA/class/jina-ai_jina.json (deflated 93%)\n",
      "  adding: Statistics/GA/class/microsoft_nni.json (deflated 93%)\n",
      "  adding: Statistics/GA/class/Rparadise-Team_Koriki.json (deflated 93%)\n",
      "  adding: Statistics/GA/class/kovidgoyal_calibre.json (deflated 93%)\n",
      "  adding: Statistics/GA/class/kivy_kivy.json (deflated 93%)\n",
      "  adding: Statistics/GA/class/networkx_networkx.json (deflated 93%)\n",
      "  adding: Statistics/GA/class/spotDL_spotify-downloader.json (deflated 93%)\n",
      "  adding: Statistics/PSO/ (stored 0%)\n",
      "  adding: Statistics/PSO/method/ (stored 0%)\n",
      "  adding: Statistics/PSO/method/yt-dlp_yt-dlp.json (deflated 85%)\n",
      "  adding: Statistics/PSO/method/django_django.json (deflated 83%)\n",
      "  adding: Statistics/PSO/method/gunthercox_ChatterBot.json (deflated 85%)\n",
      "  adding: Statistics/PSO/method/psf_black.json (deflated 86%)\n",
      "  adding: Statistics/PSO/method/Lightning-AI_lightning.json (deflated 85%)\n",
      "  adding: Statistics/PSO/method/hankcs_HanLP.json (deflated 85%)\n",
      "  adding: Statistics/PSO/method/Mikubill_sd-webui-controlnet.json (deflated 84%)\n",
      "  adding: Statistics/PSO/method/python_mypy.json (deflated 84%)\n",
      "  adding: Statistics/PSO/method/.ipynb_checkpoints/ (stored 0%)\n",
      "  adding: Statistics/PSO/method/.ipynb_checkpoints/ytdl-org_youtube-dl-checkpoint.json (deflated 86%)\n",
      "  adding: Statistics/PSO/method/.ipynb_checkpoints/apache_tvm-checkpoint.json (deflated 84%)\n",
      "  adding: Statistics/PSO/method/sanic-org_sanic.json (deflated 85%)\n",
      "  adding: Statistics/PSO/method/AUTOMATIC1111_stable-diffusion-webui.json (deflated 84%)\n",
      "  adding: Statistics/PSO/method/saltstack_salt.json (deflated 84%)\n",
      "  adding: Statistics/PSO/method/ultralytics_ultralytics.json (deflated 86%)\n",
      "  adding: Statistics/PSO/method/python-telegram-bot_python-telegram-bot.json (deflated 84%)\n",
      "  adding: Statistics/PSO/method/pyodide_pyodide.json (deflated 86%)\n",
      "  adding: Statistics/PSO/method/hpcaitech_ColossalAI.json (deflated 84%)\n",
      "  adding: Statistics/PSO/method/quantopian_zipline.json (deflated 86%)\n",
      "  adding: Statistics/PSO/method/httpie_cli.json (deflated 84%)\n",
      "  adding: Statistics/PSO/method/google_jax.json (deflated 85%)\n",
      "  adding: Statistics/PSO/method/Textualize_rich.json (deflated 85%)\n",
      "  adding: Statistics/PSO/method/localstack_localstack.json (deflated 83%)\n",
      "  adding: Statistics/PSO/method/huggingface_transformers.json (deflated 84%)\n",
      "  adding: Statistics/PSO/method/pytorch_pytorch.json (deflated 84%)\n",
      "  adding: Statistics/PSO/method/horovod_horovod.json (deflated 85%)\n",
      "  adding: Statistics/PSO/method/mlc-ai_mlc-llm.json (deflated 84%)\n",
      "  adding: Statistics/PSO/method/ytdl-org_youtube-dl.json (deflated 86%)\n",
      "  adding: Statistics/PSO/method/RasaHQ_rasa.json (deflated 84%)\n",
      "  adding: Statistics/PSO/method/gradio-app_gradio.json (deflated 86%)\n",
      "  adding: Statistics/PSO/method/Ciphey_Ciphey.json (deflated 85%)\n",
      "  adding: Statistics/PSO/method/mlflow_mlflow.json (deflated 85%)\n",
      "  adding: Statistics/PSO/method/apache_tvm.json (deflated 85%)\n",
      "  adding: Statistics/PSO/method/pypa_pipenv.json (deflated 84%)\n",
      "  adding: Statistics/PSO/method/recommenders-team_recommenders.json (deflated 83%)\n",
      "  adding: Statistics/PSO/method/lllyasviel_Fooocus.json (deflated 84%)\n",
      "  adding: Statistics/PSO/method/lllyasviel_ControlNet.json (deflated 84%)\n",
      "  adding: Statistics/PSO/method/borgbackup_borg.json (deflated 85%)\n",
      "  adding: Statistics/PSO/method/comfyanonymous_ComfyUI.json (deflated 84%)\n",
      "  adding: Statistics/PSO/method/karlproject_karl.json (deflated 84%)\n",
      "  adding: Statistics/PSO/method/ddbourgin_numpy-ml.json (deflated 86%)\n",
      "  adding: Statistics/PSO/method/mindsdb_mindsdb.json (deflated 84%)\n",
      "  adding: Statistics/PSO/method/ranger_ranger.json (deflated 85%)\n",
      "  adding: Statistics/PSO/method/huggingface_diffusers.json (deflated 83%)\n",
      "  adding: Statistics/PSO/method/ludwig-ai_ludwig.json (deflated 84%)\n",
      "  adding: Statistics/PSO/method/XX-net_XX-Net.json (deflated 84%)\n",
      "  adding: Statistics/PSO/method/matplotlib_matplotlib.json (deflated 85%)\n",
      "  adding: Statistics/PSO/method/nvbn_thefuck.json (deflated 84%)\n",
      "  adding: Statistics/PSO/method/spotify_luigi.json (deflated 85%)\n",
      "  adding: Statistics/PSO/method/merenlab_anvio.json (deflated 84%)\n",
      "  adding: Statistics/PSO/method/commaai_openpilot.json (deflated 85%)\n",
      "  adding: Statistics/PSO/method/ipython_ipython.json (deflated 86%)\n",
      "  adding: Statistics/PSO/method/LAION-AI_Open-Assistant.json (deflated 86%)\n",
      "  adding: Statistics/PSO/method/ansible_ansible.json (deflated 85%)\n",
      "  adding: Statistics/PSO/method/powerline_powerline.json (deflated 86%)\n",
      "  adding: Statistics/PSO/method/PaddlePaddle_PaddleOCR.json (deflated 84%)\n",
      "  adding: Statistics/PSO/method/pytorch_audio.json (deflated 85%)\n",
      "  adding: Statistics/PSO/method/numpy_numpy.json (deflated 85%)\n",
      "  adding: Statistics/PSO/method/unifyai_ivy.json (deflated 84%)\n",
      "  adding: Statistics/PSO/method/tiangolo_fastapi.json (deflated 84%)\n",
      "  adding: Statistics/PSO/method/Delgan_loguru.json (deflated 84%)\n",
      "  adding: Statistics/PSO/method/certbot_certbot.json (deflated 84%)\n",
      "  adding: Statistics/PSO/method/scrapy_scrapy.json (deflated 85%)\n",
      "  adding: Statistics/PSO/method/RaRe-Technologies_gensim.json (deflated 84%)\n",
      "  adding: Statistics/PSO/method/oobabooga_text-generation-webui.json (deflated 86%)\n",
      "  adding: Statistics/PSO/method/zhayujie_chatgpt-on-wechat.json (deflated 86%)\n",
      "  adding: Statistics/PSO/method/aws_aws-cli.json (deflated 84%)\n",
      "  adding: Statistics/PSO/method/PrefectHQ_prefect.json (deflated 84%)\n",
      "  adding: Statistics/PSO/method/OpenBB-finance_OpenBBTerminal.json (deflated 84%)\n",
      "  adding: Statistics/PSO/method/pytorch_vision.json (deflated 84%)\n",
      "  adding: Statistics/PSO/method/pyecharts_pyecharts.json (deflated 86%)\n",
      "  adding: Statistics/PSO/method/twitter_the-algorithm-ml.json (deflated 85%)\n",
      "  adding: Statistics/PSO/method/reflex-dev_reflex.json (deflated 85%)\n",
      "  adding: Statistics/PSO/method/OpenBMB_ChatDev.json (deflated 84%)\n",
      "  adding: Statistics/PSO/method/freqtrade_freqtrade.json (deflated 85%)\n",
      "  adding: Statistics/PSO/method/Rapptz_discord.py.json (deflated 84%)\n",
      "  adding: Statistics/PSO/method/openai_gym.json (deflated 86%)\n",
      "  adding: Statistics/PSO/method/jantic_DeOldify.json (deflated 86%)\n",
      "  adding: Statistics/PSO/method/flairNLP_flair.json (deflated 85%)\n",
      "  adding: Statistics/PSO/method/frappe_erpnext.json (deflated 84%)\n",
      "  adding: Statistics/PSO/method/aleju_imgaug.json (deflated 85%)\n",
      "  adding: Statistics/PSO/method/smicallef_spiderfoot.json (deflated 84%)\n",
      "  adding: Statistics/PSO/method/keras-team_keras.json (deflated 84%)\n",
      "  adding: Statistics/PSO/method/babysor_MockingBird.json (deflated 85%)\n",
      "  adding: Statistics/PSO/method/facebookresearch_ParlAI.json (deflated 84%)\n",
      "  adding: Statistics/PSO/method/pandas-dev_pandas.json (deflated 85%)\n",
      "  adding: Statistics/PSO/method/mitmproxy_mitmproxy.json (deflated 83%)\n",
      "  adding: Statistics/PSO/method/PaddlePaddle_PaddleNLP.json (deflated 84%)\n",
      "  adding: Statistics/PSO/method/aio-libs_aiohttp.json (deflated 84%)\n",
      "  adding: Statistics/PSO/method/HumanSignal_label-studio.json (deflated 85%)\n",
      "  adding: Statistics/PSO/method/nicolargo_glances.json (deflated 85%)\n",
      "  adding: Statistics/PSO/method/jina-ai_jina.json (deflated 86%)\n",
      "  adding: Statistics/PSO/method/microsoft_nni.json (deflated 84%)\n",
      "  adding: Statistics/PSO/method/kivy_kivy.json (deflated 83%)\n",
      "  adding: Statistics/PSO/method/networkx_networkx.json (deflated 84%)\n",
      "  adding: Statistics/PSO/method/spotDL_spotify-downloader.json (deflated 86%)\n",
      "  adding: Statistics/PSO/class/ (stored 0%)\n",
      "  adding: Statistics/PSO/class/yt-dlp_yt-dlp.json (deflated 84%)\n",
      "  adding: Statistics/PSO/class/django_django.json (deflated 85%)\n",
      "  adding: Statistics/PSO/class/gunthercox_ChatterBot.json (deflated 85%)\n",
      "  adding: Statistics/PSO/class/psf_black.json (deflated 84%)\n",
      "  adding: Statistics/PSO/class/Lightning-AI_lightning.json (deflated 84%)\n",
      "  adding: Statistics/PSO/class/nateemma_strategies.json (deflated 84%)\n",
      "  adding: Statistics/PSO/class/hankcs_HanLP.json (deflated 83%)\n",
      "  adding: Statistics/PSO/class/Mikubill_sd-webui-controlnet.json (deflated 83%)\n",
      "  adding: Statistics/PSO/class/python_mypy.json (deflated 85%)\n",
      "  adding: Statistics/PSO/class/.ipynb_checkpoints/ (stored 0%)\n",
      "  adding: Statistics/PSO/class/.ipynb_checkpoints/apache_tvm-checkpoint.json (deflated 85%)\n",
      "  adding: Statistics/PSO/class/SiCKRAGE_SiCKRAGE.json (deflated 85%)\n",
      "  adding: Statistics/PSO/class/CMSgov_bluebutton-web-server.json (deflated 85%)\n",
      "  adding: Statistics/PSO/class/sanic-org_sanic.json (deflated 85%)\n",
      "  adding: Statistics/PSO/class/AUTOMATIC1111_stable-diffusion-webui.json (deflated 86%)\n",
      "  adding: Statistics/PSO/class/saltstack_salt.json (deflated 85%)\n",
      "  adding: Statistics/PSO/class/ultralytics_ultralytics.json (deflated 86%)\n",
      "  adding: Statistics/PSO/class/python-telegram-bot_python-telegram-bot.json (deflated 85%)\n",
      "  adding: Statistics/PSO/class/pyodide_pyodide.json (deflated 84%)\n",
      "  adding: Statistics/PSO/class/hpcaitech_ColossalAI.json (deflated 84%)\n",
      "  adding: Statistics/PSO/class/compas-dev_compas.json (deflated 86%)\n",
      "  adding: Statistics/PSO/class/quantopian_zipline.json (deflated 85%)\n",
      "  adding: Statistics/PSO/class/httpie_cli.json (deflated 84%)\n",
      "  adding: Statistics/PSO/class/google_jax.json (deflated 85%)\n",
      "  adding: Statistics/PSO/class/Textualize_rich.json (deflated 85%)\n",
      "  adding: Statistics/PSO/class/cfpb_consumerfinance.gov.json (deflated 85%)\n",
      "  adding: Statistics/PSO/class/localstack_localstack.json (deflated 85%)\n",
      "  adding: Statistics/PSO/class/huggingface_transformers.json (deflated 86%)\n",
      "  adding: Statistics/PSO/class/pytorch_pytorch.json (deflated 84%)\n",
      "  adding: Statistics/PSO/class/horovod_horovod.json (deflated 85%)\n",
      "  adding: Statistics/PSO/class/mlc-ai_mlc-llm.json (deflated 86%)\n",
      "  adding: Statistics/PSO/class/ytdl-org_youtube-dl.json (deflated 84%)\n",
      "  adding: Statistics/PSO/class/intel_dffml.json (deflated 85%)\n",
      "  adding: Statistics/PSO/class/RasaHQ_rasa.json (deflated 85%)\n",
      "  adding: Statistics/PSO/class/gradio-app_gradio.json (deflated 85%)\n",
      "  adding: Statistics/PSO/class/Ciphey_Ciphey.json (deflated 85%)\n",
      "  adding: Statistics/PSO/class/mlflow_mlflow.json (deflated 84%)\n",
      "  adding: Statistics/PSO/class/dragonpilot-community_dp-devel.json (deflated 86%)\n",
      "  adding: Statistics/PSO/class/apache_tvm.json (deflated 85%)\n",
      "  adding: Statistics/PSO/class/pypa_pipenv.json (deflated 84%)\n",
      "  adding: Statistics/PSO/class/recommenders-team_recommenders.json (deflated 86%)\n",
      "  adding: Statistics/PSO/class/lllyasviel_Fooocus.json (deflated 84%)\n",
      "  adding: Statistics/PSO/class/ietf-tools_datatracker.json (deflated 84%)\n",
      "  adding: Statistics/PSO/class/lllyasviel_ControlNet.json (deflated 85%)\n",
      "  adding: Statistics/PSO/class/borgbackup_borg.json (deflated 86%)\n",
      "  adding: Statistics/PSO/class/joke2k_faker.json (deflated 86%)\n",
      "  adding: Statistics/PSO/class/comfyanonymous_ComfyUI.json (deflated 85%)\n",
      "  adding: Statistics/PSO/class/karlproject_karl.json (deflated 84%)\n",
      "  adding: Statistics/PSO/class/ddbourgin_numpy-ml.json (deflated 84%)\n",
      "  adding: Statistics/PSO/class/mindsdb_mindsdb.json (deflated 84%)\n",
      "  adding: Statistics/PSO/class/ranger_ranger.json (deflated 84%)\n",
      "  adding: Statistics/PSO/class/huggingface_diffusers.json (deflated 85%)\n",
      "  adding: Statistics/PSO/class/ludwig-ai_ludwig.json (deflated 85%)\n",
      "  adding: Statistics/PSO/class/XX-net_XX-Net.json (deflated 85%)\n",
      "  adding: Statistics/PSO/class/matplotlib_matplotlib.json (deflated 84%)\n",
      "  adding: Statistics/PSO/class/jopohl_urh.json (deflated 85%)\n",
      "  adding: Statistics/PSO/class/nvbn_thefuck.json (deflated 85%)\n",
      "  adding: Statistics/PSO/class/spotify_luigi.json (deflated 84%)\n",
      "  adding: Statistics/PSO/class/uds-se_debuggingbook.json (deflated 85%)\n",
      "  adding: Statistics/PSO/class/merenlab_anvio.json (deflated 85%)\n",
      "  adding: Statistics/PSO/class/jorisschellekens_borb.json (deflated 84%)\n",
      "  adding: Statistics/PSO/class/commaai_openpilot.json (deflated 84%)\n",
      "  adding: Statistics/PSO/class/ipython_ipython.json (deflated 84%)\n",
      "  adding: Statistics/PSO/class/LAION-AI_Open-Assistant.json (deflated 85%)\n",
      "  adding: Statistics/PSO/class/ansible_ansible.json (deflated 84%)\n",
      "  adding: Statistics/PSO/class/powerline_powerline.json (deflated 85%)\n",
      "  adding: Statistics/PSO/class/PaddlePaddle_PaddleOCR.json (deflated 85%)\n",
      "  adding: Statistics/PSO/class/pytorch_audio.json (deflated 85%)\n",
      "  adding: Statistics/PSO/class/numpy_numpy.json (deflated 85%)\n",
      "  adding: Statistics/PSO/class/unifyai_ivy.json (deflated 85%)\n",
      "  adding: Statistics/PSO/class/tiangolo_fastapi.json (deflated 85%)\n",
      "  adding: Statistics/PSO/class/Delgan_loguru.json (deflated 84%)\n",
      "  adding: Statistics/PSO/class/certbot_certbot.json (deflated 85%)\n",
      "  adding: Statistics/PSO/class/scrapy_scrapy.json (deflated 84%)\n",
      "  adding: Statistics/PSO/class/RaRe-Technologies_gensim.json (deflated 84%)\n",
      "  adding: Statistics/PSO/class/microsoft_unilm.json (deflated 85%)\n",
      "  adding: Statistics/PSO/class/oobabooga_text-generation-webui.json (deflated 85%)\n",
      "  adding: Statistics/PSO/class/zhayujie_chatgpt-on-wechat.json (deflated 85%)\n",
      "  adding: Statistics/PSO/class/aws_aws-cli.json (deflated 84%)\n",
      "  adding: Statistics/PSO/class/PrefectHQ_prefect.json (deflated 84%)\n",
      "  adding: Statistics/PSO/class/OpenBB-finance_OpenBBTerminal.json (deflated 85%)\n",
      "  adding: Statistics/PSO/class/pytorch_vision.json (deflated 85%)\n",
      "  adding: Statistics/PSO/class/pyecharts_pyecharts.json (deflated 85%)\n",
      "  adding: Statistics/PSO/class/twitter_the-algorithm-ml.json (deflated 86%)\n",
      "  adding: Statistics/PSO/class/reflex-dev_reflex.json (deflated 85%)\n",
      "  adding: Statistics/PSO/class/OpenBMB_ChatDev.json (deflated 86%)\n",
      "  adding: Statistics/PSO/class/freqtrade_freqtrade.json (deflated 86%)\n",
      "  adding: Statistics/PSO/class/Rapptz_discord.py.json (deflated 84%)\n",
      "  adding: Statistics/PSO/class/openai_gym.json (deflated 85%)\n",
      "  adding: Statistics/PSO/class/jantic_DeOldify.json (deflated 86%)\n",
      "  adding: Statistics/PSO/class/flairNLP_flair.json (deflated 84%)\n",
      "  adding: Statistics/PSO/class/frappe_erpnext.json (deflated 86%)\n",
      "  adding: Statistics/PSO/class/aleju_imgaug.json (deflated 85%)\n",
      "  adding: Statistics/PSO/class/plotly_plotly.py.json (deflated 85%)\n",
      "  adding: Statistics/PSO/class/smicallef_spiderfoot.json (deflated 87%)\n",
      "  adding: Statistics/PSO/class/keras-team_keras.json (deflated 84%)\n",
      "  adding: Statistics/PSO/class/babysor_MockingBird.json (deflated 86%)\n",
      "  adding: Statistics/PSO/class/neuropsychology_NeuroKit.json (deflated 91%)\n",
      "  adding: Statistics/PSO/class/netbox-community_netbox.json (deflated 85%)\n",
      "  adding: Statistics/PSO/class/facebookresearch_ParlAI.json (deflated 85%)\n",
      "  adding: Statistics/PSO/class/jyrkioraskari_IFCtoLBD.json (deflated 84%)\n",
      "  adding: Statistics/PSO/class/wenhao-gao_mol_opt.json (deflated 85%)\n",
      "  adding: Statistics/PSO/class/pandas-dev_pandas.json (deflated 85%)\n",
      "  adding: Statistics/PSO/class/apollos_opencv-practice.json (deflated 86%)\n",
      "  adding: Statistics/PSO/class/mitmproxy_mitmproxy.json (deflated 85%)\n",
      "  adding: Statistics/PSO/class/PaddlePaddle_PaddleNLP.json (deflated 85%)\n",
      "  adding: Statistics/PSO/class/n00mkrad_flowframes.json (deflated 85%)\n",
      "  adding: Statistics/PSO/class/aio-libs_aiohttp.json (deflated 84%)\n",
      "  adding: Statistics/PSO/class/HumanSignal_label-studio.json (deflated 85%)\n",
      "  adding: Statistics/PSO/class/nicolargo_glances.json (deflated 85%)\n",
      "  adding: Statistics/PSO/class/jina-ai_jina.json (deflated 84%)\n",
      "  adding: Statistics/PSO/class/microsoft_nni.json (deflated 86%)\n",
      "  adding: Statistics/PSO/class/Rparadise-Team_Koriki.json (deflated 84%)\n",
      "  adding: Statistics/PSO/class/kovidgoyal_calibre.json (deflated 85%)\n",
      "  adding: Statistics/PSO/class/kivy_kivy.json (deflated 86%)\n",
      "  adding: Statistics/PSO/class/networkx_networkx.json (deflated 84%)\n",
      "  adding: Statistics/PSO/class/spotDL_spotify-downloader.json (deflated 86%)\n"
     ]
    }
   ],
   "source": [
    "!zip -r Statistics.zip Statistics/"
   ]
  },
  {
   "cell_type": "code",
   "execution_count": null,
   "metadata": {},
   "outputs": [],
   "source": []
  }
 ],
 "metadata": {
  "accelerator": "GPU",
  "colab": {
   "gpuType": "T4",
   "provenance": []
  },
  "kernelspec": {
   "display_name": "Python 3 (ipykernel)",
   "language": "python",
   "name": "python3"
  },
  "language_info": {
   "codemirror_mode": {
    "name": "ipython",
    "version": 3
   },
   "file_extension": ".py",
   "mimetype": "text/x-python",
   "name": "python",
   "nbconvert_exporter": "python",
   "pygments_lexer": "ipython3",
   "version": "3.8.10"
  },
  "widgets": {
   "application/vnd.jupyter.widget-state+json": {
    "0b62ca2d05874a1eab01af72bb1b1f48": {
     "model_module": "@jupyter-widgets/controls",
     "model_module_version": "1.5.0",
     "model_name": "HTMLModel",
     "state": {
      "_dom_classes": [],
      "_model_module": "@jupyter-widgets/controls",
      "_model_module_version": "1.5.0",
      "_model_name": "HTMLModel",
      "_view_count": null,
      "_view_module": "@jupyter-widgets/controls",
      "_view_module_version": "1.5.0",
      "_view_name": "HTMLView",
      "description": "",
      "description_tooltip": null,
      "layout": "IPY_MODEL_bfe99a92f08343f2aa85db484aff9344",
      "placeholder": "​",
      "style": "IPY_MODEL_ce8f753ead724e67bfdf2ba55c23157b",
      "value": " 32%"
     }
    },
    "129a2ce0680c42c8b120d8a1503b0267": {
     "model_module": "@jupyter-widgets/controls",
     "model_module_version": "1.5.0",
     "model_name": "HTMLModel",
     "state": {
      "_dom_classes": [],
      "_model_module": "@jupyter-widgets/controls",
      "_model_module_version": "1.5.0",
      "_model_name": "HTMLModel",
      "_view_count": null,
      "_view_module": "@jupyter-widgets/controls",
      "_view_module_version": "1.5.0",
      "_view_name": "HTMLView",
      "description": "",
      "description_tooltip": null,
      "layout": "IPY_MODEL_3e7c4f16fb50458c9f33b9b412d57bdc",
      "placeholder": "​",
      "style": "IPY_MODEL_f3fb6168455249efaec9fa6c1741f87e",
      "value": "  0%"
     }
    },
    "23748bc03a324720b549dd62fabd0385": {
     "model_module": "@jupyter-widgets/controls",
     "model_module_version": "1.5.0",
     "model_name": "DescriptionStyleModel",
     "state": {
      "_model_module": "@jupyter-widgets/controls",
      "_model_module_version": "1.5.0",
      "_model_name": "DescriptionStyleModel",
      "_view_count": null,
      "_view_module": "@jupyter-widgets/base",
      "_view_module_version": "1.2.0",
      "_view_name": "StyleView",
      "description_width": ""
     }
    },
    "3c655077de6e4dbd9ba9690102005aa3": {
     "model_module": "@jupyter-widgets/controls",
     "model_module_version": "1.5.0",
     "model_name": "HBoxModel",
     "state": {
      "_dom_classes": [],
      "_model_module": "@jupyter-widgets/controls",
      "_model_module_version": "1.5.0",
      "_model_name": "HBoxModel",
      "_view_count": null,
      "_view_module": "@jupyter-widgets/controls",
      "_view_module_version": "1.5.0",
      "_view_name": "HBoxView",
      "box_style": "",
      "children": [
       "IPY_MODEL_0b62ca2d05874a1eab01af72bb1b1f48",
       "IPY_MODEL_c10a86cb0f88418a8aa6d2537ccee020",
       "IPY_MODEL_a4e58116e4e340a6b54afd2a6441457f"
      ],
      "layout": "IPY_MODEL_7d7d90164cbc415cb37bf771cf8cf644"
     }
    },
    "3e7c4f16fb50458c9f33b9b412d57bdc": {
     "model_module": "@jupyter-widgets/base",
     "model_module_version": "1.2.0",
     "model_name": "LayoutModel",
     "state": {
      "_model_module": "@jupyter-widgets/base",
      "_model_module_version": "1.2.0",
      "_model_name": "LayoutModel",
      "_view_count": null,
      "_view_module": "@jupyter-widgets/base",
      "_view_module_version": "1.2.0",
      "_view_name": "LayoutView",
      "align_content": null,
      "align_items": null,
      "align_self": null,
      "border": null,
      "bottom": null,
      "display": null,
      "flex": null,
      "flex_flow": null,
      "grid_area": null,
      "grid_auto_columns": null,
      "grid_auto_flow": null,
      "grid_auto_rows": null,
      "grid_column": null,
      "grid_gap": null,
      "grid_row": null,
      "grid_template_areas": null,
      "grid_template_columns": null,
      "grid_template_rows": null,
      "height": null,
      "justify_content": null,
      "justify_items": null,
      "left": null,
      "margin": null,
      "max_height": null,
      "max_width": null,
      "min_height": null,
      "min_width": null,
      "object_fit": null,
      "object_position": null,
      "order": null,
      "overflow": null,
      "overflow_x": null,
      "overflow_y": null,
      "padding": null,
      "right": null,
      "top": null,
      "visibility": null,
      "width": null
     }
    },
    "4fbe615210e64cc58e2aedfb4bc0e174": {
     "model_module": "@jupyter-widgets/controls",
     "model_module_version": "1.5.0",
     "model_name": "ProgressStyleModel",
     "state": {
      "_model_module": "@jupyter-widgets/controls",
      "_model_module_version": "1.5.0",
      "_model_name": "ProgressStyleModel",
      "_view_count": null,
      "_view_module": "@jupyter-widgets/base",
      "_view_module_version": "1.2.0",
      "_view_name": "StyleView",
      "bar_color": null,
      "description_width": ""
     }
    },
    "61343ced08a24cefa715cdb7db64a11e": {
     "model_module": "@jupyter-widgets/base",
     "model_module_version": "1.2.0",
     "model_name": "LayoutModel",
     "state": {
      "_model_module": "@jupyter-widgets/base",
      "_model_module_version": "1.2.0",
      "_model_name": "LayoutModel",
      "_view_count": null,
      "_view_module": "@jupyter-widgets/base",
      "_view_module_version": "1.2.0",
      "_view_name": "LayoutView",
      "align_content": null,
      "align_items": null,
      "align_self": null,
      "border": null,
      "bottom": null,
      "display": null,
      "flex": null,
      "flex_flow": null,
      "grid_area": null,
      "grid_auto_columns": null,
      "grid_auto_flow": null,
      "grid_auto_rows": null,
      "grid_column": null,
      "grid_gap": null,
      "grid_row": null,
      "grid_template_areas": null,
      "grid_template_columns": null,
      "grid_template_rows": null,
      "height": null,
      "justify_content": null,
      "justify_items": null,
      "left": null,
      "margin": null,
      "max_height": null,
      "max_width": null,
      "min_height": null,
      "min_width": null,
      "object_fit": null,
      "object_position": null,
      "order": null,
      "overflow": null,
      "overflow_x": null,
      "overflow_y": null,
      "padding": null,
      "right": null,
      "top": null,
      "visibility": null,
      "width": null
     }
    },
    "62634b22dc05435ca90f8b55b710b2a1": {
     "model_module": "@jupyter-widgets/base",
     "model_module_version": "1.2.0",
     "model_name": "LayoutModel",
     "state": {
      "_model_module": "@jupyter-widgets/base",
      "_model_module_version": "1.2.0",
      "_model_name": "LayoutModel",
      "_view_count": null,
      "_view_module": "@jupyter-widgets/base",
      "_view_module_version": "1.2.0",
      "_view_name": "LayoutView",
      "align_content": null,
      "align_items": null,
      "align_self": null,
      "border": null,
      "bottom": null,
      "display": null,
      "flex": null,
      "flex_flow": null,
      "grid_area": null,
      "grid_auto_columns": null,
      "grid_auto_flow": null,
      "grid_auto_rows": null,
      "grid_column": null,
      "grid_gap": null,
      "grid_row": null,
      "grid_template_areas": null,
      "grid_template_columns": null,
      "grid_template_rows": null,
      "height": null,
      "justify_content": null,
      "justify_items": null,
      "left": null,
      "margin": null,
      "max_height": null,
      "max_width": null,
      "min_height": null,
      "min_width": null,
      "object_fit": null,
      "object_position": null,
      "order": null,
      "overflow": null,
      "overflow_x": null,
      "overflow_y": null,
      "padding": null,
      "right": null,
      "top": null,
      "visibility": null,
      "width": null
     }
    },
    "711d9d03d54a4a419fce66cee2817140": {
     "model_module": "@jupyter-widgets/controls",
     "model_module_version": "1.5.0",
     "model_name": "ProgressStyleModel",
     "state": {
      "_model_module": "@jupyter-widgets/controls",
      "_model_module_version": "1.5.0",
      "_model_name": "ProgressStyleModel",
      "_view_count": null,
      "_view_module": "@jupyter-widgets/base",
      "_view_module_version": "1.2.0",
      "_view_name": "StyleView",
      "bar_color": null,
      "description_width": ""
     }
    },
    "75a5ebb4825e42b48c116a251ed4eddb": {
     "model_module": "@jupyter-widgets/controls",
     "model_module_version": "1.5.0",
     "model_name": "HTMLModel",
     "state": {
      "_dom_classes": [],
      "_model_module": "@jupyter-widgets/controls",
      "_model_module_version": "1.5.0",
      "_model_name": "HTMLModel",
      "_view_count": null,
      "_view_module": "@jupyter-widgets/controls",
      "_view_module_version": "1.5.0",
      "_view_name": "HTMLView",
      "description": "",
      "description_tooltip": null,
      "layout": "IPY_MODEL_e7eac95332284abd87bb1f84fb553281",
      "placeholder": "​",
      "style": "IPY_MODEL_23748bc03a324720b549dd62fabd0385",
      "value": " 0/129 [02:18&lt;?, ?it/s]"
     }
    },
    "7d7d90164cbc415cb37bf771cf8cf644": {
     "model_module": "@jupyter-widgets/base",
     "model_module_version": "1.2.0",
     "model_name": "LayoutModel",
     "state": {
      "_model_module": "@jupyter-widgets/base",
      "_model_module_version": "1.2.0",
      "_model_name": "LayoutModel",
      "_view_count": null,
      "_view_module": "@jupyter-widgets/base",
      "_view_module_version": "1.2.0",
      "_view_name": "LayoutView",
      "align_content": null,
      "align_items": null,
      "align_self": null,
      "border": null,
      "bottom": null,
      "display": null,
      "flex": null,
      "flex_flow": null,
      "grid_area": null,
      "grid_auto_columns": null,
      "grid_auto_flow": null,
      "grid_auto_rows": null,
      "grid_column": null,
      "grid_gap": null,
      "grid_row": null,
      "grid_template_areas": null,
      "grid_template_columns": null,
      "grid_template_rows": null,
      "height": null,
      "justify_content": null,
      "justify_items": null,
      "left": null,
      "margin": null,
      "max_height": null,
      "max_width": null,
      "min_height": null,
      "min_width": null,
      "object_fit": null,
      "object_position": null,
      "order": null,
      "overflow": null,
      "overflow_x": null,
      "overflow_y": null,
      "padding": null,
      "right": null,
      "top": null,
      "visibility": null,
      "width": null
     }
    },
    "817b5388b9a9404da9c86aae940ce096": {
     "model_module": "@jupyter-widgets/controls",
     "model_module_version": "1.5.0",
     "model_name": "DescriptionStyleModel",
     "state": {
      "_model_module": "@jupyter-widgets/controls",
      "_model_module_version": "1.5.0",
      "_model_name": "DescriptionStyleModel",
      "_view_count": null,
      "_view_module": "@jupyter-widgets/base",
      "_view_module_version": "1.2.0",
      "_view_name": "StyleView",
      "description_width": ""
     }
    },
    "880819af38d34ed887aa64bd6b2706f5": {
     "model_module": "@jupyter-widgets/base",
     "model_module_version": "1.2.0",
     "model_name": "LayoutModel",
     "state": {
      "_model_module": "@jupyter-widgets/base",
      "_model_module_version": "1.2.0",
      "_model_name": "LayoutModel",
      "_view_count": null,
      "_view_module": "@jupyter-widgets/base",
      "_view_module_version": "1.2.0",
      "_view_name": "LayoutView",
      "align_content": null,
      "align_items": null,
      "align_self": null,
      "border": null,
      "bottom": null,
      "display": null,
      "flex": null,
      "flex_flow": null,
      "grid_area": null,
      "grid_auto_columns": null,
      "grid_auto_flow": null,
      "grid_auto_rows": null,
      "grid_column": null,
      "grid_gap": null,
      "grid_row": null,
      "grid_template_areas": null,
      "grid_template_columns": null,
      "grid_template_rows": null,
      "height": null,
      "justify_content": null,
      "justify_items": null,
      "left": null,
      "margin": null,
      "max_height": null,
      "max_width": null,
      "min_height": null,
      "min_width": null,
      "object_fit": null,
      "object_position": null,
      "order": null,
      "overflow": null,
      "overflow_x": null,
      "overflow_y": null,
      "padding": null,
      "right": null,
      "top": null,
      "visibility": null,
      "width": null
     }
    },
    "a4e58116e4e340a6b54afd2a6441457f": {
     "model_module": "@jupyter-widgets/controls",
     "model_module_version": "1.5.0",
     "model_name": "HTMLModel",
     "state": {
      "_dom_classes": [],
      "_model_module": "@jupyter-widgets/controls",
      "_model_module_version": "1.5.0",
      "_model_name": "HTMLModel",
      "_view_count": null,
      "_view_module": "@jupyter-widgets/controls",
      "_view_module_version": "1.5.0",
      "_view_name": "HTMLView",
      "description": "",
      "description_tooltip": null,
      "layout": "IPY_MODEL_880819af38d34ed887aa64bd6b2706f5",
      "placeholder": "​",
      "style": "IPY_MODEL_817b5388b9a9404da9c86aae940ce096",
      "value": " 8/25 [02:18&lt;04:46, 16.86s/it]"
     }
    },
    "bd85963cf54d4ec396bdddc29a72ff05": {
     "model_module": "@jupyter-widgets/base",
     "model_module_version": "1.2.0",
     "model_name": "LayoutModel",
     "state": {
      "_model_module": "@jupyter-widgets/base",
      "_model_module_version": "1.2.0",
      "_model_name": "LayoutModel",
      "_view_count": null,
      "_view_module": "@jupyter-widgets/base",
      "_view_module_version": "1.2.0",
      "_view_name": "LayoutView",
      "align_content": null,
      "align_items": null,
      "align_self": null,
      "border": null,
      "bottom": null,
      "display": null,
      "flex": null,
      "flex_flow": null,
      "grid_area": null,
      "grid_auto_columns": null,
      "grid_auto_flow": null,
      "grid_auto_rows": null,
      "grid_column": null,
      "grid_gap": null,
      "grid_row": null,
      "grid_template_areas": null,
      "grid_template_columns": null,
      "grid_template_rows": null,
      "height": null,
      "justify_content": null,
      "justify_items": null,
      "left": null,
      "margin": null,
      "max_height": null,
      "max_width": null,
      "min_height": null,
      "min_width": null,
      "object_fit": null,
      "object_position": null,
      "order": null,
      "overflow": null,
      "overflow_x": null,
      "overflow_y": null,
      "padding": null,
      "right": null,
      "top": null,
      "visibility": null,
      "width": null
     }
    },
    "bfe99a92f08343f2aa85db484aff9344": {
     "model_module": "@jupyter-widgets/base",
     "model_module_version": "1.2.0",
     "model_name": "LayoutModel",
     "state": {
      "_model_module": "@jupyter-widgets/base",
      "_model_module_version": "1.2.0",
      "_model_name": "LayoutModel",
      "_view_count": null,
      "_view_module": "@jupyter-widgets/base",
      "_view_module_version": "1.2.0",
      "_view_name": "LayoutView",
      "align_content": null,
      "align_items": null,
      "align_self": null,
      "border": null,
      "bottom": null,
      "display": null,
      "flex": null,
      "flex_flow": null,
      "grid_area": null,
      "grid_auto_columns": null,
      "grid_auto_flow": null,
      "grid_auto_rows": null,
      "grid_column": null,
      "grid_gap": null,
      "grid_row": null,
      "grid_template_areas": null,
      "grid_template_columns": null,
      "grid_template_rows": null,
      "height": null,
      "justify_content": null,
      "justify_items": null,
      "left": null,
      "margin": null,
      "max_height": null,
      "max_width": null,
      "min_height": null,
      "min_width": null,
      "object_fit": null,
      "object_position": null,
      "order": null,
      "overflow": null,
      "overflow_x": null,
      "overflow_y": null,
      "padding": null,
      "right": null,
      "top": null,
      "visibility": null,
      "width": null
     }
    },
    "c10a86cb0f88418a8aa6d2537ccee020": {
     "model_module": "@jupyter-widgets/controls",
     "model_module_version": "1.5.0",
     "model_name": "FloatProgressModel",
     "state": {
      "_dom_classes": [],
      "_model_module": "@jupyter-widgets/controls",
      "_model_module_version": "1.5.0",
      "_model_name": "FloatProgressModel",
      "_view_count": null,
      "_view_module": "@jupyter-widgets/controls",
      "_view_module_version": "1.5.0",
      "_view_name": "ProgressView",
      "bar_style": "danger",
      "description": "",
      "description_tooltip": null,
      "layout": "IPY_MODEL_bd85963cf54d4ec396bdddc29a72ff05",
      "max": 25,
      "min": 0,
      "orientation": "horizontal",
      "style": "IPY_MODEL_4fbe615210e64cc58e2aedfb4bc0e174",
      "value": 8
     }
    },
    "ce8f753ead724e67bfdf2ba55c23157b": {
     "model_module": "@jupyter-widgets/controls",
     "model_module_version": "1.5.0",
     "model_name": "DescriptionStyleModel",
     "state": {
      "_model_module": "@jupyter-widgets/controls",
      "_model_module_version": "1.5.0",
      "_model_name": "DescriptionStyleModel",
      "_view_count": null,
      "_view_module": "@jupyter-widgets/base",
      "_view_module_version": "1.2.0",
      "_view_name": "StyleView",
      "description_width": ""
     }
    },
    "e5d068325a84489c96267594e8459c25": {
     "model_module": "@jupyter-widgets/controls",
     "model_module_version": "1.5.0",
     "model_name": "HBoxModel",
     "state": {
      "_dom_classes": [],
      "_model_module": "@jupyter-widgets/controls",
      "_model_module_version": "1.5.0",
      "_model_name": "HBoxModel",
      "_view_count": null,
      "_view_module": "@jupyter-widgets/controls",
      "_view_module_version": "1.5.0",
      "_view_name": "HBoxView",
      "box_style": "",
      "children": [
       "IPY_MODEL_129a2ce0680c42c8b120d8a1503b0267",
       "IPY_MODEL_fa43b027c70d4a809b062e155010ca6c",
       "IPY_MODEL_75a5ebb4825e42b48c116a251ed4eddb"
      ],
      "layout": "IPY_MODEL_62634b22dc05435ca90f8b55b710b2a1"
     }
    },
    "e7eac95332284abd87bb1f84fb553281": {
     "model_module": "@jupyter-widgets/base",
     "model_module_version": "1.2.0",
     "model_name": "LayoutModel",
     "state": {
      "_model_module": "@jupyter-widgets/base",
      "_model_module_version": "1.2.0",
      "_model_name": "LayoutModel",
      "_view_count": null,
      "_view_module": "@jupyter-widgets/base",
      "_view_module_version": "1.2.0",
      "_view_name": "LayoutView",
      "align_content": null,
      "align_items": null,
      "align_self": null,
      "border": null,
      "bottom": null,
      "display": null,
      "flex": null,
      "flex_flow": null,
      "grid_area": null,
      "grid_auto_columns": null,
      "grid_auto_flow": null,
      "grid_auto_rows": null,
      "grid_column": null,
      "grid_gap": null,
      "grid_row": null,
      "grid_template_areas": null,
      "grid_template_columns": null,
      "grid_template_rows": null,
      "height": null,
      "justify_content": null,
      "justify_items": null,
      "left": null,
      "margin": null,
      "max_height": null,
      "max_width": null,
      "min_height": null,
      "min_width": null,
      "object_fit": null,
      "object_position": null,
      "order": null,
      "overflow": null,
      "overflow_x": null,
      "overflow_y": null,
      "padding": null,
      "right": null,
      "top": null,
      "visibility": null,
      "width": null
     }
    },
    "f3fb6168455249efaec9fa6c1741f87e": {
     "model_module": "@jupyter-widgets/controls",
     "model_module_version": "1.5.0",
     "model_name": "DescriptionStyleModel",
     "state": {
      "_model_module": "@jupyter-widgets/controls",
      "_model_module_version": "1.5.0",
      "_model_name": "DescriptionStyleModel",
      "_view_count": null,
      "_view_module": "@jupyter-widgets/base",
      "_view_module_version": "1.2.0",
      "_view_name": "StyleView",
      "description_width": ""
     }
    },
    "fa43b027c70d4a809b062e155010ca6c": {
     "model_module": "@jupyter-widgets/controls",
     "model_module_version": "1.5.0",
     "model_name": "FloatProgressModel",
     "state": {
      "_dom_classes": [],
      "_model_module": "@jupyter-widgets/controls",
      "_model_module_version": "1.5.0",
      "_model_name": "FloatProgressModel",
      "_view_count": null,
      "_view_module": "@jupyter-widgets/controls",
      "_view_module_version": "1.5.0",
      "_view_name": "ProgressView",
      "bar_style": "danger",
      "description": "",
      "description_tooltip": null,
      "layout": "IPY_MODEL_61343ced08a24cefa715cdb7db64a11e",
      "max": 129,
      "min": 0,
      "orientation": "horizontal",
      "style": "IPY_MODEL_711d9d03d54a4a419fce66cee2817140",
      "value": 0
     }
    }
   }
  }
 },
 "nbformat": 4,
 "nbformat_minor": 4
}
