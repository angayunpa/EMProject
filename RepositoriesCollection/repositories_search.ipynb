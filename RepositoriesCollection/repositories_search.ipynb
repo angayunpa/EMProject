{
 "cells": [
  {
   "cell_type": "code",
   "execution_count": 21,
   "id": "66f69c66",
   "metadata": {
    "id": "66f69c66"
   },
   "outputs": [],
   "source": [
    "from github import Github\n",
    "import time\n",
    "# Authentication is defined via github.Auth\n",
    "from github import Auth\n",
    "\n",
    "# using an access token\n",
    "auth = Auth.Token(\"\")\n",
    "\n",
    "# Public Web Github\n",
    "g = Github(auth=auth)"
   ]
  },
  {
   "cell_type": "code",
   "execution_count": 22,
   "id": "6770ac84",
   "metadata": {
    "id": "6770ac84"
   },
   "outputs": [],
   "source": [
    "repositories = g.search_repositories(query=\"stars:>9 forks:>9 \"\n",
    "                                     \"size:>500000 is:public \"\n",
    "                                     \"archived:false language:Python\")"
   ]
  },
  {
   "cell_type": "code",
   "execution_count": 23,
   "id": "3LvlB3wVILwb",
   "metadata": {
    "id": "3LvlB3wVILwb"
   },
   "outputs": [],
   "source": [
    "with open(\"repo_list.txt\", \"a\") as f:\n",
    "    \n",
    "    for idx, repo in enumerate(repositories):\n",
    "        # Write repo name to file\n",
    "        f.write(f\"{repo.full_name}\\n\")\n",
    "        # Get available requests\n",
    "        rate_limit_data = g.get_rate_limit()\n",
    "        search_limit_data = rate_limit_data.raw_data['search']\n",
    "        remaining_requests = search_limit_data['remaining']\n",
    "        # Wait if no requests is available\n",
    "        if remaining_requests <= 10:\n",
    "            print(f\"Waiting for reset. Remaining requests={remaining_requests}\")\n",
    "            time.sleep(rate_limit_data['reset'] - int(time.time()))\n",
    "        "
   ]
  },
  {
   "cell_type": "code",
   "execution_count": null,
   "id": "c2462f76",
   "metadata": {},
   "outputs": [],
   "source": []
  }
 ],
 "metadata": {
  "colab": {
   "provenance": []
  },
  "kernelspec": {
   "display_name": "Python 3 (ipykernel)",
   "language": "python",
   "name": "python3"
  },
  "language_info": {
   "codemirror_mode": {
    "name": "ipython",
    "version": 3
   },
   "file_extension": ".py",
   "mimetype": "text/x-python",
   "name": "python",
   "nbconvert_exporter": "python",
   "pygments_lexer": "ipython3",
   "version": "3.9.12"
  }
 },
 "nbformat": 4,
 "nbformat_minor": 5
}
