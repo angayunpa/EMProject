{
 "cells": [
  {
   "cell_type": "code",
   "execution_count": 9,
   "id": "5079f359",
   "metadata": {},
   "outputs": [],
   "source": [
    "import pandas as pd\n",
    "import numpy as np\n",
    "import torch\n",
    "import torch.nn as nn\n",
    "from scipy.spatial.distance import cdist\n",
    "from tqdm import tqdm\n",
    "\n",
    "from PSO import PSO\n",
    "from utils import sammon_error"
   ]
  },
  {
   "cell_type": "code",
   "execution_count": 10,
   "id": "28d5af34",
   "metadata": {},
   "outputs": [],
   "source": [
    "df = pd.read_csv('radon_metrics.csv').drop('Unnamed: 0', axis=1)"
   ]
  },
  {
   "cell_type": "code",
   "execution_count": 11,
   "id": "16434b88",
   "metadata": {},
   "outputs": [
    {
     "data": {
      "text/html": [
       "<div>\n",
       "<style scoped>\n",
       "    .dataframe tbody tr th:only-of-type {\n",
       "        vertical-align: middle;\n",
       "    }\n",
       "\n",
       "    .dataframe tbody tr th {\n",
       "        vertical-align: top;\n",
       "    }\n",
       "\n",
       "    .dataframe thead th {\n",
       "        text-align: right;\n",
       "    }\n",
       "</style>\n",
       "<table border=\"1\" class=\"dataframe\">\n",
       "  <thead>\n",
       "    <tr style=\"text-align: right;\">\n",
       "      <th></th>\n",
       "      <th>HCPL</th>\n",
       "      <th>HDIF</th>\n",
       "      <th>HEFF</th>\n",
       "      <th>HNDB</th>\n",
       "      <th>HPL</th>\n",
       "      <th>HPV</th>\n",
       "      <th>HTRP</th>\n",
       "      <th>HVOL</th>\n",
       "      <th>MI</th>\n",
       "    </tr>\n",
       "  </thead>\n",
       "  <tbody>\n",
       "    <tr>\n",
       "      <th>0</th>\n",
       "      <td>0.000000</td>\n",
       "      <td>0.0</td>\n",
       "      <td>0.000000</td>\n",
       "      <td>0.000000</td>\n",
       "      <td>0.0</td>\n",
       "      <td>0.0</td>\n",
       "      <td>0.000000</td>\n",
       "      <td>0.000000</td>\n",
       "      <td>24.545304</td>\n",
       "    </tr>\n",
       "    <tr>\n",
       "      <th>1</th>\n",
       "      <td>0.000000</td>\n",
       "      <td>0.5</td>\n",
       "      <td>1.000000</td>\n",
       "      <td>0.000667</td>\n",
       "      <td>2.0</td>\n",
       "      <td>2.0</td>\n",
       "      <td>0.055556</td>\n",
       "      <td>2.000000</td>\n",
       "      <td>24.545304</td>\n",
       "    </tr>\n",
       "    <tr>\n",
       "      <th>2</th>\n",
       "      <td>44.828921</td>\n",
       "      <td>2.5</td>\n",
       "      <td>156.275624</td>\n",
       "      <td>0.020837</td>\n",
       "      <td>16.0</td>\n",
       "      <td>15.0</td>\n",
       "      <td>8.681979</td>\n",
       "      <td>62.510250</td>\n",
       "      <td>24.545304</td>\n",
       "    </tr>\n",
       "    <tr>\n",
       "      <th>3</th>\n",
       "      <td>0.000000</td>\n",
       "      <td>0.5</td>\n",
       "      <td>1.000000</td>\n",
       "      <td>0.000667</td>\n",
       "      <td>2.0</td>\n",
       "      <td>2.0</td>\n",
       "      <td>0.055556</td>\n",
       "      <td>2.000000</td>\n",
       "      <td>24.545304</td>\n",
       "    </tr>\n",
       "    <tr>\n",
       "      <th>4</th>\n",
       "      <td>6.754888</td>\n",
       "      <td>1.0</td>\n",
       "      <td>11.609640</td>\n",
       "      <td>0.003870</td>\n",
       "      <td>5.0</td>\n",
       "      <td>5.0</td>\n",
       "      <td>0.644980</td>\n",
       "      <td>11.609640</td>\n",
       "      <td>24.545304</td>\n",
       "    </tr>\n",
       "    <tr>\n",
       "      <th>...</th>\n",
       "      <td>...</td>\n",
       "      <td>...</td>\n",
       "      <td>...</td>\n",
       "      <td>...</td>\n",
       "      <td>...</td>\n",
       "      <td>...</td>\n",
       "      <td>...</td>\n",
       "      <td>...</td>\n",
       "      <td>...</td>\n",
       "    </tr>\n",
       "    <tr>\n",
       "      <th>50816</th>\n",
       "      <td>0.000000</td>\n",
       "      <td>0.0</td>\n",
       "      <td>0.000000</td>\n",
       "      <td>0.000000</td>\n",
       "      <td>0.0</td>\n",
       "      <td>0.0</td>\n",
       "      <td>0.000000</td>\n",
       "      <td>0.000000</td>\n",
       "      <td>72.224158</td>\n",
       "    </tr>\n",
       "    <tr>\n",
       "      <th>50817</th>\n",
       "      <td>0.000000</td>\n",
       "      <td>0.0</td>\n",
       "      <td>0.000000</td>\n",
       "      <td>0.000000</td>\n",
       "      <td>0.0</td>\n",
       "      <td>0.0</td>\n",
       "      <td>0.000000</td>\n",
       "      <td>0.000000</td>\n",
       "      <td>72.224158</td>\n",
       "    </tr>\n",
       "    <tr>\n",
       "      <th>50818</th>\n",
       "      <td>16.364528</td>\n",
       "      <td>1.5</td>\n",
       "      <td>36.000000</td>\n",
       "      <td>0.008000</td>\n",
       "      <td>8.0</td>\n",
       "      <td>8.0</td>\n",
       "      <td>2.000000</td>\n",
       "      <td>24.000000</td>\n",
       "      <td>79.069071</td>\n",
       "    </tr>\n",
       "    <tr>\n",
       "      <th>50819</th>\n",
       "      <td>0.000000</td>\n",
       "      <td>0.0</td>\n",
       "      <td>0.000000</td>\n",
       "      <td>0.000000</td>\n",
       "      <td>0.0</td>\n",
       "      <td>0.0</td>\n",
       "      <td>0.000000</td>\n",
       "      <td>0.000000</td>\n",
       "      <td>77.709124</td>\n",
       "    </tr>\n",
       "    <tr>\n",
       "      <th>50820</th>\n",
       "      <td>27.651484</td>\n",
       "      <td>2.0</td>\n",
       "      <td>76.107496</td>\n",
       "      <td>0.012685</td>\n",
       "      <td>11.0</td>\n",
       "      <td>11.0</td>\n",
       "      <td>4.228194</td>\n",
       "      <td>38.053748</td>\n",
       "      <td>77.709124</td>\n",
       "    </tr>\n",
       "  </tbody>\n",
       "</table>\n",
       "<p>50821 rows × 9 columns</p>\n",
       "</div>"
      ],
      "text/plain": [
       "            HCPL  HDIF        HEFF      HNDB   HPL   HPV      HTRP       HVOL  \\\n",
       "0       0.000000   0.0    0.000000  0.000000   0.0   0.0  0.000000   0.000000   \n",
       "1       0.000000   0.5    1.000000  0.000667   2.0   2.0  0.055556   2.000000   \n",
       "2      44.828921   2.5  156.275624  0.020837  16.0  15.0  8.681979  62.510250   \n",
       "3       0.000000   0.5    1.000000  0.000667   2.0   2.0  0.055556   2.000000   \n",
       "4       6.754888   1.0   11.609640  0.003870   5.0   5.0  0.644980  11.609640   \n",
       "...          ...   ...         ...       ...   ...   ...       ...        ...   \n",
       "50816   0.000000   0.0    0.000000  0.000000   0.0   0.0  0.000000   0.000000   \n",
       "50817   0.000000   0.0    0.000000  0.000000   0.0   0.0  0.000000   0.000000   \n",
       "50818  16.364528   1.5   36.000000  0.008000   8.0   8.0  2.000000  24.000000   \n",
       "50819   0.000000   0.0    0.000000  0.000000   0.0   0.0  0.000000   0.000000   \n",
       "50820  27.651484   2.0   76.107496  0.012685  11.0  11.0  4.228194  38.053748   \n",
       "\n",
       "              MI  \n",
       "0      24.545304  \n",
       "1      24.545304  \n",
       "2      24.545304  \n",
       "3      24.545304  \n",
       "4      24.545304  \n",
       "...          ...  \n",
       "50816  72.224158  \n",
       "50817  72.224158  \n",
       "50818  79.069071  \n",
       "50819  77.709124  \n",
       "50820  77.709124  \n",
       "\n",
       "[50821 rows x 9 columns]"
      ]
     },
     "execution_count": 11,
     "metadata": {},
     "output_type": "execute_result"
    }
   ],
   "source": [
    "df"
   ]
  },
  {
   "cell_type": "code",
   "execution_count": 12,
   "id": "43c5199a",
   "metadata": {},
   "outputs": [],
   "source": [
    "data = torch.from_numpy(df.to_numpy())"
   ]
  },
  {
   "cell_type": "code",
   "execution_count": 13,
   "id": "73de9c32",
   "metadata": {},
   "outputs": [
    {
     "data": {
      "text/plain": [
       "device(type='cuda')"
      ]
     },
     "execution_count": 13,
     "metadata": {},
     "output_type": "execute_result"
    }
   ],
   "source": [
    "device = torch.device('cuda' if torch.cuda.is_available() else 'cpu')\n",
    "device"
   ]
  },
  {
   "cell_type": "code",
   "execution_count": 14,
   "id": "dc29ee3c",
   "metadata": {},
   "outputs": [
    {
     "name": "stderr",
     "output_type": "stream",
     "text": [
      "  3%|██▋                                                                             | 1/30 [04:32<2:11:41, 272.45s/it]\n"
     ]
    },
    {
     "ename": "KeyboardInterrupt",
     "evalue": "",
     "output_type": "error",
     "traceback": [
      "\u001b[1;31m---------------------------------------------------------------------------\u001b[0m",
      "\u001b[1;31mKeyboardInterrupt\u001b[0m                         Traceback (most recent call last)",
      "Input \u001b[1;32mIn [14]\u001b[0m, in \u001b[0;36m<cell line: 1>\u001b[1;34m()\u001b[0m\n\u001b[1;32m----> 1\u001b[0m feat_idx, error_log \u001b[38;5;241m=\u001b[39m \u001b[43mPSO\u001b[49m\u001b[43m(\u001b[49m\u001b[43mdata\u001b[49m\u001b[43m,\u001b[49m\u001b[43m \u001b[49m\u001b[43msammon_error\u001b[49m\u001b[43m,\u001b[49m\u001b[43m \u001b[49m\u001b[38;5;241;43m5\u001b[39;49m\u001b[43m,\u001b[49m\u001b[43m \u001b[49m\u001b[43mdevice\u001b[49m\u001b[38;5;241;43m=\u001b[39;49m\u001b[43mdevice\u001b[49m\u001b[43m,\u001b[49m\u001b[43m \u001b[49m\u001b[43mbatch_size\u001b[49m\u001b[38;5;241;43m=\u001b[39;49m\u001b[38;5;241;43m5000\u001b[39;49m\u001b[43m,\u001b[49m\u001b[43m \u001b[49m\u001b[43mbatch_threshold\u001b[49m\u001b[38;5;241;43m=\u001b[39;49m\u001b[38;5;241;43m20000\u001b[39;49m\u001b[43m)\u001b[49m\n",
      "File \u001b[1;32m~\\EMProject\\MainTask\\PSO.py:68\u001b[0m, in \u001b[0;36mPSO\u001b[1;34m(x, optim_func, n_features, max_iter, n_particles, w, c1, c2, device, use_tqdm, batch_size, batch_threshold)\u001b[0m\n\u001b[0;32m     66\u001b[0m         error[idx, \u001b[38;5;241m0\u001b[39m] \u001b[38;5;241m=\u001b[39m optim_func(d_y, d_x)\n\u001b[0;32m     67\u001b[0m     \u001b[38;5;28;01melse\u001b[39;00m:\n\u001b[1;32m---> 68\u001b[0m         error[idx, \u001b[38;5;241m0\u001b[39m] \u001b[38;5;241m=\u001b[39m \u001b[43moptim_func\u001b[49m\u001b[43m(\u001b[49m\u001b[43mx\u001b[49m\u001b[43m,\u001b[49m\u001b[43m \u001b[49m\u001b[43mx\u001b[49m\u001b[43m[\u001b[49m\u001b[43m:\u001b[49m\u001b[43m,\u001b[49m\u001b[43m \u001b[49m\u001b[43mbest_features_idx\u001b[49m\u001b[43m[\u001b[49m\u001b[43midx\u001b[49m\u001b[43m]\u001b[49m\u001b[43m]\u001b[49m\u001b[43m,\u001b[49m\u001b[43m \u001b[49m\u001b[43mbatched_input\u001b[49m\u001b[38;5;241;43m=\u001b[39;49m\u001b[38;5;28;43;01mTrue\u001b[39;49;00m\u001b[43m,\u001b[49m\u001b[43m \u001b[49m\u001b[43mbatch_size\u001b[49m\u001b[38;5;241;43m=\u001b[39;49m\u001b[43mbatch_size\u001b[49m\u001b[43m)\u001b[49m\n\u001b[0;32m     69\u001b[0m \u001b[38;5;66;03m#error = optim_func(x_stacked_indexed, x)\u001b[39;00m\n\u001b[0;32m     70\u001b[0m \n\u001b[0;32m     71\u001b[0m \u001b[38;5;66;03m# Update personal best\u001b[39;00m\n\u001b[0;32m     72\u001b[0m pbest_pos \u001b[38;5;241m=\u001b[39m torch\u001b[38;5;241m.\u001b[39mwhere(error \u001b[38;5;241m<\u001b[39m pbest_val, particles, pbest_pos)\n",
      "File \u001b[1;32m~\\EMProject\\MainTask\\utils.py:26\u001b[0m, in \u001b[0;36msammon_error\u001b[1;34m(d_x, d_y, smooth, batched_input, batch_size)\u001b[0m\n\u001b[0;32m     21\u001b[0m dim2_right_index \u001b[38;5;241m=\u001b[39m \u001b[38;5;28mmin\u001b[39m(d_x\u001b[38;5;241m.\u001b[39mshape[\u001b[38;5;241m0\u001b[39m], dim2_left_index \u001b[38;5;241m+\u001b[39m batch_size)\n\u001b[0;32m     23\u001b[0m d_x_batch \u001b[38;5;241m=\u001b[39m torch\u001b[38;5;241m.\u001b[39mcdist(d_x[dim1_left_index:dim1_right_index, :],\n\u001b[0;32m     24\u001b[0m                   d_x[dim2_left_index:dim2_right_index, :])\n\u001b[1;32m---> 26\u001b[0m d_y_batch \u001b[38;5;241m=\u001b[39m \u001b[43mtorch\u001b[49m\u001b[38;5;241;43m.\u001b[39;49m\u001b[43mcdist\u001b[49m\u001b[43m(\u001b[49m\u001b[43md_y\u001b[49m\u001b[43m[\u001b[49m\u001b[43mdim1_left_index\u001b[49m\u001b[43m:\u001b[49m\u001b[43mdim1_right_index\u001b[49m\u001b[43m,\u001b[49m\u001b[43m \u001b[49m\u001b[43m:\u001b[49m\u001b[43m]\u001b[49m\u001b[43m,\u001b[49m\n\u001b[0;32m     27\u001b[0m \u001b[43m                  \u001b[49m\u001b[43md_y\u001b[49m\u001b[43m[\u001b[49m\u001b[43mdim2_left_index\u001b[49m\u001b[43m:\u001b[49m\u001b[43mdim2_right_index\u001b[49m\u001b[43m,\u001b[49m\u001b[43m \u001b[49m\u001b[43m:\u001b[49m\u001b[43m]\u001b[49m\u001b[43m)\u001b[49m\n\u001b[0;32m     30\u001b[0m total_scale \u001b[38;5;241m+\u001b[39m\u001b[38;5;241m=\u001b[39m torch\u001b[38;5;241m.\u001b[39msum(d_x_batch)\u001b[38;5;241m.\u001b[39mlong()\n\u001b[0;32m     31\u001b[0m total_error \u001b[38;5;241m+\u001b[39m\u001b[38;5;241m=\u001b[39m torch\u001b[38;5;241m.\u001b[39msum(torch\u001b[38;5;241m.\u001b[39msquare(d_x_batch \u001b[38;5;241m-\u001b[39m d_y_batch) \u001b[38;5;241m/\u001b[39m (d_x_batch \u001b[38;5;241m+\u001b[39m smooth))\n",
      "File \u001b[1;32m~\\AppData\\Roaming\\Python\\Python39\\site-packages\\torch\\functional.py:1183\u001b[0m, in \u001b[0;36mcdist\u001b[1;34m(x1, x2, p, compute_mode)\u001b[0m\n\u001b[0;32m   1180\u001b[0m     \u001b[38;5;28;01mreturn\u001b[39;00m handle_torch_function(\n\u001b[0;32m   1181\u001b[0m         cdist, (x1, x2), x1, x2, p\u001b[38;5;241m=\u001b[39mp, compute_mode\u001b[38;5;241m=\u001b[39mcompute_mode)\n\u001b[0;32m   1182\u001b[0m \u001b[38;5;28;01mif\u001b[39;00m compute_mode \u001b[38;5;241m==\u001b[39m \u001b[38;5;124m'\u001b[39m\u001b[38;5;124muse_mm_for_euclid_dist_if_necessary\u001b[39m\u001b[38;5;124m'\u001b[39m:\n\u001b[1;32m-> 1183\u001b[0m     \u001b[38;5;28;01mreturn\u001b[39;00m \u001b[43m_VF\u001b[49m\u001b[38;5;241;43m.\u001b[39;49m\u001b[43mcdist\u001b[49m\u001b[43m(\u001b[49m\u001b[43mx1\u001b[49m\u001b[43m,\u001b[49m\u001b[43m \u001b[49m\u001b[43mx2\u001b[49m\u001b[43m,\u001b[49m\u001b[43m \u001b[49m\u001b[43mp\u001b[49m\u001b[43m,\u001b[49m\u001b[43m \u001b[49m\u001b[38;5;28;43;01mNone\u001b[39;49;00m\u001b[43m)\u001b[49m  \u001b[38;5;66;03m# type: ignore[attr-defined]\u001b[39;00m\n\u001b[0;32m   1184\u001b[0m \u001b[38;5;28;01melif\u001b[39;00m compute_mode \u001b[38;5;241m==\u001b[39m \u001b[38;5;124m'\u001b[39m\u001b[38;5;124muse_mm_for_euclid_dist\u001b[39m\u001b[38;5;124m'\u001b[39m:\n\u001b[0;32m   1185\u001b[0m     \u001b[38;5;28;01mreturn\u001b[39;00m _VF\u001b[38;5;241m.\u001b[39mcdist(x1, x2, p, \u001b[38;5;241m1\u001b[39m)  \u001b[38;5;66;03m# type: ignore[attr-defined]\u001b[39;00m\n",
      "\u001b[1;31mKeyboardInterrupt\u001b[0m: "
     ]
    }
   ],
   "source": [
    "feat_idx, error_log = PSO(data, sammon_error, 5, device=device, batch_size=5000, batch_threshold=20000)"
   ]
  },
  {
   "cell_type": "code",
   "execution_count": 7,
   "id": "8ebd320c",
   "metadata": {},
   "outputs": [
    {
     "data": {
      "text/plain": [
       "array(['HEFF', 'HVOL', 'HCPL', 'MI', 'HPL'], dtype=object)"
      ]
     },
     "execution_count": 7,
     "metadata": {},
     "output_type": "execute_result"
    }
   ],
   "source": [
    "df.columns[feat_idx]"
   ]
  },
  {
   "cell_type": "code",
   "execution_count": 8,
   "id": "420a231f",
   "metadata": {},
   "outputs": [
    {
     "data": {
      "text/plain": [
       "[0.00012198288459330797,\n",
       " 0.00012198287004139274,\n",
       " 0.00012198287004139274,\n",
       " 2.095572381222155e-05,\n",
       " 1.1595155228860676e-05,\n",
       " 1.1595155228860676e-05,\n",
       " 1.1595155228860676e-05,\n",
       " 1.1595155228860676e-05,\n",
       " 1.1595154319365975e-05,\n",
       " 1.1595154319365975e-05,\n",
       " 1.1595154319365975e-05,\n",
       " 1.1595154319365975e-05,\n",
       " 1.1595154319365975e-05,\n",
       " 1.1595154319365975e-05,\n",
       " 1.1595154319365975e-05,\n",
       " 1.1595154319365975e-05,\n",
       " 1.1595154319365975e-05,\n",
       " 1.1595154319365975e-05,\n",
       " 1.1595154319365975e-05,\n",
       " 1.1595154319365975e-05,\n",
       " 1.1595154319365975e-05,\n",
       " 1.1595154319365975e-05,\n",
       " 1.1595154319365975e-05,\n",
       " 1.1595154319365975e-05,\n",
       " 1.1595154319365975e-05,\n",
       " 1.1595154319365975e-05,\n",
       " 1.1595154319365975e-05,\n",
       " 1.1595154319365975e-05,\n",
       " 1.1595154319365975e-05,\n",
       " 1.1595154319365975e-05]"
      ]
     },
     "execution_count": 8,
     "metadata": {},
     "output_type": "execute_result"
    }
   ],
   "source": [
    "error_log"
   ]
  },
  {
   "cell_type": "code",
   "execution_count": null,
   "id": "c748d8b4",
   "metadata": {},
   "outputs": [],
   "source": []
  }
 ],
 "metadata": {
  "kernelspec": {
   "display_name": "Python 3 (ipykernel)",
   "language": "python",
   "name": "python3"
  },
  "language_info": {
   "codemirror_mode": {
    "name": "ipython",
    "version": 3
   },
   "file_extension": ".py",
   "mimetype": "text/x-python",
   "name": "python",
   "nbconvert_exporter": "python",
   "pygments_lexer": "ipython3",
   "version": "3.9.12"
  }
 },
 "nbformat": 4,
 "nbformat_minor": 5
}
