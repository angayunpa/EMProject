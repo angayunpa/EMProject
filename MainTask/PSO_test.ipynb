{
 "cells": [
  {
   "cell_type": "code",
   "execution_count": 1,
   "id": "5079f359",
   "metadata": {},
   "outputs": [],
   "source": [
    "import pandas as pd\n",
    "import numpy as np\n",
    "import torch\n",
    "import torch.nn as nn\n",
    "from scipy.spatial.distance import cdist\n",
    "from tqdm import tqdm\n",
    "\n",
    "from PSO import PSO\n",
    "from utils import sammon_error"
   ]
  },
  {
   "cell_type": "code",
   "execution_count": 2,
   "id": "28d5af34",
   "metadata": {},
   "outputs": [],
   "source": [
    "df = pd.read_csv('radon_metrics.csv').drop('Unnamed: 0', axis=1)"
   ]
  },
  {
   "cell_type": "code",
   "execution_count": 3,
   "id": "16434b88",
   "metadata": {},
   "outputs": [
    {
     "data": {
      "text/html": [
       "<div>\n",
       "<style scoped>\n",
       "    .dataframe tbody tr th:only-of-type {\n",
       "        vertical-align: middle;\n",
       "    }\n",
       "\n",
       "    .dataframe tbody tr th {\n",
       "        vertical-align: top;\n",
       "    }\n",
       "\n",
       "    .dataframe thead th {\n",
       "        text-align: right;\n",
       "    }\n",
       "</style>\n",
       "<table border=\"1\" class=\"dataframe\">\n",
       "  <thead>\n",
       "    <tr style=\"text-align: right;\">\n",
       "      <th></th>\n",
       "      <th>HCPL</th>\n",
       "      <th>HDIF</th>\n",
       "      <th>HEFF</th>\n",
       "      <th>HNDB</th>\n",
       "      <th>HPL</th>\n",
       "      <th>HPV</th>\n",
       "      <th>HTRP</th>\n",
       "      <th>HVOL</th>\n",
       "      <th>MI</th>\n",
       "    </tr>\n",
       "  </thead>\n",
       "  <tbody>\n",
       "    <tr>\n",
       "      <th>0</th>\n",
       "      <td>0.000000</td>\n",
       "      <td>0.0</td>\n",
       "      <td>0.000000</td>\n",
       "      <td>0.000000</td>\n",
       "      <td>0.0</td>\n",
       "      <td>0.0</td>\n",
       "      <td>0.000000</td>\n",
       "      <td>0.000000</td>\n",
       "      <td>24.545304</td>\n",
       "    </tr>\n",
       "    <tr>\n",
       "      <th>1</th>\n",
       "      <td>0.000000</td>\n",
       "      <td>0.5</td>\n",
       "      <td>1.000000</td>\n",
       "      <td>0.000667</td>\n",
       "      <td>2.0</td>\n",
       "      <td>2.0</td>\n",
       "      <td>0.055556</td>\n",
       "      <td>2.000000</td>\n",
       "      <td>24.545304</td>\n",
       "    </tr>\n",
       "    <tr>\n",
       "      <th>2</th>\n",
       "      <td>44.828921</td>\n",
       "      <td>2.5</td>\n",
       "      <td>156.275624</td>\n",
       "      <td>0.020837</td>\n",
       "      <td>16.0</td>\n",
       "      <td>15.0</td>\n",
       "      <td>8.681979</td>\n",
       "      <td>62.510250</td>\n",
       "      <td>24.545304</td>\n",
       "    </tr>\n",
       "    <tr>\n",
       "      <th>3</th>\n",
       "      <td>0.000000</td>\n",
       "      <td>0.5</td>\n",
       "      <td>1.000000</td>\n",
       "      <td>0.000667</td>\n",
       "      <td>2.0</td>\n",
       "      <td>2.0</td>\n",
       "      <td>0.055556</td>\n",
       "      <td>2.000000</td>\n",
       "      <td>24.545304</td>\n",
       "    </tr>\n",
       "    <tr>\n",
       "      <th>4</th>\n",
       "      <td>6.754888</td>\n",
       "      <td>1.0</td>\n",
       "      <td>11.609640</td>\n",
       "      <td>0.003870</td>\n",
       "      <td>5.0</td>\n",
       "      <td>5.0</td>\n",
       "      <td>0.644980</td>\n",
       "      <td>11.609640</td>\n",
       "      <td>24.545304</td>\n",
       "    </tr>\n",
       "    <tr>\n",
       "      <th>...</th>\n",
       "      <td>...</td>\n",
       "      <td>...</td>\n",
       "      <td>...</td>\n",
       "      <td>...</td>\n",
       "      <td>...</td>\n",
       "      <td>...</td>\n",
       "      <td>...</td>\n",
       "      <td>...</td>\n",
       "      <td>...</td>\n",
       "    </tr>\n",
       "    <tr>\n",
       "      <th>50816</th>\n",
       "      <td>0.000000</td>\n",
       "      <td>0.0</td>\n",
       "      <td>0.000000</td>\n",
       "      <td>0.000000</td>\n",
       "      <td>0.0</td>\n",
       "      <td>0.0</td>\n",
       "      <td>0.000000</td>\n",
       "      <td>0.000000</td>\n",
       "      <td>72.224158</td>\n",
       "    </tr>\n",
       "    <tr>\n",
       "      <th>50817</th>\n",
       "      <td>0.000000</td>\n",
       "      <td>0.0</td>\n",
       "      <td>0.000000</td>\n",
       "      <td>0.000000</td>\n",
       "      <td>0.0</td>\n",
       "      <td>0.0</td>\n",
       "      <td>0.000000</td>\n",
       "      <td>0.000000</td>\n",
       "      <td>72.224158</td>\n",
       "    </tr>\n",
       "    <tr>\n",
       "      <th>50818</th>\n",
       "      <td>16.364528</td>\n",
       "      <td>1.5</td>\n",
       "      <td>36.000000</td>\n",
       "      <td>0.008000</td>\n",
       "      <td>8.0</td>\n",
       "      <td>8.0</td>\n",
       "      <td>2.000000</td>\n",
       "      <td>24.000000</td>\n",
       "      <td>79.069071</td>\n",
       "    </tr>\n",
       "    <tr>\n",
       "      <th>50819</th>\n",
       "      <td>0.000000</td>\n",
       "      <td>0.0</td>\n",
       "      <td>0.000000</td>\n",
       "      <td>0.000000</td>\n",
       "      <td>0.0</td>\n",
       "      <td>0.0</td>\n",
       "      <td>0.000000</td>\n",
       "      <td>0.000000</td>\n",
       "      <td>77.709124</td>\n",
       "    </tr>\n",
       "    <tr>\n",
       "      <th>50820</th>\n",
       "      <td>27.651484</td>\n",
       "      <td>2.0</td>\n",
       "      <td>76.107496</td>\n",
       "      <td>0.012685</td>\n",
       "      <td>11.0</td>\n",
       "      <td>11.0</td>\n",
       "      <td>4.228194</td>\n",
       "      <td>38.053748</td>\n",
       "      <td>77.709124</td>\n",
       "    </tr>\n",
       "  </tbody>\n",
       "</table>\n",
       "<p>50821 rows × 9 columns</p>\n",
       "</div>"
      ],
      "text/plain": [
       "            HCPL  HDIF        HEFF      HNDB   HPL   HPV      HTRP       HVOL  \\\n",
       "0       0.000000   0.0    0.000000  0.000000   0.0   0.0  0.000000   0.000000   \n",
       "1       0.000000   0.5    1.000000  0.000667   2.0   2.0  0.055556   2.000000   \n",
       "2      44.828921   2.5  156.275624  0.020837  16.0  15.0  8.681979  62.510250   \n",
       "3       0.000000   0.5    1.000000  0.000667   2.0   2.0  0.055556   2.000000   \n",
       "4       6.754888   1.0   11.609640  0.003870   5.0   5.0  0.644980  11.609640   \n",
       "...          ...   ...         ...       ...   ...   ...       ...        ...   \n",
       "50816   0.000000   0.0    0.000000  0.000000   0.0   0.0  0.000000   0.000000   \n",
       "50817   0.000000   0.0    0.000000  0.000000   0.0   0.0  0.000000   0.000000   \n",
       "50818  16.364528   1.5   36.000000  0.008000   8.0   8.0  2.000000  24.000000   \n",
       "50819   0.000000   0.0    0.000000  0.000000   0.0   0.0  0.000000   0.000000   \n",
       "50820  27.651484   2.0   76.107496  0.012685  11.0  11.0  4.228194  38.053748   \n",
       "\n",
       "              MI  \n",
       "0      24.545304  \n",
       "1      24.545304  \n",
       "2      24.545304  \n",
       "3      24.545304  \n",
       "4      24.545304  \n",
       "...          ...  \n",
       "50816  72.224158  \n",
       "50817  72.224158  \n",
       "50818  79.069071  \n",
       "50819  77.709124  \n",
       "50820  77.709124  \n",
       "\n",
       "[50821 rows x 9 columns]"
      ]
     },
     "execution_count": 3,
     "metadata": {},
     "output_type": "execute_result"
    }
   ],
   "source": [
    "df"
   ]
  },
  {
   "cell_type": "code",
   "execution_count": 4,
   "id": "43c5199a",
   "metadata": {},
   "outputs": [
    {
     "data": {
      "text/plain": [
       "torch.Size([5000, 9])"
      ]
     },
     "execution_count": 4,
     "metadata": {},
     "output_type": "execute_result"
    }
   ],
   "source": [
    "data = torch.from_numpy(df.to_numpy())\n",
    "data = data[:5000, :]\n",
    "data.shape"
   ]
  },
  {
   "cell_type": "code",
   "execution_count": 5,
   "id": "73de9c32",
   "metadata": {},
   "outputs": [
    {
     "data": {
      "text/plain": [
       "device(type='cuda')"
      ]
     },
     "execution_count": 5,
     "metadata": {},
     "output_type": "execute_result"
    }
   ],
   "source": [
    "device = torch.device('cuda' if torch.cuda.is_available() else 'cpu')\n",
    "device"
   ]
  },
  {
   "cell_type": "code",
   "execution_count": null,
   "id": "5682457b",
   "metadata": {},
   "outputs": [],
   "source": [
    "cache = {\"Sammon\": {}}"
   ]
  },
  {
   "cell_type": "code",
   "execution_count": 6,
   "id": "dc29ee3c",
   "metadata": {},
   "outputs": [
    {
     "name": "stderr",
     "output_type": "stream",
     "text": [
      "100%|██████████████████████████████████████████████████████████████████████████████████| 30/30 [00:32<00:00,  1.08s/it]\n"
     ]
    }
   ],
   "source": [
    "feat_idx, error_log = PSO(data, sammon_error, 5, device=device, batch_size=5000, batch_threshold=20000)"
   ]
  },
  {
   "cell_type": "code",
   "execution_count": 9,
   "id": "8ebd320c",
   "metadata": {},
   "outputs": [
    {
     "data": {
      "text/plain": [
       "array(['HEFF', 'MI', 'HCPL', 'HPL', 'HVOL'], dtype=object)"
      ]
     },
     "execution_count": 9,
     "metadata": {},
     "output_type": "execute_result"
    }
   ],
   "source": [
    "df.columns[feat_idx]"
   ]
  },
  {
   "cell_type": "code",
   "execution_count": 10,
   "id": "420a231f",
   "metadata": {},
   "outputs": [
    {
     "data": {
      "text/plain": [
       "[6.09098824497778e-05,\n",
       " 2.675456926226616e-05,\n",
       " 2.6754300051834434e-05,\n",
       " 2.6753998099593446e-05,\n",
       " 1.4381656001205556e-05,\n",
       " 1.4379911590367556e-05,\n",
       " 1.4379911590367556e-05,\n",
       " 1.4379911590367556e-05,\n",
       " 1.4379910680872854e-05,\n",
       " 1.4379910680872854e-05,\n",
       " 1.4379909771378152e-05,\n",
       " 1.4379909771378152e-05,\n",
       " 1.4379909771378152e-05,\n",
       " 1.4379909771378152e-05,\n",
       " 1.4379909771378152e-05,\n",
       " 1.4379909771378152e-05,\n",
       " 1.4379909771378152e-05,\n",
       " 1.4379909771378152e-05,\n",
       " 1.4379909771378152e-05,\n",
       " 1.4379909771378152e-05,\n",
       " 1.4379909771378152e-05,\n",
       " 1.4379909771378152e-05,\n",
       " 1.4379909771378152e-05,\n",
       " 1.4379909771378152e-05,\n",
       " 1.4379909771378152e-05,\n",
       " 1.4379909771378152e-05,\n",
       " 1.4379909771378152e-05,\n",
       " 1.4379909771378152e-05,\n",
       " 1.4379909771378152e-05,\n",
       " 1.4379909771378152e-05]"
      ]
     },
     "execution_count": 10,
     "metadata": {},
     "output_type": "execute_result"
    }
   ],
   "source": [
    "error_log"
   ]
  },
  {
   "cell_type": "code",
   "execution_count": null,
   "id": "c748d8b4",
   "metadata": {},
   "outputs": [],
   "source": []
  }
 ],
 "metadata": {
  "kernelspec": {
   "display_name": "Python 3 (ipykernel)",
   "language": "python",
   "name": "python3"
  },
  "language_info": {
   "codemirror_mode": {
    "name": "ipython",
    "version": 3
   },
   "file_extension": ".py",
   "mimetype": "text/x-python",
   "name": "python",
   "nbconvert_exporter": "python",
   "pygments_lexer": "ipython3",
   "version": "3.9.12"
  }
 },
 "nbformat": 4,
 "nbformat_minor": 5
}
