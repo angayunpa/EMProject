{
 "cells": [
  {
   "cell_type": "code",
   "execution_count": 6,
   "id": "fd8f9f91",
   "metadata": {},
   "outputs": [],
   "source": [
    "import pandas as pd\n",
    "import numpy as np\n",
    "import torch\n",
    "import torch.nn as nn\n",
    "from scipy.spatial.distance import cdist\n",
    "from tqdm import tqdm\n",
    "\n",
    "from PSO import PSO\n",
    "from utils import sammon_error_optimized"
   ]
  },
  {
   "cell_type": "code",
   "execution_count": 9,
   "id": "a9ded3a5",
   "metadata": {},
   "outputs": [],
   "source": [
    "df = pd.read_csv('radon_metrics.csv').drop('Unnamed: 0', axis=1)"
   ]
  },
  {
   "cell_type": "code",
   "execution_count": 10,
   "id": "32428b69",
   "metadata": {},
   "outputs": [
    {
     "data": {
      "text/html": [
       "<div>\n",
       "<style scoped>\n",
       "    .dataframe tbody tr th:only-of-type {\n",
       "        vertical-align: middle;\n",
       "    }\n",
       "\n",
       "    .dataframe tbody tr th {\n",
       "        vertical-align: top;\n",
       "    }\n",
       "\n",
       "    .dataframe thead th {\n",
       "        text-align: right;\n",
       "    }\n",
       "</style>\n",
       "<table border=\"1\" class=\"dataframe\">\n",
       "  <thead>\n",
       "    <tr style=\"text-align: right;\">\n",
       "      <th></th>\n",
       "      <th>HCPL</th>\n",
       "      <th>HDIF</th>\n",
       "      <th>HEFF</th>\n",
       "      <th>HNDB</th>\n",
       "      <th>HPL</th>\n",
       "      <th>HPV</th>\n",
       "      <th>HTRP</th>\n",
       "      <th>HVOL</th>\n",
       "      <th>MI</th>\n",
       "    </tr>\n",
       "  </thead>\n",
       "  <tbody>\n",
       "    <tr>\n",
       "      <th>0</th>\n",
       "      <td>0.000000</td>\n",
       "      <td>0.000000</td>\n",
       "      <td>0.000000e+00</td>\n",
       "      <td>0.000000</td>\n",
       "      <td>0.0</td>\n",
       "      <td>0.0</td>\n",
       "      <td>0.000000</td>\n",
       "      <td>0.000000</td>\n",
       "      <td>80.024765</td>\n",
       "    </tr>\n",
       "    <tr>\n",
       "      <th>1</th>\n",
       "      <td>2.000000</td>\n",
       "      <td>0.500000</td>\n",
       "      <td>2.377444e+00</td>\n",
       "      <td>0.001585</td>\n",
       "      <td>3.0</td>\n",
       "      <td>3.0</td>\n",
       "      <td>0.132080</td>\n",
       "      <td>4.754888</td>\n",
       "      <td>80.024765</td>\n",
       "    </tr>\n",
       "    <tr>\n",
       "      <th>2</th>\n",
       "      <td>4.754888</td>\n",
       "      <td>0.666667</td>\n",
       "      <td>8.000000e+00</td>\n",
       "      <td>0.004000</td>\n",
       "      <td>6.0</td>\n",
       "      <td>4.0</td>\n",
       "      <td>0.444444</td>\n",
       "      <td>12.000000</td>\n",
       "      <td>64.774293</td>\n",
       "    </tr>\n",
       "    <tr>\n",
       "      <th>3</th>\n",
       "      <td>67.757201</td>\n",
       "      <td>4.846154</td>\n",
       "      <td>6.283419e+02</td>\n",
       "      <td>0.043219</td>\n",
       "      <td>30.0</td>\n",
       "      <td>20.0</td>\n",
       "      <td>34.907881</td>\n",
       "      <td>129.657843</td>\n",
       "      <td>56.032441</td>\n",
       "    </tr>\n",
       "    <tr>\n",
       "      <th>4</th>\n",
       "      <td>26.000000</td>\n",
       "      <td>1.000000</td>\n",
       "      <td>3.986314e+01</td>\n",
       "      <td>0.013288</td>\n",
       "      <td>12.0</td>\n",
       "      <td>10.0</td>\n",
       "      <td>2.214619</td>\n",
       "      <td>39.863137</td>\n",
       "      <td>56.032441</td>\n",
       "    </tr>\n",
       "    <tr>\n",
       "      <th>...</th>\n",
       "      <td>...</td>\n",
       "      <td>...</td>\n",
       "      <td>...</td>\n",
       "      <td>...</td>\n",
       "      <td>...</td>\n",
       "      <td>...</td>\n",
       "      <td>...</td>\n",
       "      <td>...</td>\n",
       "      <td>...</td>\n",
       "    </tr>\n",
       "    <tr>\n",
       "      <th>5631</th>\n",
       "      <td>91.193449</td>\n",
       "      <td>1.650000</td>\n",
       "      <td>2.463079e+02</td>\n",
       "      <td>0.049759</td>\n",
       "      <td>33.0</td>\n",
       "      <td>23.0</td>\n",
       "      <td>13.683775</td>\n",
       "      <td>149.277545</td>\n",
       "      <td>0.000000</td>\n",
       "    </tr>\n",
       "    <tr>\n",
       "      <th>5632</th>\n",
       "      <td>145.636336</td>\n",
       "      <td>1.655172</td>\n",
       "      <td>3.972414e+02</td>\n",
       "      <td>0.080000</td>\n",
       "      <td>48.0</td>\n",
       "      <td>32.0</td>\n",
       "      <td>22.068966</td>\n",
       "      <td>240.000000</td>\n",
       "      <td>0.000000</td>\n",
       "    </tr>\n",
       "    <tr>\n",
       "      <th>5633</th>\n",
       "      <td>553.128273</td>\n",
       "      <td>10.891566</td>\n",
       "      <td>2.402835e+04</td>\n",
       "      <td>0.735381</td>\n",
       "      <td>339.0</td>\n",
       "      <td>91.0</td>\n",
       "      <td>1334.908109</td>\n",
       "      <td>2206.142383</td>\n",
       "      <td>0.000000</td>\n",
       "    </tr>\n",
       "    <tr>\n",
       "      <th>5634</th>\n",
       "      <td>3279.827578</td>\n",
       "      <td>22.801061</td>\n",
       "      <td>3.616592e+05</td>\n",
       "      <td>5.287169</td>\n",
       "      <td>1842.0</td>\n",
       "      <td>391.0</td>\n",
       "      <td>20092.178012</td>\n",
       "      <td>15861.507677</td>\n",
       "      <td>0.000000</td>\n",
       "    </tr>\n",
       "    <tr>\n",
       "      <th>5635</th>\n",
       "      <td>9325.910454</td>\n",
       "      <td>23.825346</td>\n",
       "      <td>1.130346e+06</td>\n",
       "      <td>15.814339</td>\n",
       "      <td>4794.0</td>\n",
       "      <td>953.0</td>\n",
       "      <td>62797.017424</td>\n",
       "      <td>47443.017544</td>\n",
       "      <td>0.000000</td>\n",
       "    </tr>\n",
       "  </tbody>\n",
       "</table>\n",
       "<p>5636 rows × 9 columns</p>\n",
       "</div>"
      ],
      "text/plain": [
       "             HCPL       HDIF          HEFF       HNDB     HPL    HPV  \\\n",
       "0        0.000000   0.000000  0.000000e+00   0.000000     0.0    0.0   \n",
       "1        2.000000   0.500000  2.377444e+00   0.001585     3.0    3.0   \n",
       "2        4.754888   0.666667  8.000000e+00   0.004000     6.0    4.0   \n",
       "3       67.757201   4.846154  6.283419e+02   0.043219    30.0   20.0   \n",
       "4       26.000000   1.000000  3.986314e+01   0.013288    12.0   10.0   \n",
       "...           ...        ...           ...        ...     ...    ...   \n",
       "5631    91.193449   1.650000  2.463079e+02   0.049759    33.0   23.0   \n",
       "5632   145.636336   1.655172  3.972414e+02   0.080000    48.0   32.0   \n",
       "5633   553.128273  10.891566  2.402835e+04   0.735381   339.0   91.0   \n",
       "5634  3279.827578  22.801061  3.616592e+05   5.287169  1842.0  391.0   \n",
       "5635  9325.910454  23.825346  1.130346e+06  15.814339  4794.0  953.0   \n",
       "\n",
       "              HTRP          HVOL         MI  \n",
       "0         0.000000      0.000000  80.024765  \n",
       "1         0.132080      4.754888  80.024765  \n",
       "2         0.444444     12.000000  64.774293  \n",
       "3        34.907881    129.657843  56.032441  \n",
       "4         2.214619     39.863137  56.032441  \n",
       "...            ...           ...        ...  \n",
       "5631     13.683775    149.277545   0.000000  \n",
       "5632     22.068966    240.000000   0.000000  \n",
       "5633   1334.908109   2206.142383   0.000000  \n",
       "5634  20092.178012  15861.507677   0.000000  \n",
       "5635  62797.017424  47443.017544   0.000000  \n",
       "\n",
       "[5636 rows x 9 columns]"
      ]
     },
     "execution_count": 10,
     "metadata": {},
     "output_type": "execute_result"
    }
   ],
   "source": [
    "df"
   ]
  },
  {
   "cell_type": "code",
   "execution_count": 11,
   "id": "4e19088e",
   "metadata": {},
   "outputs": [],
   "source": [
    "data = torch.from_numpy(df.to_numpy())"
   ]
  },
  {
   "cell_type": "code",
   "execution_count": 14,
   "id": "d19af704",
   "metadata": {},
   "outputs": [
    {
     "data": {
      "text/plain": [
       "device(type='cuda')"
      ]
     },
     "execution_count": 14,
     "metadata": {},
     "output_type": "execute_result"
    }
   ],
   "source": [
    "device = torch.device('cuda' if torch.cuda.is_available() else 'cpu')\n",
    "device"
   ]
  },
  {
   "cell_type": "code",
   "execution_count": 13,
   "id": "3c02076d",
   "metadata": {},
   "outputs": [
    {
     "name": "stderr",
     "output_type": "stream",
     "text": [
      "  3%|██▊                                                                                | 1/30 [00:29<14:21, 29.72s/it]\n"
     ]
    },
    {
     "ename": "KeyboardInterrupt",
     "evalue": "",
     "output_type": "error",
     "traceback": [
      "\u001b[1;31m---------------------------------------------------------------------------\u001b[0m",
      "\u001b[1;31mKeyboardInterrupt\u001b[0m                         Traceback (most recent call last)",
      "Input \u001b[1;32mIn [13]\u001b[0m, in \u001b[0;36m<cell line: 1>\u001b[1;34m()\u001b[0m\n\u001b[1;32m----> 1\u001b[0m \u001b[43mPSO\u001b[49m\u001b[43m(\u001b[49m\u001b[43mdata\u001b[49m\u001b[43m,\u001b[49m\u001b[43m \u001b[49m\u001b[43msammon_error_optimized\u001b[49m\u001b[43m,\u001b[49m\u001b[43m \u001b[49m\u001b[38;5;241;43m3\u001b[39;49m\u001b[43m)\u001b[49m\n",
      "File \u001b[1;32m~\\EMProject\\MainTask\\PSO.py:49\u001b[0m, in \u001b[0;36mPSO\u001b[1;34m(x, optim_func, n_features, max_iter, n_particles, w, c1, c2, device)\u001b[0m\n\u001b[0;32m     47\u001b[0m error \u001b[38;5;241m=\u001b[39m \u001b[38;5;28mfloat\u001b[39m(\u001b[38;5;124m'\u001b[39m\u001b[38;5;124minf\u001b[39m\u001b[38;5;124m'\u001b[39m) \u001b[38;5;241m*\u001b[39m torch\u001b[38;5;241m.\u001b[39mones(size\u001b[38;5;241m=\u001b[39m(n_particles, \u001b[38;5;241m1\u001b[39m), dtype\u001b[38;5;241m=\u001b[39mtorch\u001b[38;5;241m.\u001b[39mfloat, device\u001b[38;5;241m=\u001b[39mdevice)\n\u001b[0;32m     48\u001b[0m \u001b[38;5;28;01mfor\u001b[39;00m idx \u001b[38;5;129;01min\u001b[39;00m \u001b[38;5;28mrange\u001b[39m(n_particles):\n\u001b[1;32m---> 49\u001b[0m     error[idx, \u001b[38;5;241m0\u001b[39m] \u001b[38;5;241m=\u001b[39m \u001b[43moptim_func\u001b[49m\u001b[43m(\u001b[49m\u001b[43mx\u001b[49m\u001b[43m[\u001b[49m\u001b[43m:\u001b[49m\u001b[43m,\u001b[49m\u001b[43m \u001b[49m\u001b[43mbest_features_idx\u001b[49m\u001b[43m[\u001b[49m\u001b[43midx\u001b[49m\u001b[43m]\u001b[49m\u001b[43m]\u001b[49m\u001b[43m,\u001b[49m\u001b[43m \u001b[49m\u001b[43md_x\u001b[49m\u001b[43m)\u001b[49m\n\u001b[0;32m     50\u001b[0m \u001b[38;5;66;03m#error = optim_func(x_stacked_indexed, x)\u001b[39;00m\n\u001b[0;32m     51\u001b[0m \n\u001b[0;32m     52\u001b[0m \u001b[38;5;66;03m# Update personal best\u001b[39;00m\n\u001b[0;32m     53\u001b[0m pbest_pos \u001b[38;5;241m=\u001b[39m torch\u001b[38;5;241m.\u001b[39mwhere(error \u001b[38;5;241m<\u001b[39m pbest_val, particles, pbest_pos)\n",
      "File \u001b[1;32m~\\EMProject\\MainTask\\utils.py:14\u001b[0m, in \u001b[0;36msammon_error_optimized\u001b[1;34m(x, d_y, smooth)\u001b[0m\n\u001b[0;32m     11\u001b[0m d_x \u001b[38;5;241m=\u001b[39m torch\u001b[38;5;241m.\u001b[39mcdist(x, x)\n\u001b[0;32m     12\u001b[0m \u001b[38;5;66;03m#d_y = torch.cdist(y, y)\u001b[39;00m\n\u001b[1;32m---> 14\u001b[0m \u001b[38;5;28;01mreturn\u001b[39;00m \u001b[38;5;241m1\u001b[39m \u001b[38;5;241m/\u001b[39m torch\u001b[38;5;241m.\u001b[39msum(d_x, dim\u001b[38;5;241m=\u001b[39m(\u001b[38;5;241m-\u001b[39m\u001b[38;5;241m2\u001b[39m,\u001b[38;5;241m-\u001b[39m\u001b[38;5;241m1\u001b[39m)) \u001b[38;5;241m*\u001b[39m torch\u001b[38;5;241m.\u001b[39msum(\u001b[43mtorch\u001b[49m\u001b[38;5;241;43m.\u001b[39;49m\u001b[43msquare\u001b[49m\u001b[43m(\u001b[49m\u001b[43md_x\u001b[49m\u001b[43m \u001b[49m\u001b[38;5;241;43m-\u001b[39;49m\u001b[43m \u001b[49m\u001b[43md_y\u001b[49m\u001b[43m)\u001b[49m \u001b[38;5;241m/\u001b[39m (d_x \u001b[38;5;241m+\u001b[39m smooth), dim\u001b[38;5;241m=\u001b[39m(\u001b[38;5;241m-\u001b[39m\u001b[38;5;241m2\u001b[39m,\u001b[38;5;241m-\u001b[39m\u001b[38;5;241m1\u001b[39m))\n",
      "\u001b[1;31mKeyboardInterrupt\u001b[0m: "
     ]
    }
   ],
   "source": [
    "PSO(data, sammon_error_optimized, 3, device=device)"
   ]
  },
  {
   "cell_type": "code",
   "execution_count": null,
   "id": "763d825c",
   "metadata": {},
   "outputs": [],
   "source": []
  }
 ],
 "metadata": {
  "kernelspec": {
   "display_name": "Python 3 (ipykernel)",
   "language": "python",
   "name": "python3"
  },
  "language_info": {
   "codemirror_mode": {
    "name": "ipython",
    "version": 3
   },
   "file_extension": ".py",
   "mimetype": "text/x-python",
   "name": "python",
   "nbconvert_exporter": "python",
   "pygments_lexer": "ipython3",
   "version": "3.9.12"
  }
 },
 "nbformat": 4,
 "nbformat_minor": 5
}
