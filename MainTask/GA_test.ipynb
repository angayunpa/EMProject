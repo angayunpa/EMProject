{
 "cells": [
  {
   "cell_type": "code",
   "execution_count": 6,
   "id": "9553d0e0",
   "metadata": {},
   "outputs": [],
   "source": [
    "import pandas as pd\n",
    "import numpy as np\n",
    "import torch\n",
    "import torch.nn as nn\n",
    "from scipy.spatial.distance import cdist\n",
    "from tqdm import tqdm\n",
    "import itertools\n",
    "\n",
    "from utils import sammon_error\n",
    "from GA import GA"
   ]
  },
  {
   "cell_type": "code",
   "execution_count": 7,
   "id": "75a064a1",
   "metadata": {},
   "outputs": [
    {
     "data": {
      "text/html": [
       "<div>\n",
       "<style scoped>\n",
       "    .dataframe tbody tr th:only-of-type {\n",
       "        vertical-align: middle;\n",
       "    }\n",
       "\n",
       "    .dataframe tbody tr th {\n",
       "        vertical-align: top;\n",
       "    }\n",
       "\n",
       "    .dataframe thead th {\n",
       "        text-align: right;\n",
       "    }\n",
       "</style>\n",
       "<table border=\"1\" class=\"dataframe\">\n",
       "  <thead>\n",
       "    <tr style=\"text-align: right;\">\n",
       "      <th></th>\n",
       "      <th>HCPL</th>\n",
       "      <th>HDIF</th>\n",
       "      <th>HEFF</th>\n",
       "      <th>HNDB</th>\n",
       "      <th>HPL</th>\n",
       "      <th>HPV</th>\n",
       "      <th>HTRP</th>\n",
       "      <th>HVOL</th>\n",
       "      <th>MI</th>\n",
       "    </tr>\n",
       "  </thead>\n",
       "  <tbody>\n",
       "    <tr>\n",
       "      <th>0</th>\n",
       "      <td>0.000000</td>\n",
       "      <td>0.000000</td>\n",
       "      <td>0.000000e+00</td>\n",
       "      <td>0.000000</td>\n",
       "      <td>0.0</td>\n",
       "      <td>0.0</td>\n",
       "      <td>0.000000</td>\n",
       "      <td>0.000000</td>\n",
       "      <td>80.024765</td>\n",
       "    </tr>\n",
       "    <tr>\n",
       "      <th>1</th>\n",
       "      <td>2.000000</td>\n",
       "      <td>0.500000</td>\n",
       "      <td>2.377444e+00</td>\n",
       "      <td>0.001585</td>\n",
       "      <td>3.0</td>\n",
       "      <td>3.0</td>\n",
       "      <td>0.132080</td>\n",
       "      <td>4.754888</td>\n",
       "      <td>80.024765</td>\n",
       "    </tr>\n",
       "    <tr>\n",
       "      <th>2</th>\n",
       "      <td>4.754888</td>\n",
       "      <td>0.666667</td>\n",
       "      <td>8.000000e+00</td>\n",
       "      <td>0.004000</td>\n",
       "      <td>6.0</td>\n",
       "      <td>4.0</td>\n",
       "      <td>0.444444</td>\n",
       "      <td>12.000000</td>\n",
       "      <td>64.774293</td>\n",
       "    </tr>\n",
       "    <tr>\n",
       "      <th>3</th>\n",
       "      <td>67.757201</td>\n",
       "      <td>4.846154</td>\n",
       "      <td>6.283419e+02</td>\n",
       "      <td>0.043219</td>\n",
       "      <td>30.0</td>\n",
       "      <td>20.0</td>\n",
       "      <td>34.907881</td>\n",
       "      <td>129.657843</td>\n",
       "      <td>56.032441</td>\n",
       "    </tr>\n",
       "    <tr>\n",
       "      <th>4</th>\n",
       "      <td>26.000000</td>\n",
       "      <td>1.000000</td>\n",
       "      <td>3.986314e+01</td>\n",
       "      <td>0.013288</td>\n",
       "      <td>12.0</td>\n",
       "      <td>10.0</td>\n",
       "      <td>2.214619</td>\n",
       "      <td>39.863137</td>\n",
       "      <td>56.032441</td>\n",
       "    </tr>\n",
       "    <tr>\n",
       "      <th>...</th>\n",
       "      <td>...</td>\n",
       "      <td>...</td>\n",
       "      <td>...</td>\n",
       "      <td>...</td>\n",
       "      <td>...</td>\n",
       "      <td>...</td>\n",
       "      <td>...</td>\n",
       "      <td>...</td>\n",
       "      <td>...</td>\n",
       "    </tr>\n",
       "    <tr>\n",
       "      <th>5631</th>\n",
       "      <td>91.193449</td>\n",
       "      <td>1.650000</td>\n",
       "      <td>2.463079e+02</td>\n",
       "      <td>0.049759</td>\n",
       "      <td>33.0</td>\n",
       "      <td>23.0</td>\n",
       "      <td>13.683775</td>\n",
       "      <td>149.277545</td>\n",
       "      <td>0.000000</td>\n",
       "    </tr>\n",
       "    <tr>\n",
       "      <th>5632</th>\n",
       "      <td>145.636336</td>\n",
       "      <td>1.655172</td>\n",
       "      <td>3.972414e+02</td>\n",
       "      <td>0.080000</td>\n",
       "      <td>48.0</td>\n",
       "      <td>32.0</td>\n",
       "      <td>22.068966</td>\n",
       "      <td>240.000000</td>\n",
       "      <td>0.000000</td>\n",
       "    </tr>\n",
       "    <tr>\n",
       "      <th>5633</th>\n",
       "      <td>553.128273</td>\n",
       "      <td>10.891566</td>\n",
       "      <td>2.402835e+04</td>\n",
       "      <td>0.735381</td>\n",
       "      <td>339.0</td>\n",
       "      <td>91.0</td>\n",
       "      <td>1334.908109</td>\n",
       "      <td>2206.142383</td>\n",
       "      <td>0.000000</td>\n",
       "    </tr>\n",
       "    <tr>\n",
       "      <th>5634</th>\n",
       "      <td>3279.827578</td>\n",
       "      <td>22.801061</td>\n",
       "      <td>3.616592e+05</td>\n",
       "      <td>5.287169</td>\n",
       "      <td>1842.0</td>\n",
       "      <td>391.0</td>\n",
       "      <td>20092.178012</td>\n",
       "      <td>15861.507677</td>\n",
       "      <td>0.000000</td>\n",
       "    </tr>\n",
       "    <tr>\n",
       "      <th>5635</th>\n",
       "      <td>9325.910454</td>\n",
       "      <td>23.825346</td>\n",
       "      <td>1.130346e+06</td>\n",
       "      <td>15.814339</td>\n",
       "      <td>4794.0</td>\n",
       "      <td>953.0</td>\n",
       "      <td>62797.017424</td>\n",
       "      <td>47443.017544</td>\n",
       "      <td>0.000000</td>\n",
       "    </tr>\n",
       "  </tbody>\n",
       "</table>\n",
       "<p>5636 rows × 9 columns</p>\n",
       "</div>"
      ],
      "text/plain": [
       "             HCPL       HDIF          HEFF       HNDB     HPL    HPV  \\\n",
       "0        0.000000   0.000000  0.000000e+00   0.000000     0.0    0.0   \n",
       "1        2.000000   0.500000  2.377444e+00   0.001585     3.0    3.0   \n",
       "2        4.754888   0.666667  8.000000e+00   0.004000     6.0    4.0   \n",
       "3       67.757201   4.846154  6.283419e+02   0.043219    30.0   20.0   \n",
       "4       26.000000   1.000000  3.986314e+01   0.013288    12.0   10.0   \n",
       "...           ...        ...           ...        ...     ...    ...   \n",
       "5631    91.193449   1.650000  2.463079e+02   0.049759    33.0   23.0   \n",
       "5632   145.636336   1.655172  3.972414e+02   0.080000    48.0   32.0   \n",
       "5633   553.128273  10.891566  2.402835e+04   0.735381   339.0   91.0   \n",
       "5634  3279.827578  22.801061  3.616592e+05   5.287169  1842.0  391.0   \n",
       "5635  9325.910454  23.825346  1.130346e+06  15.814339  4794.0  953.0   \n",
       "\n",
       "              HTRP          HVOL         MI  \n",
       "0         0.000000      0.000000  80.024765  \n",
       "1         0.132080      4.754888  80.024765  \n",
       "2         0.444444     12.000000  64.774293  \n",
       "3        34.907881    129.657843  56.032441  \n",
       "4         2.214619     39.863137  56.032441  \n",
       "...            ...           ...        ...  \n",
       "5631     13.683775    149.277545   0.000000  \n",
       "5632     22.068966    240.000000   0.000000  \n",
       "5633   1334.908109   2206.142383   0.000000  \n",
       "5634  20092.178012  15861.507677   0.000000  \n",
       "5635  62797.017424  47443.017544   0.000000  \n",
       "\n",
       "[5636 rows x 9 columns]"
      ]
     },
     "execution_count": 7,
     "metadata": {},
     "output_type": "execute_result"
    }
   ],
   "source": [
    "df = pd.read_csv('radon_metrics.csv').drop('Unnamed: 0', axis=1)\n",
    "df"
   ]
  },
  {
   "cell_type": "code",
   "execution_count": 8,
   "id": "0e93a0d9",
   "metadata": {},
   "outputs": [],
   "source": [
    "data = torch.from_numpy(df.to_numpy())"
   ]
  },
  {
   "cell_type": "code",
   "execution_count": 9,
   "id": "46440e6f",
   "metadata": {},
   "outputs": [
    {
     "data": {
      "text/plain": [
       "device(type='cuda')"
      ]
     },
     "execution_count": 9,
     "metadata": {},
     "output_type": "execute_result"
    }
   ],
   "source": [
    "device = torch.device('cuda' if torch.cuda.is_available() else 'cpu')\n",
    "device"
   ]
  },
  {
   "cell_type": "code",
   "execution_count": 10,
   "id": "8035858e",
   "metadata": {},
   "outputs": [
    {
     "name": "stderr",
     "output_type": "stream",
     "text": [
      "100%|██████████████████████████████████████████████████████████████████████████████████| 30/30 [00:30<00:00,  1.02s/it]\n"
     ]
    }
   ],
   "source": [
    "out = GA(data, sammon_error, 5, device=device)"
   ]
  },
  {
   "cell_type": "code",
   "execution_count": 11,
   "id": "df7cf3aa",
   "metadata": {},
   "outputs": [
    {
     "data": {
      "text/plain": [
       "array(['HCPL', 'HVOL', 'HPV', 'MI', 'HEFF'], dtype=object)"
      ]
     },
     "execution_count": 11,
     "metadata": {},
     "output_type": "execute_result"
    }
   ],
   "source": [
    "df.columns[out[0]]"
   ]
  },
  {
   "cell_type": "code",
   "execution_count": 12,
   "id": "a43f7835",
   "metadata": {},
   "outputs": [
    {
     "data": {
      "text/plain": [
       "(tensor([0, 7, 5, 8, 2]),\n",
       " [2.0955712898285128e-05,\n",
       "  2.0955712898285128e-05,\n",
       "  2.0955712898285128e-05,\n",
       "  2.0955712898285128e-05,\n",
       "  2.0955712898285128e-05,\n",
       "  2.0955712898285128e-05,\n",
       "  2.0955712898285128e-05,\n",
       "  2.0955712898285128e-05,\n",
       "  2.0955712898285128e-05,\n",
       "  2.0955712898285128e-05,\n",
       "  2.0955712898285128e-05,\n",
       "  2.0955712898285128e-05,\n",
       "  2.0955712898285128e-05,\n",
       "  2.0955712898285128e-05,\n",
       "  2.0955712898285128e-05,\n",
       "  2.0955712898285128e-05,\n",
       "  2.0955712898285128e-05,\n",
       "  2.0955712898285128e-05,\n",
       "  2.0955712898285128e-05,\n",
       "  2.0955712898285128e-05,\n",
       "  2.0955712898285128e-05,\n",
       "  2.0955712898285128e-05,\n",
       "  2.0955712898285128e-05,\n",
       "  2.0955712898285128e-05,\n",
       "  2.0955712898285128e-05,\n",
       "  2.0955712898285128e-05,\n",
       "  2.0955712898285128e-05,\n",
       "  2.0955712898285128e-05,\n",
       "  2.0955712898285128e-05,\n",
       "  2.0955712898285128e-05])"
      ]
     },
     "execution_count": 12,
     "metadata": {},
     "output_type": "execute_result"
    }
   ],
   "source": [
    "out"
   ]
  },
  {
   "cell_type": "code",
   "execution_count": null,
   "id": "49b8ea21",
   "metadata": {},
   "outputs": [],
   "source": []
  }
 ],
 "metadata": {
  "kernelspec": {
   "display_name": "Python 3 (ipykernel)",
   "language": "python",
   "name": "python3"
  },
  "language_info": {
   "codemirror_mode": {
    "name": "ipython",
    "version": 3
   },
   "file_extension": ".py",
   "mimetype": "text/x-python",
   "name": "python",
   "nbconvert_exporter": "python",
   "pygments_lexer": "ipython3",
   "version": "3.9.12"
  }
 },
 "nbformat": 4,
 "nbformat_minor": 5
}
