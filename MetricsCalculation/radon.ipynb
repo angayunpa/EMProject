{
  "nbformat": 4,
  "nbformat_minor": 0,
  "metadata": {
    "colab": {
      "provenance": []
    },
    "kernelspec": {
      "name": "python3",
      "display_name": "Python 3"
    },
    "language_info": {
      "name": "python"
    }
  },
  "cells": [
    {
      "cell_type": "code",
      "source": [
        "from google.colab import drive\n",
        "drive.mount('/content/drive/')"
      ],
      "metadata": {
        "id": "rwvfnHbgIU8k"
      },
      "execution_count": null,
      "outputs": []
    },
    {
      "cell_type": "code",
      "source": [
        "!pip install radon"
      ],
      "metadata": {
        "id": "27UEd69I8ko1",
        "colab": {
          "base_uri": "https://localhost:8080/"
        },
        "outputId": "3ce0fb69-47fe-4a85-8cb4-03595608e371"
      },
      "execution_count": 1,
      "outputs": [
        {
          "output_type": "stream",
          "name": "stdout",
          "text": [
            "Collecting radon\n",
            "  Downloading radon-6.0.1-py2.py3-none-any.whl (52 kB)\n",
            "\u001b[?25l     \u001b[90m━━━━━━━━━━━━━━━━━━━━━━━━━━━━━━━━━━━━━━━━\u001b[0m \u001b[32m0.0/52.8 kB\u001b[0m \u001b[31m?\u001b[0m eta \u001b[36m-:--:--\u001b[0m\r\u001b[2K     \u001b[90m━━━━━━━━━━━━━━━━━━━━━━━━━━━━━━━━━━━━━━━━\u001b[0m \u001b[32m52.8/52.8 kB\u001b[0m \u001b[31m1.5 MB/s\u001b[0m eta \u001b[36m0:00:00\u001b[0m\n",
            "\u001b[?25hCollecting mando<0.8,>=0.6 (from radon)\n",
            "  Downloading mando-0.7.1-py2.py3-none-any.whl (28 kB)\n",
            "Collecting colorama>=0.4.1 (from radon)\n",
            "  Downloading colorama-0.4.6-py2.py3-none-any.whl (25 kB)\n",
            "Requirement already satisfied: six in /usr/local/lib/python3.10/dist-packages (from mando<0.8,>=0.6->radon) (1.16.0)\n",
            "Installing collected packages: mando, colorama, radon\n",
            "Successfully installed colorama-0.4.6 mando-0.7.1 radon-6.0.1\n"
          ]
        }
      ]
    },
    {
      "cell_type": "code",
      "source": [
        "TXT_FILENAME = 'em_repo_stars_part3.txt'\n",
        "with open(TXT_FILENAME) as f:\n",
        "    repos = [line.strip() for line in f.readlines()]"
      ],
      "metadata": {
        "id": "ZsgiF7Lrzmoo"
      },
      "execution_count": 7,
      "outputs": []
    },
    {
      "cell_type": "code",
      "source": [
        "import os\n",
        "from fnmatch import fnmatch\n",
        "\n",
        "def get_python_filenames(root_dir):\n",
        "    filenames = []\n",
        "    for path, subdirs, files in os.walk(root_dir):\n",
        "        for name in files:\n",
        "            if fnmatch(name, \"*.py\"):\n",
        "                filenames.append(os.path.join(path, name))\n",
        "    return filenames"
      ],
      "metadata": {
        "id": "f1Ewk-rT20GI"
      },
      "execution_count": 8,
      "outputs": []
    },
    {
      "cell_type": "code",
      "source": [
        "import subprocess\n",
        "from tqdm.notebook import tqdm\n",
        "\n",
        "pbar = tqdm(repos)\n",
        "for repo in pbar:\n",
        "    # get folder name\n",
        "    folder_name = repo.split('/')[-1]\n",
        "    # get repo name\n",
        "    repo_name = \"_\".join(repo.split('/')[-2:])\n",
        "    pbar.set_description_str(f\"Processing {repo_name}\")\n",
        "    # clone repo\n",
        "    pbar.set_postfix_str(\"Cloning Repository...\")\n",
        "    subprocess.run([\"git\", \"clone\", repo])\n",
        "    # calculate metrics\n",
        "    pbar.set_postfix_str(f\"Running Radon...\")\n",
        "    full_filenames = get_python_filenames(folder_name)\n",
        "    subprocess.run([\"mkdir\", \"-p\", f\"Results/{repo_name}/Halstead/\"])\n",
        "    subprocess.run([\"mkdir\", \"-p\", f\"Results/{repo_name}/MI/\"])\n",
        "    for i, filename in enumerate(tqdm(full_filenames)):\n",
        "        with open(f\"Results/{repo_name}/Halstead/results.jsonl\", 'a') as f:\n",
        "            subprocess.run(\n",
        "                [\"radon\", \"hal\", \"-f\", filename, '-j'],\n",
        "                stdout=f\n",
        "            )\n",
        "        with open(f\"Results/{repo_name}/MI/results.jsonl\", 'a') as f:\n",
        "            subprocess.run(\n",
        "                [\"radon\", \"mi\", filename, '-j'],\n",
        "                stdout=f\n",
        "            )\n",
        "    # # save to gdrive\n",
        "    pbar.set_postfix_str(f\"Saving Results to GDrive...\")\n",
        "    subprocess.run(['zip', '-r', 'RadonResultsPart2_2.zip', 'Results'])\n",
        "    subprocess.run(['cp', '-r', 'RadonResultsPart2_2.zip', 'drive/MyDrive'])\n",
        "    subprocess.run(['rm', '-rf', 'RadonResultsPart2_2.zip'])\n",
        "    # delete repository\n",
        "    pbar.set_postfix_str(f\"Deleting repository...\")\n",
        "    subprocess.run(['rm', '-rf', folder_name])"
      ],
      "metadata": {
        "id": "bTUcJfUhB_66"
      },
      "execution_count": null,
      "outputs": []
    },
    {
      "cell_type": "code",
      "source": [],
      "metadata": {
        "id": "lcU6M9CUtlXt"
      },
      "execution_count": null,
      "outputs": []
    }
  ]
}