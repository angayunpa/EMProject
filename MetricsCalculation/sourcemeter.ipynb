{
  "nbformat": 4,
  "nbformat_minor": 0,
  "metadata": {
    "colab": {
      "provenance": []
    },
    "kernelspec": {
      "name": "python3",
      "display_name": "Python 3"
    },
    "language_info": {
      "name": "python"
    },
    "widgets": {
      "application/vnd.jupyter.widget-state+json": {
        "f542e9c7d9044ef4bdcc5ace8cc98115": {
          "model_module": "@jupyter-widgets/controls",
          "model_name": "HBoxModel",
          "model_module_version": "1.5.0",
          "state": {
            "_dom_classes": [],
            "_model_module": "@jupyter-widgets/controls",
            "_model_module_version": "1.5.0",
            "_model_name": "HBoxModel",
            "_view_count": null,
            "_view_module": "@jupyter-widgets/controls",
            "_view_module_version": "1.5.0",
            "_view_name": "HBoxView",
            "box_style": "",
            "children": [
              "IPY_MODEL_94dfc383ad3243bc9740518b39fd22b6",
              "IPY_MODEL_f1a95b89930641708ccd1cc333fb6864",
              "IPY_MODEL_d60ac716fbeb4e8cb2f9ea8b2781a4a6"
            ],
            "layout": "IPY_MODEL_ef31020951d34770a9610dedfe572014"
          }
        },
        "94dfc383ad3243bc9740518b39fd22b6": {
          "model_module": "@jupyter-widgets/controls",
          "model_name": "HTMLModel",
          "model_module_version": "1.5.0",
          "state": {
            "_dom_classes": [],
            "_model_module": "@jupyter-widgets/controls",
            "_model_module_version": "1.5.0",
            "_model_name": "HTMLModel",
            "_view_count": null,
            "_view_module": "@jupyter-widgets/controls",
            "_view_module_version": "1.5.0",
            "_view_name": "HTMLView",
            "description": "",
            "description_tooltip": null,
            "layout": "IPY_MODEL_fedda6338e0e41f08dd4897c4ca8a8f2",
            "placeholder": "​",
            "style": "IPY_MODEL_1dcb12134cfe4f59a532e0112b2e0b70",
            "value": "Processing garethjns_PyBC: 100%"
          }
        },
        "f1a95b89930641708ccd1cc333fb6864": {
          "model_module": "@jupyter-widgets/controls",
          "model_name": "FloatProgressModel",
          "model_module_version": "1.5.0",
          "state": {
            "_dom_classes": [],
            "_model_module": "@jupyter-widgets/controls",
            "_model_module_version": "1.5.0",
            "_model_name": "FloatProgressModel",
            "_view_count": null,
            "_view_module": "@jupyter-widgets/controls",
            "_view_module_version": "1.5.0",
            "_view_name": "ProgressView",
            "bar_style": "success",
            "description": "",
            "description_tooltip": null,
            "layout": "IPY_MODEL_d8a88af767ad41029c3e7941dd019471",
            "max": 25,
            "min": 0,
            "orientation": "horizontal",
            "style": "IPY_MODEL_fc6b68c279654164b32715fb5664c871",
            "value": 25
          }
        },
        "d60ac716fbeb4e8cb2f9ea8b2781a4a6": {
          "model_module": "@jupyter-widgets/controls",
          "model_name": "HTMLModel",
          "model_module_version": "1.5.0",
          "state": {
            "_dom_classes": [],
            "_model_module": "@jupyter-widgets/controls",
            "_model_module_version": "1.5.0",
            "_model_name": "HTMLModel",
            "_view_count": null,
            "_view_module": "@jupyter-widgets/controls",
            "_view_module_version": "1.5.0",
            "_view_name": "HTMLView",
            "description": "",
            "description_tooltip": null,
            "layout": "IPY_MODEL_8b747bf3f01e4580ade44251425f5d25",
            "placeholder": "​",
            "style": "IPY_MODEL_10a2bec3d2a140ed8c9ee4e0e60e0025",
            "value": " 25/25 [30:50&lt;00:00, 82.80s/it, Deleting repository...]"
          }
        },
        "ef31020951d34770a9610dedfe572014": {
          "model_module": "@jupyter-widgets/base",
          "model_name": "LayoutModel",
          "model_module_version": "1.2.0",
          "state": {
            "_model_module": "@jupyter-widgets/base",
            "_model_module_version": "1.2.0",
            "_model_name": "LayoutModel",
            "_view_count": null,
            "_view_module": "@jupyter-widgets/base",
            "_view_module_version": "1.2.0",
            "_view_name": "LayoutView",
            "align_content": null,
            "align_items": null,
            "align_self": null,
            "border": null,
            "bottom": null,
            "display": null,
            "flex": null,
            "flex_flow": null,
            "grid_area": null,
            "grid_auto_columns": null,
            "grid_auto_flow": null,
            "grid_auto_rows": null,
            "grid_column": null,
            "grid_gap": null,
            "grid_row": null,
            "grid_template_areas": null,
            "grid_template_columns": null,
            "grid_template_rows": null,
            "height": null,
            "justify_content": null,
            "justify_items": null,
            "left": null,
            "margin": null,
            "max_height": null,
            "max_width": null,
            "min_height": null,
            "min_width": null,
            "object_fit": null,
            "object_position": null,
            "order": null,
            "overflow": null,
            "overflow_x": null,
            "overflow_y": null,
            "padding": null,
            "right": null,
            "top": null,
            "visibility": null,
            "width": null
          }
        },
        "fedda6338e0e41f08dd4897c4ca8a8f2": {
          "model_module": "@jupyter-widgets/base",
          "model_name": "LayoutModel",
          "model_module_version": "1.2.0",
          "state": {
            "_model_module": "@jupyter-widgets/base",
            "_model_module_version": "1.2.0",
            "_model_name": "LayoutModel",
            "_view_count": null,
            "_view_module": "@jupyter-widgets/base",
            "_view_module_version": "1.2.0",
            "_view_name": "LayoutView",
            "align_content": null,
            "align_items": null,
            "align_self": null,
            "border": null,
            "bottom": null,
            "display": null,
            "flex": null,
            "flex_flow": null,
            "grid_area": null,
            "grid_auto_columns": null,
            "grid_auto_flow": null,
            "grid_auto_rows": null,
            "grid_column": null,
            "grid_gap": null,
            "grid_row": null,
            "grid_template_areas": null,
            "grid_template_columns": null,
            "grid_template_rows": null,
            "height": null,
            "justify_content": null,
            "justify_items": null,
            "left": null,
            "margin": null,
            "max_height": null,
            "max_width": null,
            "min_height": null,
            "min_width": null,
            "object_fit": null,
            "object_position": null,
            "order": null,
            "overflow": null,
            "overflow_x": null,
            "overflow_y": null,
            "padding": null,
            "right": null,
            "top": null,
            "visibility": null,
            "width": null
          }
        },
        "1dcb12134cfe4f59a532e0112b2e0b70": {
          "model_module": "@jupyter-widgets/controls",
          "model_name": "DescriptionStyleModel",
          "model_module_version": "1.5.0",
          "state": {
            "_model_module": "@jupyter-widgets/controls",
            "_model_module_version": "1.5.0",
            "_model_name": "DescriptionStyleModel",
            "_view_count": null,
            "_view_module": "@jupyter-widgets/base",
            "_view_module_version": "1.2.0",
            "_view_name": "StyleView",
            "description_width": ""
          }
        },
        "d8a88af767ad41029c3e7941dd019471": {
          "model_module": "@jupyter-widgets/base",
          "model_name": "LayoutModel",
          "model_module_version": "1.2.0",
          "state": {
            "_model_module": "@jupyter-widgets/base",
            "_model_module_version": "1.2.0",
            "_model_name": "LayoutModel",
            "_view_count": null,
            "_view_module": "@jupyter-widgets/base",
            "_view_module_version": "1.2.0",
            "_view_name": "LayoutView",
            "align_content": null,
            "align_items": null,
            "align_self": null,
            "border": null,
            "bottom": null,
            "display": null,
            "flex": null,
            "flex_flow": null,
            "grid_area": null,
            "grid_auto_columns": null,
            "grid_auto_flow": null,
            "grid_auto_rows": null,
            "grid_column": null,
            "grid_gap": null,
            "grid_row": null,
            "grid_template_areas": null,
            "grid_template_columns": null,
            "grid_template_rows": null,
            "height": null,
            "justify_content": null,
            "justify_items": null,
            "left": null,
            "margin": null,
            "max_height": null,
            "max_width": null,
            "min_height": null,
            "min_width": null,
            "object_fit": null,
            "object_position": null,
            "order": null,
            "overflow": null,
            "overflow_x": null,
            "overflow_y": null,
            "padding": null,
            "right": null,
            "top": null,
            "visibility": null,
            "width": null
          }
        },
        "fc6b68c279654164b32715fb5664c871": {
          "model_module": "@jupyter-widgets/controls",
          "model_name": "ProgressStyleModel",
          "model_module_version": "1.5.0",
          "state": {
            "_model_module": "@jupyter-widgets/controls",
            "_model_module_version": "1.5.0",
            "_model_name": "ProgressStyleModel",
            "_view_count": null,
            "_view_module": "@jupyter-widgets/base",
            "_view_module_version": "1.2.0",
            "_view_name": "StyleView",
            "bar_color": null,
            "description_width": ""
          }
        },
        "8b747bf3f01e4580ade44251425f5d25": {
          "model_module": "@jupyter-widgets/base",
          "model_name": "LayoutModel",
          "model_module_version": "1.2.0",
          "state": {
            "_model_module": "@jupyter-widgets/base",
            "_model_module_version": "1.2.0",
            "_model_name": "LayoutModel",
            "_view_count": null,
            "_view_module": "@jupyter-widgets/base",
            "_view_module_version": "1.2.0",
            "_view_name": "LayoutView",
            "align_content": null,
            "align_items": null,
            "align_self": null,
            "border": null,
            "bottom": null,
            "display": null,
            "flex": null,
            "flex_flow": null,
            "grid_area": null,
            "grid_auto_columns": null,
            "grid_auto_flow": null,
            "grid_auto_rows": null,
            "grid_column": null,
            "grid_gap": null,
            "grid_row": null,
            "grid_template_areas": null,
            "grid_template_columns": null,
            "grid_template_rows": null,
            "height": null,
            "justify_content": null,
            "justify_items": null,
            "left": null,
            "margin": null,
            "max_height": null,
            "max_width": null,
            "min_height": null,
            "min_width": null,
            "object_fit": null,
            "object_position": null,
            "order": null,
            "overflow": null,
            "overflow_x": null,
            "overflow_y": null,
            "padding": null,
            "right": null,
            "top": null,
            "visibility": null,
            "width": null
          }
        },
        "10a2bec3d2a140ed8c9ee4e0e60e0025": {
          "model_module": "@jupyter-widgets/controls",
          "model_name": "DescriptionStyleModel",
          "model_module_version": "1.5.0",
          "state": {
            "_model_module": "@jupyter-widgets/controls",
            "_model_module_version": "1.5.0",
            "_model_name": "DescriptionStyleModel",
            "_view_count": null,
            "_view_module": "@jupyter-widgets/base",
            "_view_module_version": "1.2.0",
            "_view_name": "StyleView",
            "description_width": ""
          }
        }
      }
    }
  },
  "cells": [
    {
      "cell_type": "code",
      "source": [
        "from IPython.display import clear_output"
      ],
      "metadata": {
        "id": "r2qSONNVTbnm"
      },
      "execution_count": 1,
      "outputs": []
    },
    {
      "cell_type": "code",
      "source": [
        "!sudo apt install python3.8\n",
        "clear_output()"
      ],
      "metadata": {
        "id": "j4KYbhcVO_Hm"
      },
      "execution_count": 2,
      "outputs": []
    },
    {
      "cell_type": "code",
      "execution_count": 3,
      "metadata": {
        "id": "L7EtOlkH8OTF"
      },
      "outputs": [],
      "source": [
        "!wget https://www.sourcemeter.com/static/SourceMeter-10.2.0-x64-Linux.tgz\n",
        "clear_output()"
      ]
    },
    {
      "cell_type": "code",
      "source": [
        "!tar zxvf SourceMeter-10.2.0-x64-Linux.tgz\n",
        "clear_output()"
      ],
      "metadata": {
        "id": "27UEd69I8ko1"
      },
      "execution_count": 4,
      "outputs": []
    },
    {
      "cell_type": "code",
      "source": [
        "TXT_FILENAME = 'em_repos_part4.txt'\n",
        "with open(TXT_FILENAME) as f:\n",
        "    repos = [line.strip() for line in f.readlines()]"
      ],
      "metadata": {
        "id": "jsdDxQyUBUT1"
      },
      "execution_count": 6,
      "outputs": []
    },
    {
      "cell_type": "code",
      "source": [
        "import subprocess\n",
        "from tqdm.notebook import tqdm\n",
        "\n",
        "pbar = tqdm(repos)\n",
        "for repo in pbar:\n",
        "    # get folder name\n",
        "    folder_name = repo.split('/')[-1]\n",
        "    # get repo name\n",
        "    repo_name = \"_\".join(repo.split('/')[-2:])\n",
        "    pbar.set_description_str(f\"Processing {repo_name}\")\n",
        "    # clone repo\n",
        "    pbar.set_postfix_str(\"Cloning Repository...\")\n",
        "    subprocess.run([\"git\", \"clone\", repo])\n",
        "    # calculate metrics\n",
        "    pbar.set_postfix_str(f\"Running SourceMeter...\")\n",
        "    subprocess.run([\n",
        "        \"./SourceMeter-10.2.0-x64-Linux/Python/AnalyzerPython\",\n",
        "        \"-pythonBinary=python3.8\",\n",
        "        \"-pythonVersion=3\",\n",
        "        f\"-projectName={repo_name}\",\n",
        "        f\"-projectBaseDir={folder_name}\",\n",
        "        f\"-resultsDir=Results/{repo_name}\"\n",
        "    ])\n",
        "    # # save to gdrive\n",
        "    pbar.set_postfix_str(f\"Saving Results to GDrive...\")\n",
        "    subprocess.run(['zip', '-r', 'ResultsPart4.zip', 'Results'])\n",
        "    subprocess.run(['cp', '-r', 'ResultsPart4.zip', 'drive/MyDrive'])\n",
        "    subprocess.run(['rm', '-rf', 'ResultsPart4.zip'])\n",
        "    # delete repository\n",
        "    pbar.set_postfix_str(f\"Deleting repository...\")\n",
        "    subprocess.run(['rm', '-rf', folder_name])"
      ],
      "metadata": {
        "id": "8Vo4QI8NcPLs",
        "colab": {
          "base_uri": "https://localhost:8080/",
          "height": 49,
          "referenced_widgets": [
            "f542e9c7d9044ef4bdcc5ace8cc98115",
            "94dfc383ad3243bc9740518b39fd22b6",
            "f1a95b89930641708ccd1cc333fb6864",
            "d60ac716fbeb4e8cb2f9ea8b2781a4a6",
            "ef31020951d34770a9610dedfe572014",
            "fedda6338e0e41f08dd4897c4ca8a8f2",
            "1dcb12134cfe4f59a532e0112b2e0b70",
            "d8a88af767ad41029c3e7941dd019471",
            "fc6b68c279654164b32715fb5664c871",
            "8b747bf3f01e4580ade44251425f5d25",
            "10a2bec3d2a140ed8c9ee4e0e60e0025"
          ]
        },
        "outputId": "e0a4c23c-7782-4a4f-8cf9-2bffa2cf81dc"
      },
      "execution_count": 7,
      "outputs": [
        {
          "output_type": "display_data",
          "data": {
            "text/plain": [
              "  0%|          | 0/25 [00:00<?, ?it/s]"
            ],
            "application/vnd.jupyter.widget-view+json": {
              "version_major": 2,
              "version_minor": 0,
              "model_id": "f542e9c7d9044ef4bdcc5ace8cc98115"
            }
          },
          "metadata": {}
        }
      ]
    },
    {
      "cell_type": "code",
      "source": [],
      "metadata": {
        "id": "e2H7KdDOy0iZ"
      },
      "execution_count": null,
      "outputs": []
    }
  ]
}