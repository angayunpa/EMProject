{
  "nbformat": 4,
  "nbformat_minor": 0,
  "metadata": {
    "colab": {
      "provenance": []
    },
    "kernelspec": {
      "name": "python3",
      "display_name": "Python 3"
    },
    "language_info": {
      "name": "python"
    }
  },
  "cells": [
    {
      "cell_type": "code",
      "source": [
        "from IPython.display import clear_output"
      ],
      "metadata": {
        "id": "r2qSONNVTbnm"
      },
      "execution_count": null,
      "outputs": []
    },
    {
      "cell_type": "code",
      "source": [
        "!sudo apt install python3.8\n",
        "clear_output()"
      ],
      "metadata": {
        "id": "j4KYbhcVO_Hm"
      },
      "execution_count": null,
      "outputs": []
    },
    {
      "cell_type": "code",
      "execution_count": null,
      "metadata": {
        "id": "L7EtOlkH8OTF"
      },
      "outputs": [],
      "source": [
        "!wget https://www.sourcemeter.com/static/SourceMeter-10.2.0-x64-Linux.tgz\n",
        "clear_output()"
      ]
    },
    {
      "cell_type": "code",
      "source": [
        "!tar zxvf SourceMeter-10.2.0-x64-Linux.tgz\n",
        "clear_output()"
      ],
      "metadata": {
        "id": "27UEd69I8ko1"
      },
      "execution_count": null,
      "outputs": []
    },
    {
      "cell_type": "code",
      "source": [
        "TXT_FILENAME = 'em_repo_stars_part1.txt'\n",
        "with open(TXT_FILENAME) as f:\n",
        "    repos = [line.strip() for line in f.readlines()]"
      ],
      "metadata": {
        "id": "jsdDxQyUBUT1"
      },
      "execution_count": null,
      "outputs": []
    },
    {
      "cell_type": "code",
      "source": [
        "import os\n",
        "\n",
        "def create_init_files(root_dir):\n",
        "    for path, subdirs, files in os.walk(root_dir):\n",
        "        open(f\"{path}/__init__.py\", 'w').close()"
      ],
      "metadata": {
        "id": "FgHj_stnfUKn"
      },
      "execution_count": null,
      "outputs": []
    },
    {
      "cell_type": "code",
      "source": [
        "import subprocess\n",
        "from tqdm.notebook import tqdm\n",
        "\n",
        "pbar = tqdm(repos)\n",
        "for repo in pbar:\n",
        "    # get folder name\n",
        "    folder_name = repo.split('/')[-1]\n",
        "    # get repo name\n",
        "    repo_name = \"_\".join(repo.split('/')[-2:])\n",
        "    pbar.set_description_str(f\"Processing {repo_name}\")\n",
        "    # clone repo\n",
        "    pbar.set_postfix_str(\"Cloning Repository...\")\n",
        "    subprocess.run([\"git\", \"clone\", repo])\n",
        "    create_init_files(folder_name)\n",
        "    # calculate metrics\n",
        "    pbar.set_postfix_str(f\"Running SourceMeter...\")\n",
        "    subprocess.run([\n",
        "        \"./SourceMeter-10.2.0-x64-Linux/Python/AnalyzerPython\",\n",
        "        \"-pythonBinary=python3.8\",\n",
        "        \"-pythonVersion=3\",\n",
        "        \"-runDCF=False\",\n",
        "        f\"-projectName={repo_name}\",\n",
        "        f\"-projectBaseDir={folder_name}\",\n",
        "        f\"-resultsDir=Results/{repo_name}\"\n",
        "    ])\n",
        "    # # # save to gdrive\n",
        "    # pbar.set_postfix_str(f\"Saving Results to GDrive...\")\n",
        "    subprocess.run(['zip', '-r', 'SMResultsPart1_2.zip', 'Results'])\n",
        "    subprocess.run(['cp', '-r', 'SMResultsPart1_2.zip', 'drive/MyDrive'])\n",
        "    subprocess.run(['rm', '-rf', 'SMResultsPart1_2.zip'])\n",
        "    # delete repository\n",
        "    pbar.set_postfix_str(f\"Deleting repository...\")\n",
        "    subprocess.run(['rm', '-rf', folder_name])"
      ],
      "metadata": {
        "id": "8Vo4QI8NcPLs"
      },
      "execution_count": null,
      "outputs": []
    },
    {
      "cell_type": "code",
      "source": [],
      "metadata": {
        "id": "U_ABTgylOK5o"
      },
      "execution_count": null,
      "outputs": []
    }
  ]
}