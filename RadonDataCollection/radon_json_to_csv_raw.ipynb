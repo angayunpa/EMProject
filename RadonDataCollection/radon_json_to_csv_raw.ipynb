{
 "cells": [
  {
   "cell_type": "code",
   "execution_count": 1,
   "id": "d1c43470",
   "metadata": {},
   "outputs": [],
   "source": [
    "import pandas as pd\n",
    "import json\n",
    "import os\n",
    "from tqdm import tqdm"
   ]
  },
  {
   "cell_type": "code",
   "execution_count": 6,
   "id": "ac868e9b",
   "metadata": {},
   "outputs": [],
   "source": [
    "def get_metrics_from_dict(halstead_metrics, mi_metrics):\n",
    "    mi_index = None\n",
    "    \n",
    "    if 'mi' in mi_metrics.keys():\n",
    "        mi_index = mi_metrics['mi']\n",
    "    \n",
    "    metrics = {\n",
    "        'HCPL': halstead_metrics['calculated_length'],\n",
    "        'HDIF': halstead_metrics['difficulty'],\n",
    "        'HEFF': halstead_metrics['effort'],\n",
    "        'HNDB': halstead_metrics['bugs'],\n",
    "        'HPL':  halstead_metrics['length'],\n",
    "        'HPV':  halstead_metrics['vocabulary'],\n",
    "        'HTRP': halstead_metrics['time'],\n",
    "        'HVOL': halstead_metrics['volume'],\n",
    "        'MI':mi_index\n",
    "    }\n",
    "    \n",
    "    return metrics\n",
    "\n",
    "def json_to_csv(repo_name):\n",
    "    \n",
    "    # Open raw json with halstead metrics\n",
    "    with open(f'Data/Data_raw_json/{repo_name}/Halstead/results.jsonl') as f:\n",
    "        data_halstead = f.readlines()\n",
    "    \n",
    "    # Open raw json with mi metric\n",
    "    with open(f'Data/Data_raw_json/{repo_name}/MI/results.jsonl') as f:\n",
    "        data_mi = f.readlines()\n",
    "    \n",
    "    # Create df with radon metrics columns\n",
    "    df = pd.DataFrame(columns=['HCPL', 'HDIF', 'HEFF', 'HNDB', 'HPL', 'HPV', 'HTRP', 'HVOL', 'MI'])\n",
    "    \n",
    "    # Iterate through json\n",
    "    for idx, _ in enumerate(data_halstead):\n",
    "        \n",
    "        # Load dict halstead\n",
    "        file_halstead_metrics = json.loads(data_halstead[idx])\n",
    "        \n",
    "        # Load dict mi\n",
    "        try:\n",
    "            file_mi_metrics = json.loads(data_mi[idx])\n",
    "        except IndexError:\n",
    "            file_mi_metrics = {'mi': None}\n",
    "        \n",
    "        # Get file name\n",
    "        try:\n",
    "            file_name = list(file_halstead_metrics.keys())[0]\n",
    "        except IndexError:\n",
    "            continue\n",
    "        \n",
    "        \n",
    "        file_halstead_metrics = file_halstead_metrics[file_name]\n",
    "        \n",
    "        try:\n",
    "            file_mi_metrics = file_mi_metrics[file_name]\n",
    "        except KeyError:\n",
    "            file_mi_metrics = {'mi': None}\n",
    "        \n",
    "        # Get function names\n",
    "        try:\n",
    "            func_names = file_halstead_metrics['functions'].keys()\n",
    "        except KeyError:\n",
    "            continue\n",
    "        \n",
    "        # Iterate through functions in file\n",
    "        for func_name in func_names:\n",
    "            new_row = get_metrics_from_dict(file_halstead_metrics['functions'][func_name], file_mi_metrics)\n",
    "            \n",
    "            df = df.append(pd.Series(new_row, name=f\"{repo_name}/{file_name}/{func_name}\"))\n",
    "    \n",
    "    # Calculate mean\n",
    "    mean_mi = df['MI'].mean()\n",
    "    # Fill nans\n",
    "    df['MI'] = df['MI'].fillna(mean_mi)\n",
    "    \n",
    "    # Create dir if not exists\n",
    "    if not os.path.exists(f\"Data/Data_raw_csv/{repo_name}\"):\n",
    "        os.mkdir(f\"Data/Data_raw_csv/{repo_name}\")\n",
    "    # Save csv\n",
    "    df.to_csv(f\"Data/Data_raw_csv/{repo_name}/radon_metrics.csv\")"
   ]
  },
  {
   "cell_type": "code",
   "execution_count": 7,
   "id": "b8db5cdd",
   "metadata": {},
   "outputs": [
    {
     "name": "stderr",
     "output_type": "stream",
     "text": [
      "100%|████████████████████████████████████████████████████████████████████████████████| 102/102 [22:50<00:00, 13.43s/it]\n"
     ]
    }
   ],
   "source": [
    "for repository_name in tqdm(os.listdir(\"Data/Data_raw_json\")):\n",
    "    json_to_csv(repository_name)"
   ]
  },
  {
   "cell_type": "code",
   "execution_count": null,
   "id": "f97c9fa0",
   "metadata": {},
   "outputs": [],
   "source": []
  }
 ],
 "metadata": {
  "kernelspec": {
   "display_name": "Python 3 (ipykernel)",
   "language": "python",
   "name": "python3"
  },
  "language_info": {
   "codemirror_mode": {
    "name": "ipython",
    "version": 3
   },
   "file_extension": ".py",
   "mimetype": "text/x-python",
   "name": "python",
   "nbconvert_exporter": "python",
   "pygments_lexer": "ipython3",
   "version": "3.9.12"
  }
 },
 "nbformat": 4,
 "nbformat_minor": 5
}
