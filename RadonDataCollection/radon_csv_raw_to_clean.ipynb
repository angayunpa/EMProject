{
 "cells": [
  {
   "cell_type": "code",
   "execution_count": 25,
   "id": "66b5a1f6",
   "metadata": {},
   "outputs": [],
   "source": [
    "import pandas as pd\n",
    "import json\n",
    "import os\n",
    "import seaborn as sns"
   ]
  },
  {
   "cell_type": "code",
   "execution_count": 11,
   "id": "c0802ae4",
   "metadata": {},
   "outputs": [],
   "source": [
    "# Create clean csv\n",
    "clean_df = pd.DataFrame(columns=['HCPL', 'HDIF', 'HEFF', 'HNDB', 'HPL', 'HPV', 'HTRP', 'HVOL', 'MI'])\n",
    "# Iterate through repos\n",
    "for repository_name in os.listdir(\"Data/Data_raw_csv\"):\n",
    "    # Load raw csv\n",
    "    raw_df = pd.read_csv(f\"Data/Data_raw_csv/{repository_name}/radon_metrics.csv\", index_col=0)\n",
    "    # Calc mean\n",
    "    series = raw_df.mean()\n",
    "    series.name = repository_name\n",
    "    # Append mean\n",
    "    clean_df = clean_df.append(series)"
   ]
  },
  {
   "cell_type": "code",
   "execution_count": 17,
   "id": "b0ff06eb",
   "metadata": {},
   "outputs": [],
   "source": [
    "clean_df = clean_df.reset_index().rename(columns={'index': 'repository'})"
   ]
  },
  {
   "cell_type": "code",
   "execution_count": null,
   "id": "cb41e5ac",
   "metadata": {},
   "outputs": [],
   "source": [
    "clean_df"
   ]
  },
  {
   "cell_type": "code",
   "execution_count": 19,
   "id": "ccecbc8d",
   "metadata": {},
   "outputs": [],
   "source": [
    "clean_df.to_csv('method_metrics_radon.csv')"
   ]
  },
  {
   "cell_type": "code",
   "execution_count": 21,
   "id": "1c945e0f",
   "metadata": {},
   "outputs": [],
   "source": [
    "clean_df.describe().to_csv('method_metrics_radon_describe.csv')"
   ]
  },
  {
   "cell_type": "code",
   "execution_count": 23,
   "id": "cab7dc2d",
   "metadata": {},
   "outputs": [],
   "source": [
    "clean_df.corr().to_csv('method_metrics_radon_corr.csv')"
   ]
  },
  {
   "cell_type": "code",
   "execution_count": 26,
   "id": "a5226fc1",
   "metadata": {},
   "outputs": [
    {
     "data": {
      "text/plain": [
       "<AxesSubplot:>"
      ]
     },
     "execution_count": 26,
     "metadata": {},
     "output_type": "execute_result"
    },
    {
     "data": {
      "image/png": "[encoded data removed]",
      "text/plain": [
       "<Figure size 432x288 with 2 Axes>"
      ]
     },
     "metadata": {
      "needs_background": "light"
     },
     "output_type": "display_data"
    }
   ],
   "source": [
    "sns.heatmap(clean_df.corr())"
   ]
  },
  {
   "cell_type": "code",
   "execution_count": 27,
   "id": "29a4faf5",
   "metadata": {},
   "outputs": [
    {
     "data": {
      "text/html": [
       "<div>\n",
       "<style scoped>\n",
       "    .dataframe tbody tr th:only-of-type {\n",
       "        vertical-align: middle;\n",
       "    }\n",
       "\n",
       "    .dataframe tbody tr th {\n",
       "        vertical-align: top;\n",
       "    }\n",
       "\n",
       "    .dataframe thead th {\n",
       "        text-align: right;\n",
       "    }\n",
       "</style>\n",
       "<table border=\"1\" class=\"dataframe\">\n",
       "  <thead>\n",
       "    <tr style=\"text-align: right;\">\n",
       "      <th></th>\n",
       "      <th>HCPL</th>\n",
       "      <th>HDIF</th>\n",
       "      <th>HEFF</th>\n",
       "      <th>HNDB</th>\n",
       "      <th>HPL</th>\n",
       "      <th>HPV</th>\n",
       "      <th>HTRP</th>\n",
       "      <th>HVOL</th>\n",
       "      <th>MI</th>\n",
       "    </tr>\n",
       "  </thead>\n",
       "  <tbody>\n",
       "    <tr>\n",
       "      <th>HCPL</th>\n",
       "      <td>1.000000</td>\n",
       "      <td>0.829259</td>\n",
       "      <td>0.909630</td>\n",
       "      <td>0.994923</td>\n",
       "      <td>0.982229</td>\n",
       "      <td>0.976322</td>\n",
       "      <td>0.909630</td>\n",
       "      <td>0.994923</td>\n",
       "      <td>-0.180097</td>\n",
       "    </tr>\n",
       "    <tr>\n",
       "      <th>HDIF</th>\n",
       "      <td>0.829259</td>\n",
       "      <td>1.000000</td>\n",
       "      <td>0.838878</td>\n",
       "      <td>0.842167</td>\n",
       "      <td>0.901788</td>\n",
       "      <td>0.911905</td>\n",
       "      <td>0.838878</td>\n",
       "      <td>0.842167</td>\n",
       "      <td>-0.186498</td>\n",
       "    </tr>\n",
       "    <tr>\n",
       "      <th>HEFF</th>\n",
       "      <td>0.909630</td>\n",
       "      <td>0.838878</td>\n",
       "      <td>1.000000</td>\n",
       "      <td>0.934612</td>\n",
       "      <td>0.924610</td>\n",
       "      <td>0.893387</td>\n",
       "      <td>1.000000</td>\n",
       "      <td>0.934612</td>\n",
       "      <td>-0.172593</td>\n",
       "    </tr>\n",
       "    <tr>\n",
       "      <th>HNDB</th>\n",
       "      <td>0.994923</td>\n",
       "      <td>0.842167</td>\n",
       "      <td>0.934612</td>\n",
       "      <td>1.000000</td>\n",
       "      <td>0.989140</td>\n",
       "      <td>0.972609</td>\n",
       "      <td>0.934612</td>\n",
       "      <td>1.000000</td>\n",
       "      <td>-0.191779</td>\n",
       "    </tr>\n",
       "    <tr>\n",
       "      <th>HPL</th>\n",
       "      <td>0.982229</td>\n",
       "      <td>0.901788</td>\n",
       "      <td>0.924610</td>\n",
       "      <td>0.989140</td>\n",
       "      <td>1.000000</td>\n",
       "      <td>0.991153</td>\n",
       "      <td>0.924610</td>\n",
       "      <td>0.989140</td>\n",
       "      <td>-0.215897</td>\n",
       "    </tr>\n",
       "    <tr>\n",
       "      <th>HPV</th>\n",
       "      <td>0.976322</td>\n",
       "      <td>0.911905</td>\n",
       "      <td>0.893387</td>\n",
       "      <td>0.972609</td>\n",
       "      <td>0.991153</td>\n",
       "      <td>1.000000</td>\n",
       "      <td>0.893387</td>\n",
       "      <td>0.972609</td>\n",
       "      <td>-0.215662</td>\n",
       "    </tr>\n",
       "    <tr>\n",
       "      <th>HTRP</th>\n",
       "      <td>0.909630</td>\n",
       "      <td>0.838878</td>\n",
       "      <td>1.000000</td>\n",
       "      <td>0.934612</td>\n",
       "      <td>0.924610</td>\n",
       "      <td>0.893387</td>\n",
       "      <td>1.000000</td>\n",
       "      <td>0.934612</td>\n",
       "      <td>-0.172593</td>\n",
       "    </tr>\n",
       "    <tr>\n",
       "      <th>HVOL</th>\n",
       "      <td>0.994923</td>\n",
       "      <td>0.842167</td>\n",
       "      <td>0.934612</td>\n",
       "      <td>1.000000</td>\n",
       "      <td>0.989140</td>\n",
       "      <td>0.972609</td>\n",
       "      <td>0.934612</td>\n",
       "      <td>1.000000</td>\n",
       "      <td>-0.191779</td>\n",
       "    </tr>\n",
       "    <tr>\n",
       "      <th>MI</th>\n",
       "      <td>-0.180097</td>\n",
       "      <td>-0.186498</td>\n",
       "      <td>-0.172593</td>\n",
       "      <td>-0.191779</td>\n",
       "      <td>-0.215897</td>\n",
       "      <td>-0.215662</td>\n",
       "      <td>-0.172593</td>\n",
       "      <td>-0.191779</td>\n",
       "      <td>1.000000</td>\n",
       "    </tr>\n",
       "  </tbody>\n",
       "</table>\n",
       "</div>"
      ],
      "text/plain": [
       "          HCPL      HDIF      HEFF      HNDB       HPL       HPV      HTRP  \\\n",
       "HCPL  1.000000  0.829259  0.909630  0.994923  0.982229  0.976322  0.909630   \n",
       "HDIF  0.829259  1.000000  0.838878  0.842167  0.901788  0.911905  0.838878   \n",
       "HEFF  0.909630  0.838878  1.000000  0.934612  0.924610  0.893387  1.000000   \n",
       "HNDB  0.994923  0.842167  0.934612  1.000000  0.989140  0.972609  0.934612   \n",
       "HPL   0.982229  0.901788  0.924610  0.989140  1.000000  0.991153  0.924610   \n",
       "HPV   0.976322  0.911905  0.893387  0.972609  0.991153  1.000000  0.893387   \n",
       "HTRP  0.909630  0.838878  1.000000  0.934612  0.924610  0.893387  1.000000   \n",
       "HVOL  0.994923  0.842167  0.934612  1.000000  0.989140  0.972609  0.934612   \n",
       "MI   -0.180097 -0.186498 -0.172593 -0.191779 -0.215897 -0.215662 -0.172593   \n",
       "\n",
       "          HVOL        MI  \n",
       "HCPL  0.994923 -0.180097  \n",
       "HDIF  0.842167 -0.186498  \n",
       "HEFF  0.934612 -0.172593  \n",
       "HNDB  1.000000 -0.191779  \n",
       "HPL   0.989140 -0.215897  \n",
       "HPV   0.972609 -0.215662  \n",
       "HTRP  0.934612 -0.172593  \n",
       "HVOL  1.000000 -0.191779  \n",
       "MI   -0.191779  1.000000  "
      ]
     },
     "execution_count": 27,
     "metadata": {},
     "output_type": "execute_result"
    }
   ],
   "source": [
    "clean_df.corr()"
   ]
  },
  {
   "cell_type": "code",
   "execution_count": null,
   "id": "e30bad04",
   "metadata": {},
   "outputs": [],
   "source": []
  }
 ],
 "metadata": {
  "kernelspec": {
   "display_name": "Python 3 (ipykernel)",
   "language": "python",
   "name": "python3"
  },
  "language_info": {
   "codemirror_mode": {
    "name": "ipython",
    "version": 3
   },
   "file_extension": ".py",
   "mimetype": "text/x-python",
   "name": "python",
   "nbconvert_exporter": "python",
   "pygments_lexer": "ipython3",
   "version": "3.9.12"
  }
 },
 "nbformat": 4,
 "nbformat_minor": 5
}
